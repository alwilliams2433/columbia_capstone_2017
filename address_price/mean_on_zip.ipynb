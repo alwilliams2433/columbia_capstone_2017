{
 "cells": [
  {
   "cell_type": "code",
   "execution_count": 10,
   "metadata": {
    "collapsed": true
   },
   "outputs": [],
   "source": [
    "#This file is used to calculate the mean price for each zip code area\n",
    "import pandas as pd\n",
    "import math\n",
    "price = pd.read_csv(\"address_price_zip_cleansed.csv\")"
   ]
  },
  {
   "cell_type": "code",
   "execution_count": 18,
   "metadata": {
    "collapsed": false
   },
   "outputs": [],
   "source": [
    "dic = {}\n",
    "for index, row in price.iterrows():\n",
    "    if math.isnan(row['price']):\n",
    "        continue\n",
    "    else:\n",
    "        key = row['zipcode']\n",
    "        if key in dic:\n",
    "            dic[key][0] += 1\n",
    "            dic[key][1] += row['price']\n",
    "        else:\n",
    "            dic[row['zipcode']] = [1, row['price']]\n"
   ]
  },
  {
   "cell_type": "code",
   "execution_count": 27,
   "metadata": {
    "collapsed": true
   },
   "outputs": [],
   "source": [
    "zip_price = {}\n",
    "for zip_code in dic:\n",
    "    zip_price[zip_code] = dic[zip_code][1]/dic[zip_code][0]\n",
    "\n",
    "result = pd.DataFrame(list(zip_price.items()), columns=['zipcode', 'average_price'])\n",
    "result.to_csv('mean_on_zip.csv')\n",
    "\n"
   ]
  },
  {
   "cell_type": "code",
   "execution_count": null,
   "metadata": {
    "collapsed": true
   },
   "outputs": [],
   "source": []
  }
 ],
 "metadata": {
  "kernelspec": {
   "display_name": "Python 3",
   "language": "python",
   "name": "python3"
  },
  "language_info": {
   "codemirror_mode": {
    "name": "ipython",
    "version": 3
   },
   "file_extension": ".py",
   "mimetype": "text/x-python",
   "name": "python",
   "nbconvert_exporter": "python",
   "pygments_lexer": "ipython3",
   "version": "3.6.0"
  }
 },
 "nbformat": 4,
 "nbformat_minor": 2
}
