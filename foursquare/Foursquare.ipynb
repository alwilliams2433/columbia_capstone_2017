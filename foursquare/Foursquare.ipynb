{
 "cells": [
  {
   "cell_type": "code",
   "execution_count": 1,
   "metadata": {
    "collapsed": true
   },
   "outputs": [],
   "source": [
    "import requests\n",
    "import json\n",
    "import pandas as pd"
   ]
  },
  {
   "cell_type": "code",
   "execution_count": 2,
   "metadata": {},
   "outputs": [],
   "source": [
    "url = 'https://api.foursquare.com/v2/venues/search'\n",
    "dictionary={}\n",
    "list_of_names=[]\n",
    "list_of_ids=[]\n",
    "zip_codes=[10026, 10027, 10030, 10037, 10039,10001, 10011, 10018, 10019, 10020, 10036,10029, 10035,10010, 10016, 10017, 10022,10012, 10013, 10014,\n",
    "           10004, 10005, 10006, 10007, 10038, 10280,10002, 10003, 10009,10021, 10028, 10044, 10065, 10075, 10128,10023, 10024, 10025,10031, 10032, 10033, 10034, 10040]\n",
    "for zipcode in zip_codes:\n",
    "    params = dict(\n",
    "      client_id='FEIGYDUBLGCICZYQG2124RNB3M10AHZZ2SVALLZ50TE55YDB',\n",
    "      client_secret='FARUQQBQKATQPWNOPFLIPPO22RWYGBN3GS5XQIRTPVOYYFFM',\n",
    "      v='20170801',\n",
    "    #   ne='40.73,-73.99',\n",
    "    #   sw='40.68,-74.04',\n",
    "      near=str(zipcode),\n",
    "      #query='chinese',\n",
    "      limit=5000,\n",
    "      intent='browse',\n",
    "      #categoryId='4bf58dd8d48988d145941735'\n",
    "      categoryId='4bf58dd8d48988d145941735'\n",
    "    )\n",
    "    \n",
    "    resp = requests.get(url=url, params=params)\n",
    "    data = json.loads(resp.text)\n",
    "    \n",
    "    length=len(data['response']['venues'])\n",
    "    \n",
    "    for i in range(0,length):\n",
    "        list_of_names.append(data['response']['venues'][i]['name'])\n",
    "        list_of_ids.append(data['response']['venues'][i]['id'])\n",
    "    dictionary[zipcode]=length\n",
    "\n",
    "\n"
   ]
  },
  {
   "cell_type": "code",
   "execution_count": 3,
   "metadata": {},
   "outputs": [],
   "source": [
    "#pd.DataFrame(['a']list_of_names,list_of_ids,columns=['a','b'])\n",
    "\n",
    "chinese_restaurants=pd.DataFrame(list_of_names,columns=['name'])\n",
    "chinese_restaurants['id']=list_of_ids"
   ]
  },
  {
   "cell_type": "code",
   "execution_count": 4,
   "metadata": {
    "collapsed": true
   },
   "outputs": [],
   "source": [
    "chinese_restaurants['id']=list_of_ids"
   ]
  },
  {
   "cell_type": "code",
   "execution_count": 6,
   "metadata": {},
   "outputs": [],
   "source": [
    "newurl = 'https://api.foursquare.com/v2/venues/'\n",
    "list_of_pricetier=[]\n",
    "list_of_userscount=[]\n",
    "list_of_visitscount=[]\n",
    "list_of_checkinscount=[]\n",
    "list_of_tipcount=[]\n",
    "\n",
    "for ids in list_of_ids:\n",
    "    \n",
    "    newparams = dict(\n",
    "        client_id='DK43IMDNDJZZVM23NVJGARXSSJYS4H1PH2CDLKXQBD5EPTKC',\n",
    "        client_secret='2JF1PL21AR4KQFLOPTHEJMY2POHJOR0CEQPQ155JVELJPUIQ',\n",
    "        v='20170801',\n",
    "    )\n",
    "    \n",
    "    newresp = requests.get(url=newurl+ids, params=newparams)\n",
    "    newdata = json.loads(newresp.text)\n",
    "    \n",
    "    list_of_userscount.append(newdata['response']['venue']['stats']['usersCount'])\n",
    "    list_of_visitscount.append(newdata['response']['venue']['stats']['visitsCount'])\n",
    "    list_of_checkinscount.append(newdata['response']['venue']['stats']['checkinsCount'])\n",
    "    list_of_tipcount.append(newdata['response']['venue']['stats']['tipCount'])\n",
    "\n",
    "    \n",
    "    "
   ]
  },
  {
   "cell_type": "code",
   "execution_count": 62,
   "metadata": {},
   "outputs": [],
   "source": [
    "list_of_phonenumber =[]\n",
    "list_of_lat =[]\n",
    "list_of_long = []\n",
    "list_of_zip = []\n",
    "list_of_rating = []\n",
    "\n",
    "for ids in list_of_ids:\n",
    "    \n",
    "    newparams = dict(\n",
    "        client_id='DK43IMDNDJZZVM23NVJGARXSSJYS4H1PH2CDLKXQBD5EPTKC',\n",
    "        client_secret='2JF1PL21AR4KQFLOPTHEJMY2POHJOR0CEQPQ155JVELJPUIQ',\n",
    "        v='20170801',\n",
    "    )\n",
    "    \n",
    "    newresp = requests.get(url=newurl+ids, params=newparams)\n",
    "    newdata = json.loads(newresp.text)\n",
    "    \n",
    "    #list_of_phonenumber.append(newdata['response']['venue']['contact']['phone'])\n",
    "    list_of_lat.append(newdata['response']['venue']['location']['lat'])\n",
    "    list_of_long.append(newdata['response']['venue']['location']['lng'])\n",
    "    try: \n",
    "        zipcode = newdata['response']['venue']['location']['postalCode']\n",
    "        rating = newdata['response']['venue']['rating']\n",
    "    except KeyError:\n",
    "        zipcode = \"\"\n",
    "        rating = \"\"\n",
    "    list_of_zip.append(zipcode)\n",
    "    list_of_rating.append(rating)\n",
    "\n"
   ]
  },
  {
   "cell_type": "code",
   "execution_count": null,
   "metadata": {},
   "outputs": [],
   "source": [
    "chinese_restaurants=pd.DataFrame(list_of_names,columns=['name'])\n",
    "chinese_restaurants['id']=list_of_ids\n",
    "chinese_restaurants['lat']=list_of_lat\n",
    "chinese_restaurants['lng']=list_of_long\n",
    "chinese_restaurants['userscount']=list_of_userscount\n",
    "chinese_restaurants['visitscount']=list_of_visitscount\n",
    "chinese_restaurants['checkinscount']=list_of_checkinscount\n",
    "chinese_restaurants['tipcount']=list_of_tipcount\n",
    "chinese_restaurants['zipcode']=list_of_zip\n",
    "chinese_restaurants['rating']=list_of_rating"
   ]
  },
  {
   "cell_type": "code",
   "execution_count": 64,
   "metadata": {},
   "outputs": [],
   "source": [
    "chinese_restaurants.to_csv('foursquare.csv')"
   ]
  },
  {
   "cell_type": "code",
   "execution_count": null,
   "metadata": {
    "collapsed": true
   },
   "outputs": [],
   "source": []
  }
 ],
 "metadata": {
  "kernelspec": {
   "display_name": "Python 3",
   "language": "python",
   "name": "python3"
  },
  "language_info": {
   "codemirror_mode": {
    "name": "ipython",
    "version": 3
   },
   "file_extension": ".py",
   "mimetype": "text/x-python",
   "name": "python",
   "nbconvert_exporter": "python",
   "pygments_lexer": "ipython3",
   "version": "3.6.0"
  }
 },
 "nbformat": 4,
 "nbformat_minor": 2
}
