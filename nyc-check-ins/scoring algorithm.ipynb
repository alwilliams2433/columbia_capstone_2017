{
 "cells": [
  {
   "cell_type": "markdown",
   "metadata": {
    "collapsed": true
   },
   "source": [
    "\n",
    "## Scoring algorithm"
   ]
  },
  {
   "cell_type": "markdown",
   "metadata": {
    "collapsed": true
   },
   "source": [
    "##### Create continuous same size bins based on individual factor distribution (custom categories)\n",
    "\n",
    "- assuming dataframe where every row is indexed by neighborhood\n",
    "- columns: pop_density (1-5), rent (1-5), competition(1-5), connectivity (1-5), avg. price (1-4), avg. rating (0-5)get user inputs and weights\n",
    "- add a factors of no. of reviews/no. of checkins?"
   ]
  },
  {
   "cell_type": "code",
   "execution_count": 2,
   "metadata": {
    "collapsed": true
   },
   "outputs": [],
   "source": [
    "import pandas as pd"
   ]
  },
  {
   "cell_type": "code",
   "execution_count": 41,
   "metadata": {},
   "outputs": [
    {
     "name": "stdout",
     "output_type": "stream",
     "text": [
      "[86 89 87 43 83  8  2  9  5 69 73 76 95 25 56  0 18  4 17 31 13 77 93 97 72\n",
      " 55 47 30 92 42 60 98 64 49 20 88 41 79 59  3 40 96 62 21 84 37 32 71 63 48\n",
      " 78 81 74 61 28 53  1 50 45 85 94 15 38 44 22 29 51 33 26  6 82 58  7 24 14\n",
      " 27 91 54 75 67 99 68 19 90 57 70 52 46 39 36 35 23 10 11 12 34 66 80 16 65]\n"
     ]
    }
   ],
   "source": [
    "u_n = 10 #user enters no. of results he wants to see\n",
    "category = 'Chinese Restaurant' #user enters category\n",
    "scores_matrix = pd.read_csv('neighbor_category_scores_matrix.csv')\n",
    "\n",
    "res = scores_matrix[category].values.argsort()[::-1][:100]\n",
    "scores = pd.DataFrame(scores_matrix.ix[res, category])\n",
    "neighbors = res\n",
    "unsup_scores = scores[category].values\n",
    "print(neighbors)"
   ]
  },
  {
   "cell_type": "markdown",
   "metadata": {},
   "source": [
    "### For all categories other than Chinese food"
   ]
  },
  {
   "cell_type": "code",
   "execution_count": 44,
   "metadata": {},
   "outputs": [
    {
     "name": "stdout",
     "output_type": "stream",
     "text": [
      "    Unnamed: 0        lat        lng\n",
      "86          86  40.680512 -73.873323\n",
      "89          89  40.714038 -73.744252\n",
      "87          87  40.883641 -73.868689\n",
      "43          43  40.701749 -73.920029\n",
      "83          83  40.757970 -73.831294\n",
      "8            8  40.759391 -74.217670\n",
      "2            2  40.672290 -73.731013\n",
      "9            9  40.719204 -73.992479\n",
      "5            5  40.746493 -73.890381\n",
      "69          69  40.739374 -74.062017\n"
     ]
    }
   ],
   "source": [
    "locations = pd.read_csv(\"centroids_of_neighborhoods.csv\")\n",
    "\n",
    "recommended_neighbors = neighbors[:u_n]\n",
    "recommended_locations = locations.ix[recommended_neighbors,]\n",
    "print(recommended_locations)"
   ]
  },
  {
   "cell_type": "markdown",
   "metadata": {},
   "source": [
    "### For Chinese food"
   ]
  },
  {
   "cell_type": "code",
   "execution_count": 31,
   "metadata": {
    "collapsed": true
   },
   "outputs": [],
   "source": [
    "\n",
    "alpha = 1\n",
    "\n",
    "def pop_score(df, n,u_pop):\n",
    "    return np.exp(alpha * abs(df.ix[n,'population_density'],u_pop))\n",
    "\n",
    "def rent_score(df, n, u_rent):\n",
    "    \n",
    "    if df.ix[n,'rent'] <= u_rent:\n",
    "        return 1\n",
    "    \n",
    "    else:\n",
    "        return np.exp(alpha * abs(df.ix[n,'rent'],u_rent))\n",
    "    \n",
    "def comp_score(df, n, u_comp):\n",
    "    return np.exp(alpha * abs(df.ix[n,'competition'],u_comp))\n",
    "\n",
    "def conn_score(df, n, u_conn):\n",
    "    \n",
    "    if df[n]['connectivity'] >= u_conn:\n",
    "        return 1\n",
    "    \n",
    "    else:\n",
    "        return np.exp(alpha * abs(df.ix[n,'connectivity'],u_conn))\n",
    "\n",
    "#assuming user wants to open up in a location where he is not competing on price?\n",
    "def price_score(df, n, u_price):\n",
    "    return np.exp(alpha * abs(df.ix[n,'avg_price'],u_price))\n"
   ]
  },
  {
   "cell_type": "code",
   "execution_count": null,
   "metadata": {
    "collapsed": true
   },
   "outputs": [],
   "source": [
    "# all score values should be between 0 and 1\n",
    "# all weights should be between 0 and 1\n",
    "\n",
    "\n",
    "def score(df, n, weights, u_pop, u_rent, u_comp, u_conn, u_price, unsup_score):\n",
    "    \n",
    "    a = pop_score(df,n,u_pop)\n",
    "    b = rent_score(df, n, u_rent)\n",
    "    c = comp_score(df, n, u_comp)\n",
    "    d = conn_score(df, n, u_conn)\n",
    "    e = price_score(df, n, u_price)\n",
    "    \n",
    "    final_score = (weights[0] * unsup_score[n]) + (weights[1] * a)+ (weights[2] * b) + (weights[3] * c) + \n",
    "    (weights[4] * d) + (weights[5] * e) + (weights[6] * df.ix[n,'rating']/5) \n",
    "    \n",
    "    return final_score"
   ]
  },
  {
   "cell_type": "code",
   "execution_count": 80,
   "metadata": {},
   "outputs": [
    {
     "name": "stdout",
     "output_type": "stream",
     "text": [
      "[ 0.  0.  0.  0.  0.  0.  0.  0.  0.  0.  0.  0.  0.  0.  0.  0.  0.  0.\n",
      "  0.  0.  0.  0.  0.  0.  0.  0.  0.  0.  0.  0.  0.  0.  0.  0.  0.  0.\n",
      "  0.  0.  0.  0.  0.  0.  0.  0.  0.  0.  0.  0.  0.  0.  0.  0.  0.  0.\n",
      "  0.  0.  0.  0.  0.  0.  0.  0.  0.  0.  0.  0.  0.  0.  0.  0.  0.  0.\n",
      "  0.  0.  0.  0.  0.  0.  0.  0.  0.  0.  0.  0.  0.  0.  0.  0.  0.  0.\n",
      "  0.  0.  0.  0.  0.  0.  0.  0.  0.  0.]\n"
     ]
    }
   ],
   "source": [
    "# evaluation - no. of existing such restaurants , no. of resturants that closed down\n",
    "# for recommended locations, just pull from big dataframe\n",
    "\n",
    "#take weights, u_pop, u_rent, u_comp, u_conn, u_price from user\n",
    "prefscores = np.zeros((100,))\n",
    "\n",
    "for n in df.index.values:\n",
    "    prefscores[n] = score(df, n, weights, u_pop, u_rent, u_comp, u_conn, u_price, unsup_score)\n",
    "    \n",
    "recommended_neighbors = prefscores.argsort()[::-1][:u_n]\n",
    "recommended_scores = prefscores[recommended_neighbors]"
   ]
  },
  {
   "cell_type": "code",
   "execution_count": 36,
   "metadata": {},
   "outputs": [],
   "source": [
    "recommended_locations = locations.ix[recommended_neighbors,]"
   ]
  },
  {
   "cell_type": "code",
   "execution_count": null,
   "metadata": {
    "collapsed": true
   },
   "outputs": [],
   "source": []
  }
 ],
 "metadata": {
  "kernelspec": {
   "display_name": "Python [conda env:py35]",
   "language": "python",
   "name": "conda-env-py35-py"
  },
  "language_info": {
   "codemirror_mode": {
    "name": "ipython",
    "version": 3
   },
   "file_extension": ".py",
   "mimetype": "text/x-python",
   "name": "python",
   "nbconvert_exporter": "python",
   "pygments_lexer": "ipython3",
   "version": "3.5.2"
  }
 },
 "nbformat": 4,
 "nbformat_minor": 2
}
