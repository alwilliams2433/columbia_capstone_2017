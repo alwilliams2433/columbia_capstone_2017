{
 "cells": [
  {
   "cell_type": "code",
   "execution_count": 2,
   "metadata": {
    "collapsed": true
   },
   "outputs": [],
   "source": [
    "import pandas as pd"
   ]
  },
  {
   "cell_type": "code",
   "execution_count": 132,
   "metadata": {
    "collapsed": false
   },
   "outputs": [],
   "source": [
    "rank = pd.read_csv('rank_df.csv')\n",
    "bus = pd.read_csv('venues_neighborid.csv')"
   ]
  },
  {
   "cell_type": "code",
   "execution_count": 133,
   "metadata": {
    "collapsed": false
   },
   "outputs": [
    {
     "data": {
      "text/html": [
       "<div>\n",
       "<table border=\"1\" class=\"dataframe\">\n",
       "  <thead>\n",
       "    <tr style=\"text-align: right;\">\n",
       "      <th></th>\n",
       "      <th>Unnamed: 0</th>\n",
       "      <th>Unnamed: 0.1</th>\n",
       "      <th>neighborhood</th>\n",
       "      <th>lat</th>\n",
       "      <th>lng</th>\n",
       "      <th>Manhattan</th>\n",
       "      <th>competitors</th>\n",
       "      <th>rating</th>\n",
       "      <th>review_count</th>\n",
       "      <th>rent</th>\n",
       "      <th>unsupervised_score</th>\n",
       "      <th>price</th>\n",
       "      <th>half-mile_sub_count</th>\n",
       "      <th>competitors_rank</th>\n",
       "      <th>half-mile_sub_count_rank</th>\n",
       "      <th>rent_rank</th>\n",
       "      <th>price_rank</th>\n",
       "      <th>unsupervised_score_rank</th>\n",
       "      <th>review_count_rank</th>\n",
       "      <th>rating_rank</th>\n",
       "    </tr>\n",
       "  </thead>\n",
       "  <tbody>\n",
       "    <tr>\n",
       "      <th>0</th>\n",
       "      <td>2</td>\n",
       "      <td>2</td>\n",
       "      <td>2</td>\n",
       "      <td>40.774802</td>\n",
       "      <td>-73.959325</td>\n",
       "      <td>1</td>\n",
       "      <td>0.980392</td>\n",
       "      <td>0.766667</td>\n",
       "      <td>0.330335</td>\n",
       "      <td>0.715101</td>\n",
       "      <td>0.033941</td>\n",
       "      <td>0.240000</td>\n",
       "      <td>0.224490</td>\n",
       "      <td>16</td>\n",
       "      <td>30</td>\n",
       "      <td>22</td>\n",
       "      <td>32</td>\n",
       "      <td>42</td>\n",
       "      <td>43</td>\n",
       "      <td>43</td>\n",
       "    </tr>\n",
       "    <tr>\n",
       "      <th>1</th>\n",
       "      <td>6</td>\n",
       "      <td>6</td>\n",
       "      <td>6</td>\n",
       "      <td>40.724874</td>\n",
       "      <td>-73.995243</td>\n",
       "      <td>1</td>\n",
       "      <td>0.960784</td>\n",
       "      <td>0.833333</td>\n",
       "      <td>0.377477</td>\n",
       "      <td>0.625787</td>\n",
       "      <td>0.058375</td>\n",
       "      <td>0.100000</td>\n",
       "      <td>0.438776</td>\n",
       "      <td>28</td>\n",
       "      <td>43</td>\n",
       "      <td>23</td>\n",
       "      <td>33</td>\n",
       "      <td>34</td>\n",
       "      <td>10</td>\n",
       "      <td>45</td>\n",
       "    </tr>\n",
       "    <tr>\n",
       "      <th>2</th>\n",
       "      <td>13</td>\n",
       "      <td>13</td>\n",
       "      <td>13</td>\n",
       "      <td>40.821264</td>\n",
       "      <td>-73.953571</td>\n",
       "      <td>1</td>\n",
       "      <td>0.941176</td>\n",
       "      <td>0.793651</td>\n",
       "      <td>0.030270</td>\n",
       "      <td>0.923605</td>\n",
       "      <td>0.026746</td>\n",
       "      <td>0.600000</td>\n",
       "      <td>0.204082</td>\n",
       "      <td>9</td>\n",
       "      <td>26</td>\n",
       "      <td>28</td>\n",
       "      <td>2</td>\n",
       "      <td>33</td>\n",
       "      <td>21</td>\n",
       "      <td>25</td>\n",
       "    </tr>\n",
       "    <tr>\n",
       "      <th>3</th>\n",
       "      <td>15</td>\n",
       "      <td>15</td>\n",
       "      <td>15</td>\n",
       "      <td>40.756320</td>\n",
       "      <td>-73.983807</td>\n",
       "      <td>1</td>\n",
       "      <td>0.941176</td>\n",
       "      <td>0.765432</td>\n",
       "      <td>0.335535</td>\n",
       "      <td>0.745986</td>\n",
       "      <td>0.034413</td>\n",
       "      <td>0.377778</td>\n",
       "      <td>1.000000</td>\n",
       "      <td>39</td>\n",
       "      <td>8</td>\n",
       "      <td>9</td>\n",
       "      <td>18</td>\n",
       "      <td>21</td>\n",
       "      <td>35</td>\n",
       "      <td>10</td>\n",
       "    </tr>\n",
       "    <tr>\n",
       "      <th>4</th>\n",
       "      <td>29</td>\n",
       "      <td>29</td>\n",
       "      <td>29</td>\n",
       "      <td>40.706195</td>\n",
       "      <td>-74.012400</td>\n",
       "      <td>1</td>\n",
       "      <td>0.960784</td>\n",
       "      <td>0.688889</td>\n",
       "      <td>0.122409</td>\n",
       "      <td>0.777625</td>\n",
       "      <td>0.032687</td>\n",
       "      <td>0.400000</td>\n",
       "      <td>0.806122</td>\n",
       "      <td>37</td>\n",
       "      <td>35</td>\n",
       "      <td>8</td>\n",
       "      <td>13</td>\n",
       "      <td>24</td>\n",
       "      <td>34</td>\n",
       "      <td>24</td>\n",
       "    </tr>\n",
       "  </tbody>\n",
       "</table>\n",
       "</div>"
      ],
      "text/plain": [
       "   Unnamed: 0  Unnamed: 0.1  neighborhood        lat        lng  Manhattan  \\\n",
       "0           2             2             2  40.774802 -73.959325          1   \n",
       "1           6             6             6  40.724874 -73.995243          1   \n",
       "2          13            13            13  40.821264 -73.953571          1   \n",
       "3          15            15            15  40.756320 -73.983807          1   \n",
       "4          29            29            29  40.706195 -74.012400          1   \n",
       "\n",
       "   competitors    rating  review_count      rent  unsupervised_score  \\\n",
       "0     0.980392  0.766667      0.330335  0.715101            0.033941   \n",
       "1     0.960784  0.833333      0.377477  0.625787            0.058375   \n",
       "2     0.941176  0.793651      0.030270  0.923605            0.026746   \n",
       "3     0.941176  0.765432      0.335535  0.745986            0.034413   \n",
       "4     0.960784  0.688889      0.122409  0.777625            0.032687   \n",
       "\n",
       "      price  half-mile_sub_count  competitors_rank  half-mile_sub_count_rank  \\\n",
       "0  0.240000             0.224490                16                        30   \n",
       "1  0.100000             0.438776                28                        43   \n",
       "2  0.600000             0.204082                 9                        26   \n",
       "3  0.377778             1.000000                39                         8   \n",
       "4  0.400000             0.806122                37                        35   \n",
       "\n",
       "   rent_rank  price_rank  unsupervised_score_rank  review_count_rank  \\\n",
       "0         22          32                       42                 43   \n",
       "1         23          33                       34                 10   \n",
       "2         28           2                       33                 21   \n",
       "3          9          18                       21                 35   \n",
       "4          8          13                       24                 34   \n",
       "\n",
       "   rating_rank  \n",
       "0           43  \n",
       "1           45  \n",
       "2           25  \n",
       "3           10  \n",
       "4           24  "
      ]
     },
     "execution_count": 133,
     "metadata": {},
     "output_type": "execute_result"
    }
   ],
   "source": [
    "rank.head()"
   ]
  },
  {
   "cell_type": "code",
   "execution_count": 134,
   "metadata": {
    "collapsed": false
   },
   "outputs": [
    {
     "data": {
      "text/html": [
       "<div>\n",
       "<table border=\"1\" class=\"dataframe\">\n",
       "  <thead>\n",
       "    <tr style=\"text-align: right;\">\n",
       "      <th></th>\n",
       "      <th>Unnamed: 0</th>\n",
       "      <th>userId</th>\n",
       "      <th>venueId</th>\n",
       "      <th>venueCategoryId</th>\n",
       "      <th>venueCategory</th>\n",
       "      <th>latitude</th>\n",
       "      <th>longitude</th>\n",
       "      <th>neighborhood_id</th>\n",
       "    </tr>\n",
       "  </thead>\n",
       "  <tbody>\n",
       "    <tr>\n",
       "      <th>0</th>\n",
       "      <td>0</td>\n",
       "      <td>470</td>\n",
       "      <td>49bbd6c0f964a520f4531fe3</td>\n",
       "      <td>4bf58dd8d48988d127951735</td>\n",
       "      <td>Arts &amp; Crafts Store</td>\n",
       "      <td>40.719810</td>\n",
       "      <td>-74.002581</td>\n",
       "      <td>220</td>\n",
       "    </tr>\n",
       "    <tr>\n",
       "      <th>1</th>\n",
       "      <td>1</td>\n",
       "      <td>979</td>\n",
       "      <td>4a43c0aef964a520c6a61fe3</td>\n",
       "      <td>4bf58dd8d48988d1df941735</td>\n",
       "      <td>Bridge</td>\n",
       "      <td>40.606800</td>\n",
       "      <td>-74.044170</td>\n",
       "      <td>104</td>\n",
       "    </tr>\n",
       "    <tr>\n",
       "      <th>2</th>\n",
       "      <td>2</td>\n",
       "      <td>69</td>\n",
       "      <td>4c5cc7b485a1e21e00d35711</td>\n",
       "      <td>4bf58dd8d48988d103941735</td>\n",
       "      <td>Home (private)</td>\n",
       "      <td>40.716162</td>\n",
       "      <td>-73.883070</td>\n",
       "      <td>228</td>\n",
       "    </tr>\n",
       "    <tr>\n",
       "      <th>3</th>\n",
       "      <td>3</td>\n",
       "      <td>395</td>\n",
       "      <td>4bc7086715a7ef3bef9878da</td>\n",
       "      <td>4bf58dd8d48988d104941735</td>\n",
       "      <td>Medical Center</td>\n",
       "      <td>40.745164</td>\n",
       "      <td>-73.982519</td>\n",
       "      <td>264</td>\n",
       "    </tr>\n",
       "    <tr>\n",
       "      <th>4</th>\n",
       "      <td>4</td>\n",
       "      <td>87</td>\n",
       "      <td>4cf2c5321d18a143951b5cec</td>\n",
       "      <td>4bf58dd8d48988d1cb941735</td>\n",
       "      <td>Food Truck</td>\n",
       "      <td>40.740104</td>\n",
       "      <td>-73.989658</td>\n",
       "      <td>75</td>\n",
       "    </tr>\n",
       "  </tbody>\n",
       "</table>\n",
       "</div>"
      ],
      "text/plain": [
       "   Unnamed: 0  userId                   venueId           venueCategoryId  \\\n",
       "0           0     470  49bbd6c0f964a520f4531fe3  4bf58dd8d48988d127951735   \n",
       "1           1     979  4a43c0aef964a520c6a61fe3  4bf58dd8d48988d1df941735   \n",
       "2           2      69  4c5cc7b485a1e21e00d35711  4bf58dd8d48988d103941735   \n",
       "3           3     395  4bc7086715a7ef3bef9878da  4bf58dd8d48988d104941735   \n",
       "4           4      87  4cf2c5321d18a143951b5cec  4bf58dd8d48988d1cb941735   \n",
       "\n",
       "         venueCategory   latitude  longitude  neighborhood_id  \n",
       "0  Arts & Crafts Store  40.719810 -74.002581              220  \n",
       "1               Bridge  40.606800 -74.044170              104  \n",
       "2       Home (private)  40.716162 -73.883070              228  \n",
       "3       Medical Center  40.745164 -73.982519              264  \n",
       "4           Food Truck  40.740104 -73.989658               75  "
      ]
     },
     "execution_count": 134,
     "metadata": {},
     "output_type": "execute_result"
    }
   ],
   "source": [
    "bus.head()"
   ]
  },
  {
   "cell_type": "code",
   "execution_count": 135,
   "metadata": {
    "collapsed": true
   },
   "outputs": [],
   "source": [
    "rank = rank.drop(['lat','lng'], axis = 1)"
   ]
  },
  {
   "cell_type": "code",
   "execution_count": 136,
   "metadata": {
    "collapsed": true
   },
   "outputs": [],
   "source": [
    "final_venues_with_rank = bus.merge(rank, left_on='neighborhood_id', right_on='neighborhood', how='left')"
   ]
  },
  {
   "cell_type": "code",
   "execution_count": 137,
   "metadata": {
    "collapsed": false
   },
   "outputs": [
    {
     "data": {
      "text/html": [
       "<div>\n",
       "<table border=\"1\" class=\"dataframe\">\n",
       "  <thead>\n",
       "    <tr style=\"text-align: right;\">\n",
       "      <th></th>\n",
       "      <th>Unnamed: 0_x</th>\n",
       "      <th>userId</th>\n",
       "      <th>venueId</th>\n",
       "      <th>venueCategoryId</th>\n",
       "      <th>venueCategory</th>\n",
       "      <th>latitude</th>\n",
       "      <th>longitude</th>\n",
       "      <th>neighborhood_id</th>\n",
       "      <th>Unnamed: 0_y</th>\n",
       "      <th>Unnamed: 0.1</th>\n",
       "      <th>...</th>\n",
       "      <th>unsupervised_score</th>\n",
       "      <th>price</th>\n",
       "      <th>half-mile_sub_count</th>\n",
       "      <th>competitors_rank</th>\n",
       "      <th>half-mile_sub_count_rank</th>\n",
       "      <th>rent_rank</th>\n",
       "      <th>price_rank</th>\n",
       "      <th>unsupervised_score_rank</th>\n",
       "      <th>review_count_rank</th>\n",
       "      <th>rating_rank</th>\n",
       "    </tr>\n",
       "  </thead>\n",
       "  <tbody>\n",
       "    <tr>\n",
       "      <th>0</th>\n",
       "      <td>0</td>\n",
       "      <td>470</td>\n",
       "      <td>49bbd6c0f964a520f4531fe3</td>\n",
       "      <td>4bf58dd8d48988d127951735</td>\n",
       "      <td>Arts &amp; Crafts Store</td>\n",
       "      <td>40.719810</td>\n",
       "      <td>-74.002581</td>\n",
       "      <td>220</td>\n",
       "      <td>220.0</td>\n",
       "      <td>220.0</td>\n",
       "      <td>...</td>\n",
       "      <td>0.017177</td>\n",
       "      <td>0.0</td>\n",
       "      <td>0.632653</td>\n",
       "      <td>1.0</td>\n",
       "      <td>46.0</td>\n",
       "      <td>36.0</td>\n",
       "      <td>28.0</td>\n",
       "      <td>39.0</td>\n",
       "      <td>1.0</td>\n",
       "      <td>18.0</td>\n",
       "    </tr>\n",
       "    <tr>\n",
       "      <th>1</th>\n",
       "      <td>1</td>\n",
       "      <td>979</td>\n",
       "      <td>4a43c0aef964a520c6a61fe3</td>\n",
       "      <td>4bf58dd8d48988d1df941735</td>\n",
       "      <td>Bridge</td>\n",
       "      <td>40.606800</td>\n",
       "      <td>-74.044170</td>\n",
       "      <td>104</td>\n",
       "      <td>NaN</td>\n",
       "      <td>NaN</td>\n",
       "      <td>...</td>\n",
       "      <td>NaN</td>\n",
       "      <td>NaN</td>\n",
       "      <td>NaN</td>\n",
       "      <td>NaN</td>\n",
       "      <td>NaN</td>\n",
       "      <td>NaN</td>\n",
       "      <td>NaN</td>\n",
       "      <td>NaN</td>\n",
       "      <td>NaN</td>\n",
       "      <td>NaN</td>\n",
       "    </tr>\n",
       "    <tr>\n",
       "      <th>2</th>\n",
       "      <td>2</td>\n",
       "      <td>69</td>\n",
       "      <td>4c5cc7b485a1e21e00d35711</td>\n",
       "      <td>4bf58dd8d48988d103941735</td>\n",
       "      <td>Home (private)</td>\n",
       "      <td>40.716162</td>\n",
       "      <td>-73.883070</td>\n",
       "      <td>228</td>\n",
       "      <td>NaN</td>\n",
       "      <td>NaN</td>\n",
       "      <td>...</td>\n",
       "      <td>NaN</td>\n",
       "      <td>NaN</td>\n",
       "      <td>NaN</td>\n",
       "      <td>NaN</td>\n",
       "      <td>NaN</td>\n",
       "      <td>NaN</td>\n",
       "      <td>NaN</td>\n",
       "      <td>NaN</td>\n",
       "      <td>NaN</td>\n",
       "      <td>NaN</td>\n",
       "    </tr>\n",
       "    <tr>\n",
       "      <th>3</th>\n",
       "      <td>3</td>\n",
       "      <td>395</td>\n",
       "      <td>4bc7086715a7ef3bef9878da</td>\n",
       "      <td>4bf58dd8d48988d104941735</td>\n",
       "      <td>Medical Center</td>\n",
       "      <td>40.745164</td>\n",
       "      <td>-73.982519</td>\n",
       "      <td>264</td>\n",
       "      <td>264.0</td>\n",
       "      <td>264.0</td>\n",
       "      <td>...</td>\n",
       "      <td>0.065095</td>\n",
       "      <td>0.4</td>\n",
       "      <td>0.459184</td>\n",
       "      <td>24.0</td>\n",
       "      <td>45.0</td>\n",
       "      <td>43.0</td>\n",
       "      <td>25.0</td>\n",
       "      <td>46.0</td>\n",
       "      <td>32.0</td>\n",
       "      <td>16.0</td>\n",
       "    </tr>\n",
       "    <tr>\n",
       "      <th>4</th>\n",
       "      <td>4</td>\n",
       "      <td>87</td>\n",
       "      <td>4cf2c5321d18a143951b5cec</td>\n",
       "      <td>4bf58dd8d48988d1cb941735</td>\n",
       "      <td>Food Truck</td>\n",
       "      <td>40.740104</td>\n",
       "      <td>-73.989658</td>\n",
       "      <td>75</td>\n",
       "      <td>75.0</td>\n",
       "      <td>75.0</td>\n",
       "      <td>...</td>\n",
       "      <td>0.035681</td>\n",
       "      <td>0.2</td>\n",
       "      <td>0.867347</td>\n",
       "      <td>18.0</td>\n",
       "      <td>21.0</td>\n",
       "      <td>13.0</td>\n",
       "      <td>38.0</td>\n",
       "      <td>5.0</td>\n",
       "      <td>47.0</td>\n",
       "      <td>30.0</td>\n",
       "    </tr>\n",
       "  </tbody>\n",
       "</table>\n",
       "<p>5 rows × 26 columns</p>\n",
       "</div>"
      ],
      "text/plain": [
       "   Unnamed: 0_x  userId                   venueId           venueCategoryId  \\\n",
       "0             0     470  49bbd6c0f964a520f4531fe3  4bf58dd8d48988d127951735   \n",
       "1             1     979  4a43c0aef964a520c6a61fe3  4bf58dd8d48988d1df941735   \n",
       "2             2      69  4c5cc7b485a1e21e00d35711  4bf58dd8d48988d103941735   \n",
       "3             3     395  4bc7086715a7ef3bef9878da  4bf58dd8d48988d104941735   \n",
       "4             4      87  4cf2c5321d18a143951b5cec  4bf58dd8d48988d1cb941735   \n",
       "\n",
       "         venueCategory   latitude  longitude  neighborhood_id  Unnamed: 0_y  \\\n",
       "0  Arts & Crafts Store  40.719810 -74.002581              220         220.0   \n",
       "1               Bridge  40.606800 -74.044170              104           NaN   \n",
       "2       Home (private)  40.716162 -73.883070              228           NaN   \n",
       "3       Medical Center  40.745164 -73.982519              264         264.0   \n",
       "4           Food Truck  40.740104 -73.989658               75          75.0   \n",
       "\n",
       "   Unnamed: 0.1     ...       unsupervised_score  price  half-mile_sub_count  \\\n",
       "0         220.0     ...                 0.017177    0.0             0.632653   \n",
       "1           NaN     ...                      NaN    NaN                  NaN   \n",
       "2           NaN     ...                      NaN    NaN                  NaN   \n",
       "3         264.0     ...                 0.065095    0.4             0.459184   \n",
       "4          75.0     ...                 0.035681    0.2             0.867347   \n",
       "\n",
       "   competitors_rank  half-mile_sub_count_rank  rent_rank  price_rank  \\\n",
       "0               1.0                      46.0       36.0        28.0   \n",
       "1               NaN                       NaN        NaN         NaN   \n",
       "2               NaN                       NaN        NaN         NaN   \n",
       "3              24.0                      45.0       43.0        25.0   \n",
       "4              18.0                      21.0       13.0        38.0   \n",
       "\n",
       "   unsupervised_score_rank  review_count_rank  rating_rank  \n",
       "0                     39.0                1.0         18.0  \n",
       "1                      NaN                NaN          NaN  \n",
       "2                      NaN                NaN          NaN  \n",
       "3                     46.0               32.0         16.0  \n",
       "4                      5.0               47.0         30.0  \n",
       "\n",
       "[5 rows x 26 columns]"
      ]
     },
     "execution_count": 137,
     "metadata": {},
     "output_type": "execute_result"
    }
   ],
   "source": [
    "final_venues_with_rank.head()"
   ]
  },
  {
   "cell_type": "code",
   "execution_count": 146,
   "metadata": {
    "collapsed": false
   },
   "outputs": [
    {
     "data": {
      "text/plain": [
       "(38333, 26)"
      ]
     },
     "execution_count": 146,
     "metadata": {},
     "output_type": "execute_result"
    }
   ],
   "source": [
    "final_venues_with_rank.shape"
   ]
  },
  {
   "cell_type": "code",
   "execution_count": 147,
   "metadata": {
    "collapsed": false
   },
   "outputs": [
    {
     "data": {
      "text/plain": [
       "array(['Unnamed: 0_x', 'userId', 'venueId', 'venueCategoryId',\n",
       "       'venueCategory', 'latitude', 'longitude', 'neighborhood_id',\n",
       "       'Unnamed: 0_y', 'Unnamed: 0.1', 'neighborhood', 'Manhattan',\n",
       "       'competitors', 'rating', 'review_count', 'rent',\n",
       "       'unsupervised_score', 'price', 'half-mile_sub_count',\n",
       "       'competitors_rank', 'half-mile_sub_count_rank', 'rent_rank',\n",
       "       'price_rank', 'unsupervised_score_rank', 'review_count_rank',\n",
       "       'rating_rank'], dtype=object)"
      ]
     },
     "execution_count": 147,
     "metadata": {},
     "output_type": "execute_result"
    }
   ],
   "source": [
    "final_venues_with_rank.columns.values"
   ]
  },
  {
   "cell_type": "code",
   "execution_count": 140,
   "metadata": {
    "collapsed": true
   },
   "outputs": [],
   "source": [
    "# final_venues_with_rank = final_venues_with_rank.drop(['Unnamed: 0_x','Unnamed: 0_y', 'Unnamed: 0.1'], axis = 1)"
   ]
  },
  {
   "cell_type": "code",
   "execution_count": 141,
   "metadata": {
    "collapsed": false
   },
   "outputs": [
    {
     "data": {
      "text/html": [
       "<div>\n",
       "<table border=\"1\" class=\"dataframe\">\n",
       "  <thead>\n",
       "    <tr style=\"text-align: right;\">\n",
       "      <th></th>\n",
       "      <th>Unnamed: 0_x</th>\n",
       "      <th>userId</th>\n",
       "      <th>venueId</th>\n",
       "      <th>venueCategoryId</th>\n",
       "      <th>venueCategory</th>\n",
       "      <th>latitude</th>\n",
       "      <th>longitude</th>\n",
       "      <th>neighborhood_id</th>\n",
       "      <th>Unnamed: 0_y</th>\n",
       "      <th>Unnamed: 0.1</th>\n",
       "      <th>...</th>\n",
       "      <th>unsupervised_score</th>\n",
       "      <th>price</th>\n",
       "      <th>half-mile_sub_count</th>\n",
       "      <th>competitors_rank</th>\n",
       "      <th>half-mile_sub_count_rank</th>\n",
       "      <th>rent_rank</th>\n",
       "      <th>price_rank</th>\n",
       "      <th>unsupervised_score_rank</th>\n",
       "      <th>review_count_rank</th>\n",
       "      <th>rating_rank</th>\n",
       "    </tr>\n",
       "  </thead>\n",
       "  <tbody>\n",
       "    <tr>\n",
       "      <th>0</th>\n",
       "      <td>0</td>\n",
       "      <td>470</td>\n",
       "      <td>49bbd6c0f964a520f4531fe3</td>\n",
       "      <td>4bf58dd8d48988d127951735</td>\n",
       "      <td>Arts &amp; Crafts Store</td>\n",
       "      <td>40.719810</td>\n",
       "      <td>-74.002581</td>\n",
       "      <td>220</td>\n",
       "      <td>220.0</td>\n",
       "      <td>220.0</td>\n",
       "      <td>...</td>\n",
       "      <td>0.017177</td>\n",
       "      <td>0.0</td>\n",
       "      <td>0.632653</td>\n",
       "      <td>1.0</td>\n",
       "      <td>46.0</td>\n",
       "      <td>36.0</td>\n",
       "      <td>28.0</td>\n",
       "      <td>39.0</td>\n",
       "      <td>1.0</td>\n",
       "      <td>18.0</td>\n",
       "    </tr>\n",
       "    <tr>\n",
       "      <th>1</th>\n",
       "      <td>1</td>\n",
       "      <td>979</td>\n",
       "      <td>4a43c0aef964a520c6a61fe3</td>\n",
       "      <td>4bf58dd8d48988d1df941735</td>\n",
       "      <td>Bridge</td>\n",
       "      <td>40.606800</td>\n",
       "      <td>-74.044170</td>\n",
       "      <td>104</td>\n",
       "      <td>NaN</td>\n",
       "      <td>NaN</td>\n",
       "      <td>...</td>\n",
       "      <td>NaN</td>\n",
       "      <td>NaN</td>\n",
       "      <td>NaN</td>\n",
       "      <td>NaN</td>\n",
       "      <td>NaN</td>\n",
       "      <td>NaN</td>\n",
       "      <td>NaN</td>\n",
       "      <td>NaN</td>\n",
       "      <td>NaN</td>\n",
       "      <td>NaN</td>\n",
       "    </tr>\n",
       "    <tr>\n",
       "      <th>2</th>\n",
       "      <td>2</td>\n",
       "      <td>69</td>\n",
       "      <td>4c5cc7b485a1e21e00d35711</td>\n",
       "      <td>4bf58dd8d48988d103941735</td>\n",
       "      <td>Home (private)</td>\n",
       "      <td>40.716162</td>\n",
       "      <td>-73.883070</td>\n",
       "      <td>228</td>\n",
       "      <td>NaN</td>\n",
       "      <td>NaN</td>\n",
       "      <td>...</td>\n",
       "      <td>NaN</td>\n",
       "      <td>NaN</td>\n",
       "      <td>NaN</td>\n",
       "      <td>NaN</td>\n",
       "      <td>NaN</td>\n",
       "      <td>NaN</td>\n",
       "      <td>NaN</td>\n",
       "      <td>NaN</td>\n",
       "      <td>NaN</td>\n",
       "      <td>NaN</td>\n",
       "    </tr>\n",
       "    <tr>\n",
       "      <th>3</th>\n",
       "      <td>3</td>\n",
       "      <td>395</td>\n",
       "      <td>4bc7086715a7ef3bef9878da</td>\n",
       "      <td>4bf58dd8d48988d104941735</td>\n",
       "      <td>Medical Center</td>\n",
       "      <td>40.745164</td>\n",
       "      <td>-73.982519</td>\n",
       "      <td>264</td>\n",
       "      <td>264.0</td>\n",
       "      <td>264.0</td>\n",
       "      <td>...</td>\n",
       "      <td>0.065095</td>\n",
       "      <td>0.4</td>\n",
       "      <td>0.459184</td>\n",
       "      <td>24.0</td>\n",
       "      <td>45.0</td>\n",
       "      <td>43.0</td>\n",
       "      <td>25.0</td>\n",
       "      <td>46.0</td>\n",
       "      <td>32.0</td>\n",
       "      <td>16.0</td>\n",
       "    </tr>\n",
       "    <tr>\n",
       "      <th>4</th>\n",
       "      <td>4</td>\n",
       "      <td>87</td>\n",
       "      <td>4cf2c5321d18a143951b5cec</td>\n",
       "      <td>4bf58dd8d48988d1cb941735</td>\n",
       "      <td>Food Truck</td>\n",
       "      <td>40.740104</td>\n",
       "      <td>-73.989658</td>\n",
       "      <td>75</td>\n",
       "      <td>75.0</td>\n",
       "      <td>75.0</td>\n",
       "      <td>...</td>\n",
       "      <td>0.035681</td>\n",
       "      <td>0.2</td>\n",
       "      <td>0.867347</td>\n",
       "      <td>18.0</td>\n",
       "      <td>21.0</td>\n",
       "      <td>13.0</td>\n",
       "      <td>38.0</td>\n",
       "      <td>5.0</td>\n",
       "      <td>47.0</td>\n",
       "      <td>30.0</td>\n",
       "    </tr>\n",
       "  </tbody>\n",
       "</table>\n",
       "<p>5 rows × 26 columns</p>\n",
       "</div>"
      ],
      "text/plain": [
       "   Unnamed: 0_x  userId                   venueId           venueCategoryId  \\\n",
       "0             0     470  49bbd6c0f964a520f4531fe3  4bf58dd8d48988d127951735   \n",
       "1             1     979  4a43c0aef964a520c6a61fe3  4bf58dd8d48988d1df941735   \n",
       "2             2      69  4c5cc7b485a1e21e00d35711  4bf58dd8d48988d103941735   \n",
       "3             3     395  4bc7086715a7ef3bef9878da  4bf58dd8d48988d104941735   \n",
       "4             4      87  4cf2c5321d18a143951b5cec  4bf58dd8d48988d1cb941735   \n",
       "\n",
       "         venueCategory   latitude  longitude  neighborhood_id  Unnamed: 0_y  \\\n",
       "0  Arts & Crafts Store  40.719810 -74.002581              220         220.0   \n",
       "1               Bridge  40.606800 -74.044170              104           NaN   \n",
       "2       Home (private)  40.716162 -73.883070              228           NaN   \n",
       "3       Medical Center  40.745164 -73.982519              264         264.0   \n",
       "4           Food Truck  40.740104 -73.989658               75          75.0   \n",
       "\n",
       "   Unnamed: 0.1     ...       unsupervised_score  price  half-mile_sub_count  \\\n",
       "0         220.0     ...                 0.017177    0.0             0.632653   \n",
       "1           NaN     ...                      NaN    NaN                  NaN   \n",
       "2           NaN     ...                      NaN    NaN                  NaN   \n",
       "3         264.0     ...                 0.065095    0.4             0.459184   \n",
       "4          75.0     ...                 0.035681    0.2             0.867347   \n",
       "\n",
       "   competitors_rank  half-mile_sub_count_rank  rent_rank  price_rank  \\\n",
       "0               1.0                      46.0       36.0        28.0   \n",
       "1               NaN                       NaN        NaN         NaN   \n",
       "2               NaN                       NaN        NaN         NaN   \n",
       "3              24.0                      45.0       43.0        25.0   \n",
       "4              18.0                      21.0       13.0        38.0   \n",
       "\n",
       "   unsupervised_score_rank  review_count_rank  rating_rank  \n",
       "0                     39.0                1.0         18.0  \n",
       "1                      NaN                NaN          NaN  \n",
       "2                      NaN                NaN          NaN  \n",
       "3                     46.0               32.0         16.0  \n",
       "4                      5.0               47.0         30.0  \n",
       "\n",
       "[5 rows x 26 columns]"
      ]
     },
     "execution_count": 141,
     "metadata": {},
     "output_type": "execute_result"
    }
   ],
   "source": [
    "final_venues_with_rank.head()"
   ]
  },
  {
   "cell_type": "code",
   "execution_count": 238,
   "metadata": {
    "collapsed": true
   },
   "outputs": [],
   "source": [
    "fi = final_venues_with_rank.loc[final_venues_with_rank['Manhattan'] == 1,]"
   ]
  },
  {
   "cell_type": "code",
   "execution_count": 239,
   "metadata": {
    "collapsed": false
   },
   "outputs": [
    {
     "data": {
      "text/plain": [
       "(17138, 26)"
      ]
     },
     "execution_count": 239,
     "metadata": {},
     "output_type": "execute_result"
    }
   ],
   "source": [
    "fi.shape"
   ]
  },
  {
   "cell_type": "code",
   "execution_count": 240,
   "metadata": {
    "collapsed": true
   },
   "outputs": [],
   "source": [
    "fi.to_csv('final_venues_with_rank.csv')"
   ]
  },
  {
   "cell_type": "code",
   "execution_count": 241,
   "metadata": {
    "collapsed": false
   },
   "outputs": [
    {
     "data": {
      "text/html": [
       "<div>\n",
       "<table border=\"1\" class=\"dataframe\">\n",
       "  <thead>\n",
       "    <tr style=\"text-align: right;\">\n",
       "      <th></th>\n",
       "      <th>Unnamed: 0_x</th>\n",
       "      <th>userId</th>\n",
       "      <th>venueId</th>\n",
       "      <th>venueCategoryId</th>\n",
       "      <th>venueCategory</th>\n",
       "      <th>latitude</th>\n",
       "      <th>longitude</th>\n",
       "      <th>neighborhood_id</th>\n",
       "      <th>Unnamed: 0_y</th>\n",
       "      <th>Unnamed: 0.1</th>\n",
       "      <th>...</th>\n",
       "      <th>unsupervised_score</th>\n",
       "      <th>price</th>\n",
       "      <th>half-mile_sub_count</th>\n",
       "      <th>competitors_rank</th>\n",
       "      <th>half-mile_sub_count_rank</th>\n",
       "      <th>rent_rank</th>\n",
       "      <th>price_rank</th>\n",
       "      <th>unsupervised_score_rank</th>\n",
       "      <th>review_count_rank</th>\n",
       "      <th>rating_rank</th>\n",
       "    </tr>\n",
       "  </thead>\n",
       "  <tbody>\n",
       "    <tr>\n",
       "      <th>0</th>\n",
       "      <td>0</td>\n",
       "      <td>470</td>\n",
       "      <td>49bbd6c0f964a520f4531fe3</td>\n",
       "      <td>4bf58dd8d48988d127951735</td>\n",
       "      <td>Arts &amp; Crafts Store</td>\n",
       "      <td>40.719810</td>\n",
       "      <td>-74.002581</td>\n",
       "      <td>220</td>\n",
       "      <td>220.0</td>\n",
       "      <td>220.0</td>\n",
       "      <td>...</td>\n",
       "      <td>0.017177</td>\n",
       "      <td>0.000000</td>\n",
       "      <td>0.632653</td>\n",
       "      <td>1.0</td>\n",
       "      <td>46.0</td>\n",
       "      <td>36.0</td>\n",
       "      <td>28.0</td>\n",
       "      <td>39.0</td>\n",
       "      <td>1.0</td>\n",
       "      <td>18.0</td>\n",
       "    </tr>\n",
       "    <tr>\n",
       "      <th>3</th>\n",
       "      <td>3</td>\n",
       "      <td>395</td>\n",
       "      <td>4bc7086715a7ef3bef9878da</td>\n",
       "      <td>4bf58dd8d48988d104941735</td>\n",
       "      <td>Medical Center</td>\n",
       "      <td>40.745164</td>\n",
       "      <td>-73.982519</td>\n",
       "      <td>264</td>\n",
       "      <td>264.0</td>\n",
       "      <td>264.0</td>\n",
       "      <td>...</td>\n",
       "      <td>0.065095</td>\n",
       "      <td>0.400000</td>\n",
       "      <td>0.459184</td>\n",
       "      <td>24.0</td>\n",
       "      <td>45.0</td>\n",
       "      <td>43.0</td>\n",
       "      <td>25.0</td>\n",
       "      <td>46.0</td>\n",
       "      <td>32.0</td>\n",
       "      <td>16.0</td>\n",
       "    </tr>\n",
       "    <tr>\n",
       "      <th>4</th>\n",
       "      <td>4</td>\n",
       "      <td>87</td>\n",
       "      <td>4cf2c5321d18a143951b5cec</td>\n",
       "      <td>4bf58dd8d48988d1cb941735</td>\n",
       "      <td>Food Truck</td>\n",
       "      <td>40.740104</td>\n",
       "      <td>-73.989658</td>\n",
       "      <td>75</td>\n",
       "      <td>75.0</td>\n",
       "      <td>75.0</td>\n",
       "      <td>...</td>\n",
       "      <td>0.035681</td>\n",
       "      <td>0.200000</td>\n",
       "      <td>0.867347</td>\n",
       "      <td>18.0</td>\n",
       "      <td>21.0</td>\n",
       "      <td>13.0</td>\n",
       "      <td>38.0</td>\n",
       "      <td>5.0</td>\n",
       "      <td>47.0</td>\n",
       "      <td>30.0</td>\n",
       "    </tr>\n",
       "    <tr>\n",
       "      <th>6</th>\n",
       "      <td>6</td>\n",
       "      <td>642</td>\n",
       "      <td>4ab966c3f964a5203c7f20e3</td>\n",
       "      <td>4bf58dd8d48988d1e0931735</td>\n",
       "      <td>Coffee Shop</td>\n",
       "      <td>40.751591</td>\n",
       "      <td>-73.974121</td>\n",
       "      <td>62</td>\n",
       "      <td>62.0</td>\n",
       "      <td>62.0</td>\n",
       "      <td>...</td>\n",
       "      <td>0.055866</td>\n",
       "      <td>0.353846</td>\n",
       "      <td>0.520408</td>\n",
       "      <td>40.0</td>\n",
       "      <td>39.0</td>\n",
       "      <td>11.0</td>\n",
       "      <td>9.0</td>\n",
       "      <td>14.0</td>\n",
       "      <td>8.0</td>\n",
       "      <td>21.0</td>\n",
       "    </tr>\n",
       "    <tr>\n",
       "      <th>7</th>\n",
       "      <td>7</td>\n",
       "      <td>292</td>\n",
       "      <td>4d0cc47f903d37041864bf55</td>\n",
       "      <td>4bf58dd8d48988d12b951735</td>\n",
       "      <td>Bus Station</td>\n",
       "      <td>40.779422</td>\n",
       "      <td>-73.955341</td>\n",
       "      <td>261</td>\n",
       "      <td>261.0</td>\n",
       "      <td>261.0</td>\n",
       "      <td>...</td>\n",
       "      <td>0.073641</td>\n",
       "      <td>0.368421</td>\n",
       "      <td>0.163265</td>\n",
       "      <td>32.0</td>\n",
       "      <td>5.0</td>\n",
       "      <td>19.0</td>\n",
       "      <td>35.0</td>\n",
       "      <td>10.0</td>\n",
       "      <td>9.0</td>\n",
       "      <td>34.0</td>\n",
       "    </tr>\n",
       "  </tbody>\n",
       "</table>\n",
       "<p>5 rows × 26 columns</p>\n",
       "</div>"
      ],
      "text/plain": [
       "   Unnamed: 0_x  userId                   venueId           venueCategoryId  \\\n",
       "0             0     470  49bbd6c0f964a520f4531fe3  4bf58dd8d48988d127951735   \n",
       "3             3     395  4bc7086715a7ef3bef9878da  4bf58dd8d48988d104941735   \n",
       "4             4      87  4cf2c5321d18a143951b5cec  4bf58dd8d48988d1cb941735   \n",
       "6             6     642  4ab966c3f964a5203c7f20e3  4bf58dd8d48988d1e0931735   \n",
       "7             7     292  4d0cc47f903d37041864bf55  4bf58dd8d48988d12b951735   \n",
       "\n",
       "         venueCategory   latitude  longitude  neighborhood_id  Unnamed: 0_y  \\\n",
       "0  Arts & Crafts Store  40.719810 -74.002581              220         220.0   \n",
       "3       Medical Center  40.745164 -73.982519              264         264.0   \n",
       "4           Food Truck  40.740104 -73.989658               75          75.0   \n",
       "6          Coffee Shop  40.751591 -73.974121               62          62.0   \n",
       "7          Bus Station  40.779422 -73.955341              261         261.0   \n",
       "\n",
       "   Unnamed: 0.1     ...       unsupervised_score     price  \\\n",
       "0         220.0     ...                 0.017177  0.000000   \n",
       "3         264.0     ...                 0.065095  0.400000   \n",
       "4          75.0     ...                 0.035681  0.200000   \n",
       "6          62.0     ...                 0.055866  0.353846   \n",
       "7         261.0     ...                 0.073641  0.368421   \n",
       "\n",
       "   half-mile_sub_count  competitors_rank  half-mile_sub_count_rank  rent_rank  \\\n",
       "0             0.632653               1.0                      46.0       36.0   \n",
       "3             0.459184              24.0                      45.0       43.0   \n",
       "4             0.867347              18.0                      21.0       13.0   \n",
       "6             0.520408              40.0                      39.0       11.0   \n",
       "7             0.163265              32.0                       5.0       19.0   \n",
       "\n",
       "   price_rank  unsupervised_score_rank  review_count_rank  rating_rank  \n",
       "0        28.0                     39.0                1.0         18.0  \n",
       "3        25.0                     46.0               32.0         16.0  \n",
       "4        38.0                      5.0               47.0         30.0  \n",
       "6         9.0                     14.0                8.0         21.0  \n",
       "7        35.0                     10.0                9.0         34.0  \n",
       "\n",
       "[5 rows x 26 columns]"
      ]
     },
     "execution_count": 241,
     "metadata": {},
     "output_type": "execute_result"
    }
   ],
   "source": [
    "fi.head()"
   ]
  },
  {
   "cell_type": "code",
   "execution_count": 17,
   "metadata": {
    "collapsed": true
   },
   "outputs": [],
   "source": [
    "k = pd.read_csv('venue_neighborhoods_Manhattan.csv')"
   ]
  },
  {
   "cell_type": "code",
   "execution_count": 18,
   "metadata": {
    "collapsed": false
   },
   "outputs": [
    {
     "data": {
      "text/html": [
       "<div>\n",
       "<table border=\"1\" class=\"dataframe\">\n",
       "  <thead>\n",
       "    <tr style=\"text-align: right;\">\n",
       "      <th></th>\n",
       "      <th>Unnamed: 0</th>\n",
       "      <th>Unnamed: 0.1</th>\n",
       "      <th>userId</th>\n",
       "      <th>venueId</th>\n",
       "      <th>venueCategoryId</th>\n",
       "      <th>venueCategory</th>\n",
       "      <th>latitude</th>\n",
       "      <th>longitude</th>\n",
       "      <th>neighborhood_id</th>\n",
       "      <th>Manhattan</th>\n",
       "    </tr>\n",
       "  </thead>\n",
       "  <tbody>\n",
       "    <tr>\n",
       "      <th>0</th>\n",
       "      <td>0</td>\n",
       "      <td>0</td>\n",
       "      <td>470</td>\n",
       "      <td>49bbd6c0f964a520f4531fe3</td>\n",
       "      <td>4bf58dd8d48988d127951735</td>\n",
       "      <td>Arts &amp; Crafts Store</td>\n",
       "      <td>40.719810</td>\n",
       "      <td>-74.002581</td>\n",
       "      <td>220</td>\n",
       "      <td>1</td>\n",
       "    </tr>\n",
       "    <tr>\n",
       "      <th>1</th>\n",
       "      <td>1</td>\n",
       "      <td>1</td>\n",
       "      <td>979</td>\n",
       "      <td>4a43c0aef964a520c6a61fe3</td>\n",
       "      <td>4bf58dd8d48988d1df941735</td>\n",
       "      <td>Bridge</td>\n",
       "      <td>40.606800</td>\n",
       "      <td>-74.044170</td>\n",
       "      <td>104</td>\n",
       "      <td>0</td>\n",
       "    </tr>\n",
       "    <tr>\n",
       "      <th>2</th>\n",
       "      <td>2</td>\n",
       "      <td>2</td>\n",
       "      <td>69</td>\n",
       "      <td>4c5cc7b485a1e21e00d35711</td>\n",
       "      <td>4bf58dd8d48988d103941735</td>\n",
       "      <td>Home (private)</td>\n",
       "      <td>40.716162</td>\n",
       "      <td>-73.883070</td>\n",
       "      <td>228</td>\n",
       "      <td>0</td>\n",
       "    </tr>\n",
       "    <tr>\n",
       "      <th>3</th>\n",
       "      <td>3</td>\n",
       "      <td>3</td>\n",
       "      <td>395</td>\n",
       "      <td>4bc7086715a7ef3bef9878da</td>\n",
       "      <td>4bf58dd8d48988d104941735</td>\n",
       "      <td>Medical Center</td>\n",
       "      <td>40.745164</td>\n",
       "      <td>-73.982519</td>\n",
       "      <td>264</td>\n",
       "      <td>1</td>\n",
       "    </tr>\n",
       "    <tr>\n",
       "      <th>4</th>\n",
       "      <td>4</td>\n",
       "      <td>4</td>\n",
       "      <td>87</td>\n",
       "      <td>4cf2c5321d18a143951b5cec</td>\n",
       "      <td>4bf58dd8d48988d1cb941735</td>\n",
       "      <td>Food Truck</td>\n",
       "      <td>40.740104</td>\n",
       "      <td>-73.989658</td>\n",
       "      <td>75</td>\n",
       "      <td>1</td>\n",
       "    </tr>\n",
       "  </tbody>\n",
       "</table>\n",
       "</div>"
      ],
      "text/plain": [
       "   Unnamed: 0  Unnamed: 0.1  userId                   venueId  \\\n",
       "0           0             0     470  49bbd6c0f964a520f4531fe3   \n",
       "1           1             1     979  4a43c0aef964a520c6a61fe3   \n",
       "2           2             2      69  4c5cc7b485a1e21e00d35711   \n",
       "3           3             3     395  4bc7086715a7ef3bef9878da   \n",
       "4           4             4      87  4cf2c5321d18a143951b5cec   \n",
       "\n",
       "            venueCategoryId        venueCategory   latitude  longitude  \\\n",
       "0  4bf58dd8d48988d127951735  Arts & Crafts Store  40.719810 -74.002581   \n",
       "1  4bf58dd8d48988d1df941735               Bridge  40.606800 -74.044170   \n",
       "2  4bf58dd8d48988d103941735       Home (private)  40.716162 -73.883070   \n",
       "3  4bf58dd8d48988d104941735       Medical Center  40.745164 -73.982519   \n",
       "4  4bf58dd8d48988d1cb941735           Food Truck  40.740104 -73.989658   \n",
       "\n",
       "   neighborhood_id  Manhattan  \n",
       "0              220          1  \n",
       "1              104          0  \n",
       "2              228          0  \n",
       "3              264          1  \n",
       "4               75          1  "
      ]
     },
     "execution_count": 18,
     "metadata": {},
     "output_type": "execute_result"
    }
   ],
   "source": [
    "k.head()"
   ]
  },
  {
   "cell_type": "code",
   "execution_count": 19,
   "metadata": {
    "collapsed": true
   },
   "outputs": [],
   "source": [
    "k = k.loc[k['Manhattan'] == 1,]"
   ]
  },
  {
   "cell_type": "code",
   "execution_count": 20,
   "metadata": {
    "collapsed": false
   },
   "outputs": [
    {
     "data": {
      "text/plain": [
       "(17138, 10)"
      ]
     },
     "execution_count": 20,
     "metadata": {},
     "output_type": "execute_result"
    }
   ],
   "source": [
    "k.shape"
   ]
  },
  {
   "cell_type": "markdown",
   "metadata": {},
   "source": [
    "###  Plotting unsupervised scores against each of the factors"
   ]
  },
  {
   "cell_type": "code",
   "execution_count": 279,
   "metadata": {
    "collapsed": true
   },
   "outputs": [],
   "source": [
    "import pandas as pd"
   ]
  },
  {
   "cell_type": "code",
   "execution_count": 280,
   "metadata": {
    "collapsed": false
   },
   "outputs": [],
   "source": [
    "df = pd.read_csv('scoring_df_final.csv')"
   ]
  },
  {
   "cell_type": "code",
   "execution_count": 281,
   "metadata": {
    "collapsed": false
   },
   "outputs": [
    {
     "data": {
      "text/plain": [
       "(300, 12)"
      ]
     },
     "execution_count": 281,
     "metadata": {},
     "output_type": "execute_result"
    }
   ],
   "source": [
    "df.shape"
   ]
  },
  {
   "cell_type": "code",
   "execution_count": 282,
   "metadata": {
    "collapsed": false
   },
   "outputs": [
    {
     "data": {
      "text/html": [
       "<div>\n",
       "<table border=\"1\" class=\"dataframe\">\n",
       "  <thead>\n",
       "    <tr style=\"text-align: right;\">\n",
       "      <th></th>\n",
       "      <th>Unnamed: 0</th>\n",
       "      <th>neighborhood</th>\n",
       "      <th>lat</th>\n",
       "      <th>lng</th>\n",
       "      <th>Manhattan</th>\n",
       "      <th>competitors</th>\n",
       "      <th>rating</th>\n",
       "      <th>review_count</th>\n",
       "      <th>rent</th>\n",
       "      <th>unsupervised_score</th>\n",
       "      <th>price</th>\n",
       "      <th>half-mile_sub_count</th>\n",
       "    </tr>\n",
       "  </thead>\n",
       "  <tbody>\n",
       "    <tr>\n",
       "      <th>0</th>\n",
       "      <td>0</td>\n",
       "      <td>0</td>\n",
       "      <td>40.765887</td>\n",
       "      <td>-74.165511</td>\n",
       "      <td>0</td>\n",
       "      <td>0.980392</td>\n",
       "      <td>0.000000</td>\n",
       "      <td>0.000000</td>\n",
       "      <td>0.818188</td>\n",
       "      <td>0.063832</td>\n",
       "      <td>1.00</td>\n",
       "      <td>0.000000</td>\n",
       "    </tr>\n",
       "    <tr>\n",
       "      <th>1</th>\n",
       "      <td>1</td>\n",
       "      <td>1</td>\n",
       "      <td>40.662722</td>\n",
       "      <td>-73.908039</td>\n",
       "      <td>0</td>\n",
       "      <td>0.980392</td>\n",
       "      <td>0.000000</td>\n",
       "      <td>0.000000</td>\n",
       "      <td>0.885175</td>\n",
       "      <td>0.262769</td>\n",
       "      <td>1.00</td>\n",
       "      <td>0.091837</td>\n",
       "    </tr>\n",
       "    <tr>\n",
       "      <th>2</th>\n",
       "      <td>2</td>\n",
       "      <td>2</td>\n",
       "      <td>40.774802</td>\n",
       "      <td>-73.959325</td>\n",
       "      <td>1</td>\n",
       "      <td>0.980392</td>\n",
       "      <td>0.766667</td>\n",
       "      <td>0.330335</td>\n",
       "      <td>0.715101</td>\n",
       "      <td>0.033941</td>\n",
       "      <td>0.24</td>\n",
       "      <td>0.224490</td>\n",
       "    </tr>\n",
       "    <tr>\n",
       "      <th>3</th>\n",
       "      <td>3</td>\n",
       "      <td>3</td>\n",
       "      <td>40.785104</td>\n",
       "      <td>-73.794881</td>\n",
       "      <td>0</td>\n",
       "      <td>0.980392</td>\n",
       "      <td>0.000000</td>\n",
       "      <td>0.000000</td>\n",
       "      <td>0.891074</td>\n",
       "      <td>0.048555</td>\n",
       "      <td>1.00</td>\n",
       "      <td>0.000000</td>\n",
       "    </tr>\n",
       "    <tr>\n",
       "      <th>4</th>\n",
       "      <td>4</td>\n",
       "      <td>4</td>\n",
       "      <td>40.936005</td>\n",
       "      <td>-74.063185</td>\n",
       "      <td>0</td>\n",
       "      <td>1.000000</td>\n",
       "      <td>0.000000</td>\n",
       "      <td>0.000000</td>\n",
       "      <td>0.761531</td>\n",
       "      <td>0.024103</td>\n",
       "      <td>1.00</td>\n",
       "      <td>0.000000</td>\n",
       "    </tr>\n",
       "  </tbody>\n",
       "</table>\n",
       "</div>"
      ],
      "text/plain": [
       "   Unnamed: 0  neighborhood        lat        lng  Manhattan  competitors  \\\n",
       "0           0             0  40.765887 -74.165511          0     0.980392   \n",
       "1           1             1  40.662722 -73.908039          0     0.980392   \n",
       "2           2             2  40.774802 -73.959325          1     0.980392   \n",
       "3           3             3  40.785104 -73.794881          0     0.980392   \n",
       "4           4             4  40.936005 -74.063185          0     1.000000   \n",
       "\n",
       "     rating  review_count      rent  unsupervised_score  price  \\\n",
       "0  0.000000      0.000000  0.818188            0.063832   1.00   \n",
       "1  0.000000      0.000000  0.885175            0.262769   1.00   \n",
       "2  0.766667      0.330335  0.715101            0.033941   0.24   \n",
       "3  0.000000      0.000000  0.891074            0.048555   1.00   \n",
       "4  0.000000      0.000000  0.761531            0.024103   1.00   \n",
       "\n",
       "   half-mile_sub_count  \n",
       "0             0.000000  \n",
       "1             0.091837  \n",
       "2             0.224490  \n",
       "3             0.000000  \n",
       "4             0.000000  "
      ]
     },
     "execution_count": 282,
     "metadata": {},
     "output_type": "execute_result"
    }
   ],
   "source": [
    "df.head()"
   ]
  },
  {
   "cell_type": "code",
   "execution_count": 283,
   "metadata": {
    "collapsed": false
   },
   "outputs": [
    {
     "data": {
      "text/html": [
       "<div>\n",
       "<table border=\"1\" class=\"dataframe\">\n",
       "  <thead>\n",
       "    <tr style=\"text-align: right;\">\n",
       "      <th></th>\n",
       "      <th>Unnamed: 0</th>\n",
       "      <th>neighborhood</th>\n",
       "      <th>lat</th>\n",
       "      <th>lng</th>\n",
       "      <th>Manhattan</th>\n",
       "      <th>competitors</th>\n",
       "      <th>rating</th>\n",
       "      <th>review_count</th>\n",
       "      <th>rent</th>\n",
       "      <th>unsupervised_score</th>\n",
       "      <th>price</th>\n",
       "      <th>half-mile_sub_count</th>\n",
       "    </tr>\n",
       "  </thead>\n",
       "  <tbody>\n",
       "    <tr>\n",
       "      <th>count</th>\n",
       "      <td>300.000000</td>\n",
       "      <td>300.000000</td>\n",
       "      <td>300.000000</td>\n",
       "      <td>300.000000</td>\n",
       "      <td>300.000000</td>\n",
       "      <td>300.000000</td>\n",
       "      <td>300.000000</td>\n",
       "      <td>300.000000</td>\n",
       "      <td>300.000000</td>\n",
       "      <td>300.000000</td>\n",
       "      <td>300.000000</td>\n",
       "      <td>300.000000</td>\n",
       "    </tr>\n",
       "    <tr>\n",
       "      <th>mean</th>\n",
       "      <td>149.500000</td>\n",
       "      <td>149.500000</td>\n",
       "      <td>40.764057</td>\n",
       "      <td>-73.978337</td>\n",
       "      <td>0.156667</td>\n",
       "      <td>0.970523</td>\n",
       "      <td>0.221326</td>\n",
       "      <td>0.052708</td>\n",
       "      <td>0.851250</td>\n",
       "      <td>0.087555</td>\n",
       "      <td>0.839502</td>\n",
       "      <td>0.094422</td>\n",
       "    </tr>\n",
       "    <tr>\n",
       "      <th>std</th>\n",
       "      <td>86.746758</td>\n",
       "      <td>86.746758</td>\n",
       "      <td>0.095302</td>\n",
       "      <td>0.130657</td>\n",
       "      <td>0.364094</td>\n",
       "      <td>0.072882</td>\n",
       "      <td>0.355269</td>\n",
       "      <td>0.128573</td>\n",
       "      <td>0.103880</td>\n",
       "      <td>0.111943</td>\n",
       "      <td>0.269801</td>\n",
       "      <td>0.189813</td>\n",
       "    </tr>\n",
       "    <tr>\n",
       "      <th>min</th>\n",
       "      <td>0.000000</td>\n",
       "      <td>0.000000</td>\n",
       "      <td>40.559865</td>\n",
       "      <td>-74.257021</td>\n",
       "      <td>0.000000</td>\n",
       "      <td>0.000000</td>\n",
       "      <td>0.000000</td>\n",
       "      <td>0.000000</td>\n",
       "      <td>0.000000</td>\n",
       "      <td>0.000000</td>\n",
       "      <td>0.000000</td>\n",
       "      <td>0.000000</td>\n",
       "    </tr>\n",
       "    <tr>\n",
       "      <th>25%</th>\n",
       "      <td>74.750000</td>\n",
       "      <td>74.750000</td>\n",
       "      <td>40.702182</td>\n",
       "      <td>-74.069863</td>\n",
       "      <td>0.000000</td>\n",
       "      <td>0.960784</td>\n",
       "      <td>0.000000</td>\n",
       "      <td>0.000000</td>\n",
       "      <td>0.826121</td>\n",
       "      <td>0.034309</td>\n",
       "      <td>0.600000</td>\n",
       "      <td>0.000000</td>\n",
       "    </tr>\n",
       "    <tr>\n",
       "      <th>50%</th>\n",
       "      <td>149.500000</td>\n",
       "      <td>149.500000</td>\n",
       "      <td>40.754267</td>\n",
       "      <td>-73.977200</td>\n",
       "      <td>0.000000</td>\n",
       "      <td>0.980392</td>\n",
       "      <td>0.000000</td>\n",
       "      <td>0.000000</td>\n",
       "      <td>0.871186</td>\n",
       "      <td>0.058440</td>\n",
       "      <td>1.000000</td>\n",
       "      <td>0.000000</td>\n",
       "    </tr>\n",
       "    <tr>\n",
       "      <th>75%</th>\n",
       "      <td>224.250000</td>\n",
       "      <td>224.250000</td>\n",
       "      <td>40.836980</td>\n",
       "      <td>-73.890067</td>\n",
       "      <td>0.000000</td>\n",
       "      <td>1.000000</td>\n",
       "      <td>0.688889</td>\n",
       "      <td>0.029544</td>\n",
       "      <td>0.916117</td>\n",
       "      <td>0.097771</td>\n",
       "      <td>1.000000</td>\n",
       "      <td>0.112245</td>\n",
       "    </tr>\n",
       "    <tr>\n",
       "      <th>max</th>\n",
       "      <td>299.000000</td>\n",
       "      <td>299.000000</td>\n",
       "      <td>40.977362</td>\n",
       "      <td>-73.697022</td>\n",
       "      <td>1.000000</td>\n",
       "      <td>1.000000</td>\n",
       "      <td>1.000000</td>\n",
       "      <td>1.000000</td>\n",
       "      <td>1.000000</td>\n",
       "      <td>1.000000</td>\n",
       "      <td>1.000000</td>\n",
       "      <td>1.000000</td>\n",
       "    </tr>\n",
       "  </tbody>\n",
       "</table>\n",
       "</div>"
      ],
      "text/plain": [
       "       Unnamed: 0  neighborhood         lat         lng   Manhattan  \\\n",
       "count  300.000000    300.000000  300.000000  300.000000  300.000000   \n",
       "mean   149.500000    149.500000   40.764057  -73.978337    0.156667   \n",
       "std     86.746758     86.746758    0.095302    0.130657    0.364094   \n",
       "min      0.000000      0.000000   40.559865  -74.257021    0.000000   \n",
       "25%     74.750000     74.750000   40.702182  -74.069863    0.000000   \n",
       "50%    149.500000    149.500000   40.754267  -73.977200    0.000000   \n",
       "75%    224.250000    224.250000   40.836980  -73.890067    0.000000   \n",
       "max    299.000000    299.000000   40.977362  -73.697022    1.000000   \n",
       "\n",
       "       competitors      rating  review_count        rent  unsupervised_score  \\\n",
       "count   300.000000  300.000000    300.000000  300.000000          300.000000   \n",
       "mean      0.970523    0.221326      0.052708    0.851250            0.087555   \n",
       "std       0.072882    0.355269      0.128573    0.103880            0.111943   \n",
       "min       0.000000    0.000000      0.000000    0.000000            0.000000   \n",
       "25%       0.960784    0.000000      0.000000    0.826121            0.034309   \n",
       "50%       0.980392    0.000000      0.000000    0.871186            0.058440   \n",
       "75%       1.000000    0.688889      0.029544    0.916117            0.097771   \n",
       "max       1.000000    1.000000      1.000000    1.000000            1.000000   \n",
       "\n",
       "            price  half-mile_sub_count  \n",
       "count  300.000000           300.000000  \n",
       "mean     0.839502             0.094422  \n",
       "std      0.269801             0.189813  \n",
       "min      0.000000             0.000000  \n",
       "25%      0.600000             0.000000  \n",
       "50%      1.000000             0.000000  \n",
       "75%      1.000000             0.112245  \n",
       "max      1.000000             1.000000  "
      ]
     },
     "execution_count": 283,
     "metadata": {},
     "output_type": "execute_result"
    }
   ],
   "source": [
    "df.describe()"
   ]
  },
  {
   "cell_type": "code",
   "execution_count": 284,
   "metadata": {
    "collapsed": true
   },
   "outputs": [],
   "source": [
    "df_old = pd.read_csv('scoring_df.csv')"
   ]
  },
  {
   "cell_type": "code",
   "execution_count": 285,
   "metadata": {
    "collapsed": false
   },
   "outputs": [
    {
     "data": {
      "text/html": [
       "<div>\n",
       "<table border=\"1\" class=\"dataframe\">\n",
       "  <thead>\n",
       "    <tr style=\"text-align: right;\">\n",
       "      <th></th>\n",
       "      <th>Unnamed: 0</th>\n",
       "      <th>neighborhood</th>\n",
       "      <th>lat</th>\n",
       "      <th>lng</th>\n",
       "      <th>subway</th>\n",
       "      <th>competitors</th>\n",
       "      <th>rating</th>\n",
       "      <th>review_count</th>\n",
       "      <th>price</th>\n",
       "      <th>rent</th>\n",
       "      <th>half-mile_sub_count</th>\n",
       "      <th>unsupervised_score</th>\n",
       "    </tr>\n",
       "  </thead>\n",
       "  <tbody>\n",
       "    <tr>\n",
       "      <th>0</th>\n",
       "      <td>0</td>\n",
       "      <td>0</td>\n",
       "      <td>40.765887</td>\n",
       "      <td>-74.165511</td>\n",
       "      <td>0</td>\n",
       "      <td>1</td>\n",
       "      <td>0.00</td>\n",
       "      <td>0.0</td>\n",
       "      <td>0.0</td>\n",
       "      <td>59.722800</td>\n",
       "      <td>0</td>\n",
       "      <td>0.004134</td>\n",
       "    </tr>\n",
       "    <tr>\n",
       "      <th>1</th>\n",
       "      <td>1</td>\n",
       "      <td>1</td>\n",
       "      <td>40.662722</td>\n",
       "      <td>-73.908039</td>\n",
       "      <td>10</td>\n",
       "      <td>1</td>\n",
       "      <td>0.00</td>\n",
       "      <td>0.0</td>\n",
       "      <td>0.0</td>\n",
       "      <td>40.481853</td>\n",
       "      <td>9</td>\n",
       "      <td>0.017018</td>\n",
       "    </tr>\n",
       "    <tr>\n",
       "      <th>2</th>\n",
       "      <td>2</td>\n",
       "      <td>2</td>\n",
       "      <td>40.774802</td>\n",
       "      <td>-73.959325</td>\n",
       "      <td>8</td>\n",
       "      <td>1</td>\n",
       "      <td>3.45</td>\n",
       "      <td>216.7</td>\n",
       "      <td>1.9</td>\n",
       "      <td>89.332939</td>\n",
       "      <td>22</td>\n",
       "      <td>0.002198</td>\n",
       "    </tr>\n",
       "    <tr>\n",
       "      <th>3</th>\n",
       "      <td>3</td>\n",
       "      <td>3</td>\n",
       "      <td>40.785104</td>\n",
       "      <td>-73.794881</td>\n",
       "      <td>0</td>\n",
       "      <td>1</td>\n",
       "      <td>0.00</td>\n",
       "      <td>0.0</td>\n",
       "      <td>0.0</td>\n",
       "      <td>38.787253</td>\n",
       "      <td>0</td>\n",
       "      <td>0.003145</td>\n",
       "    </tr>\n",
       "    <tr>\n",
       "      <th>4</th>\n",
       "      <td>4</td>\n",
       "      <td>4</td>\n",
       "      <td>40.936005</td>\n",
       "      <td>-74.063185</td>\n",
       "      <td>0</td>\n",
       "      <td>0</td>\n",
       "      <td>0.00</td>\n",
       "      <td>0.0</td>\n",
       "      <td>0.0</td>\n",
       "      <td>75.996667</td>\n",
       "      <td>0</td>\n",
       "      <td>0.001561</td>\n",
       "    </tr>\n",
       "  </tbody>\n",
       "</table>\n",
       "</div>"
      ],
      "text/plain": [
       "   Unnamed: 0  neighborhood        lat        lng  subway  competitors  \\\n",
       "0           0             0  40.765887 -74.165511       0            1   \n",
       "1           1             1  40.662722 -73.908039      10            1   \n",
       "2           2             2  40.774802 -73.959325       8            1   \n",
       "3           3             3  40.785104 -73.794881       0            1   \n",
       "4           4             4  40.936005 -74.063185       0            0   \n",
       "\n",
       "   rating  review_count  price       rent  half-mile_sub_count  \\\n",
       "0    0.00           0.0    0.0  59.722800                    0   \n",
       "1    0.00           0.0    0.0  40.481853                    9   \n",
       "2    3.45         216.7    1.9  89.332939                   22   \n",
       "3    0.00           0.0    0.0  38.787253                    0   \n",
       "4    0.00           0.0    0.0  75.996667                    0   \n",
       "\n",
       "   unsupervised_score  \n",
       "0            0.004134  \n",
       "1            0.017018  \n",
       "2            0.002198  \n",
       "3            0.003145  \n",
       "4            0.001561  "
      ]
     },
     "execution_count": 285,
     "metadata": {},
     "output_type": "execute_result"
    }
   ],
   "source": [
    "df_old.head()"
   ]
  },
  {
   "cell_type": "code",
   "execution_count": 286,
   "metadata": {
    "collapsed": false
   },
   "outputs": [
    {
     "data": {
      "text/html": [
       "<div>\n",
       "<table border=\"1\" class=\"dataframe\">\n",
       "  <thead>\n",
       "    <tr style=\"text-align: right;\">\n",
       "      <th></th>\n",
       "      <th>Unnamed: 0</th>\n",
       "      <th>neighborhood</th>\n",
       "      <th>lat</th>\n",
       "      <th>lng</th>\n",
       "      <th>subway</th>\n",
       "      <th>competitors</th>\n",
       "      <th>rating</th>\n",
       "      <th>review_count</th>\n",
       "      <th>price</th>\n",
       "      <th>rent</th>\n",
       "      <th>half-mile_sub_count</th>\n",
       "      <th>unsupervised_score</th>\n",
       "    </tr>\n",
       "  </thead>\n",
       "  <tbody>\n",
       "    <tr>\n",
       "      <th>count</th>\n",
       "      <td>300.000000</td>\n",
       "      <td>300.000000</td>\n",
       "      <td>300.000000</td>\n",
       "      <td>300.000000</td>\n",
       "      <td>300.000000</td>\n",
       "      <td>300.000000</td>\n",
       "      <td>300.000000</td>\n",
       "      <td>300.000000</td>\n",
       "      <td>300.000000</td>\n",
       "      <td>300.000000</td>\n",
       "      <td>300.000000</td>\n",
       "      <td>300.000000</td>\n",
       "    </tr>\n",
       "    <tr>\n",
       "      <th>mean</th>\n",
       "      <td>149.500000</td>\n",
       "      <td>149.500000</td>\n",
       "      <td>40.764057</td>\n",
       "      <td>-73.978337</td>\n",
       "      <td>6.426667</td>\n",
       "      <td>1.503333</td>\n",
       "      <td>0.995969</td>\n",
       "      <td>34.576492</td>\n",
       "      <td>0.401246</td>\n",
       "      <td>50.226240</td>\n",
       "      <td>9.253333</td>\n",
       "      <td>0.005670</td>\n",
       "    </tr>\n",
       "    <tr>\n",
       "      <th>std</th>\n",
       "      <td>86.746758</td>\n",
       "      <td>86.746758</td>\n",
       "      <td>0.095302</td>\n",
       "      <td>0.130657</td>\n",
       "      <td>9.404935</td>\n",
       "      <td>3.716994</td>\n",
       "      <td>1.598711</td>\n",
       "      <td>84.343820</td>\n",
       "      <td>0.674502</td>\n",
       "      <td>29.837998</td>\n",
       "      <td>18.601682</td>\n",
       "      <td>0.007250</td>\n",
       "    </tr>\n",
       "    <tr>\n",
       "      <th>min</th>\n",
       "      <td>0.000000</td>\n",
       "      <td>0.000000</td>\n",
       "      <td>40.559865</td>\n",
       "      <td>-74.257021</td>\n",
       "      <td>0.000000</td>\n",
       "      <td>0.000000</td>\n",
       "      <td>0.000000</td>\n",
       "      <td>0.000000</td>\n",
       "      <td>0.000000</td>\n",
       "      <td>7.500000</td>\n",
       "      <td>0.000000</td>\n",
       "      <td>0.000000</td>\n",
       "    </tr>\n",
       "    <tr>\n",
       "      <th>25%</th>\n",
       "      <td>74.750000</td>\n",
       "      <td>74.750000</td>\n",
       "      <td>40.702182</td>\n",
       "      <td>-74.069863</td>\n",
       "      <td>0.000000</td>\n",
       "      <td>0.000000</td>\n",
       "      <td>0.000000</td>\n",
       "      <td>0.000000</td>\n",
       "      <td>0.000000</td>\n",
       "      <td>31.594167</td>\n",
       "      <td>0.000000</td>\n",
       "      <td>0.002222</td>\n",
       "    </tr>\n",
       "    <tr>\n",
       "      <th>50%</th>\n",
       "      <td>149.500000</td>\n",
       "      <td>149.500000</td>\n",
       "      <td>40.754267</td>\n",
       "      <td>-73.977200</td>\n",
       "      <td>0.000000</td>\n",
       "      <td>1.000000</td>\n",
       "      <td>0.000000</td>\n",
       "      <td>0.000000</td>\n",
       "      <td>0.000000</td>\n",
       "      <td>44.500000</td>\n",
       "      <td>0.000000</td>\n",
       "      <td>0.003785</td>\n",
       "    </tr>\n",
       "    <tr>\n",
       "      <th>75%</th>\n",
       "      <td>224.250000</td>\n",
       "      <td>224.250000</td>\n",
       "      <td>40.836980</td>\n",
       "      <td>-73.890067</td>\n",
       "      <td>11.000000</td>\n",
       "      <td>2.000000</td>\n",
       "      <td>3.100000</td>\n",
       "      <td>19.380952</td>\n",
       "      <td>1.000000</td>\n",
       "      <td>57.444167</td>\n",
       "      <td>11.000000</td>\n",
       "      <td>0.006332</td>\n",
       "    </tr>\n",
       "    <tr>\n",
       "      <th>max</th>\n",
       "      <td>299.000000</td>\n",
       "      <td>299.000000</td>\n",
       "      <td>40.977362</td>\n",
       "      <td>-73.697022</td>\n",
       "      <td>54.000000</td>\n",
       "      <td>51.000000</td>\n",
       "      <td>4.500000</td>\n",
       "      <td>656.000000</td>\n",
       "      <td>2.500000</td>\n",
       "      <td>294.735000</td>\n",
       "      <td>98.000000</td>\n",
       "      <td>0.064764</td>\n",
       "    </tr>\n",
       "  </tbody>\n",
       "</table>\n",
       "</div>"
      ],
      "text/plain": [
       "       Unnamed: 0  neighborhood         lat         lng      subway  \\\n",
       "count  300.000000    300.000000  300.000000  300.000000  300.000000   \n",
       "mean   149.500000    149.500000   40.764057  -73.978337    6.426667   \n",
       "std     86.746758     86.746758    0.095302    0.130657    9.404935   \n",
       "min      0.000000      0.000000   40.559865  -74.257021    0.000000   \n",
       "25%     74.750000     74.750000   40.702182  -74.069863    0.000000   \n",
       "50%    149.500000    149.500000   40.754267  -73.977200    0.000000   \n",
       "75%    224.250000    224.250000   40.836980  -73.890067   11.000000   \n",
       "max    299.000000    299.000000   40.977362  -73.697022   54.000000   \n",
       "\n",
       "       competitors      rating  review_count       price        rent  \\\n",
       "count   300.000000  300.000000    300.000000  300.000000  300.000000   \n",
       "mean      1.503333    0.995969     34.576492    0.401246   50.226240   \n",
       "std       3.716994    1.598711     84.343820    0.674502   29.837998   \n",
       "min       0.000000    0.000000      0.000000    0.000000    7.500000   \n",
       "25%       0.000000    0.000000      0.000000    0.000000   31.594167   \n",
       "50%       1.000000    0.000000      0.000000    0.000000   44.500000   \n",
       "75%       2.000000    3.100000     19.380952    1.000000   57.444167   \n",
       "max      51.000000    4.500000    656.000000    2.500000  294.735000   \n",
       "\n",
       "       half-mile_sub_count  unsupervised_score  \n",
       "count           300.000000          300.000000  \n",
       "mean              9.253333            0.005670  \n",
       "std              18.601682            0.007250  \n",
       "min               0.000000            0.000000  \n",
       "25%               0.000000            0.002222  \n",
       "50%               0.000000            0.003785  \n",
       "75%              11.000000            0.006332  \n",
       "max              98.000000            0.064764  "
      ]
     },
     "execution_count": 286,
     "metadata": {},
     "output_type": "execute_result"
    }
   ],
   "source": [
    "df_old.describe()"
   ]
  },
  {
   "cell_type": "code",
   "execution_count": 287,
   "metadata": {
    "collapsed": true
   },
   "outputs": [],
   "source": [
    "## use df_old for making histograms and scatterplots"
   ]
  },
  {
   "cell_type": "code",
   "execution_count": 288,
   "metadata": {
    "collapsed": false
   },
   "outputs": [],
   "source": [
    "%matplotlib inline"
   ]
  },
  {
   "cell_type": "code",
   "execution_count": 289,
   "metadata": {
    "collapsed": false
   },
   "outputs": [
    {
     "data": {
      "text/plain": [
       "<matplotlib.axes._subplots.AxesSubplot at 0x13ce2ef0>"
      ]
     },
     "execution_count": 289,
     "metadata": {},
     "output_type": "execute_result"
    },
    {
     "data": {
      "image/png": "[encoded data removed]",
      "text/plain": [
       "<matplotlib.figure.Figure at 0x13c8cb00>"
      ]
     },
     "metadata": {},
     "output_type": "display_data"
    }
   ],
   "source": [
    "df_old['competitors'].hist()"
   ]
  },
  {
   "cell_type": "code",
   "execution_count": 290,
   "metadata": {
    "collapsed": false
   },
   "outputs": [],
   "source": [
    "df_old['comp_bin'] = pd.cut(df_old['competitors'], [0,5,10,15,20,max(df_old['competitors']) + 1], labels = [1,2,3,4,5])"
   ]
  },
  {
   "cell_type": "code",
   "execution_count": 291,
   "metadata": {
    "collapsed": false
   },
   "outputs": [
    {
     "data": {
      "text/plain": [
       "<matplotlib.axes._subplots.AxesSubplot at 0x13d8f898>"
      ]
     },
     "execution_count": 291,
     "metadata": {},
     "output_type": "execute_result"
    },
    {
     "data": {
      "image/png": "[encoded data removed]",
      "text/plain": [
       "<matplotlib.figure.Figure at 0x13da0e48>"
      ]
     },
     "metadata": {},
     "output_type": "display_data"
    }
   ],
   "source": [
    "df_old['comp_bin'].hist()"
   ]
  },
  {
   "cell_type": "code",
   "execution_count": 292,
   "metadata": {
    "collapsed": false
   },
   "outputs": [
    {
     "data": {
      "text/plain": [
       "<matplotlib.axes._subplots.AxesSubplot at 0x13e07518>"
      ]
     },
     "execution_count": 292,
     "metadata": {},
     "output_type": "execute_result"
    },
    {
     "data": {
      "image/png": "[encoded data removed]",
      "text/plain": [
       "<matplotlib.figure.Figure at 0x13fbdd30>"
      ]
     },
     "metadata": {},
     "output_type": "display_data"
    }
   ],
   "source": [
    "df_old['half-mile_sub_count'].hist()"
   ]
  },
  {
   "cell_type": "code",
   "execution_count": 293,
   "metadata": {
    "collapsed": true
   },
   "outputs": [],
   "source": [
    "import matplotlib.pyplot as plt"
   ]
  },
  {
   "cell_type": "code",
   "execution_count": 294,
   "metadata": {
    "collapsed": false
   },
   "outputs": [
    {
     "data": {
      "text/plain": [
       "<matplotlib.text.Text at 0x13dd2710>"
      ]
     },
     "execution_count": 294,
     "metadata": {},
     "output_type": "execute_result"
    },
    {
     "data": {
      "image/png": "[encoded data removed]",
      "text/plain": [
       "<matplotlib.figure.Figure at 0x14069c18>"
      ]
     },
     "metadata": {},
     "output_type": "display_data"
    }
   ],
   "source": [
    "df_old['rent'].hist()\n",
    "plt.title('Histogram of rent per sq foot')\n",
    "plt.xlabel('Rent per sq foot')"
   ]
  },
  {
   "cell_type": "code",
   "execution_count": 295,
   "metadata": {
    "collapsed": false
   },
   "outputs": [],
   "source": [
    "df_old['n_rent'] = pd.cut(df_old['rent'], [0,25,50,75,100,125,150,max(df_old['rent'])+1], labels = ['0-25','25-50','50-75','75-100','100-125','125-150','150+'])"
   ]
  },
  {
   "cell_type": "code",
   "execution_count": 296,
   "metadata": {
    "collapsed": false
   },
   "outputs": [],
   "source": [
    "d = df_old[['n_rent','rent']].groupby(['n_rent']).agg(['count'])\n"
   ]
  },
  {
   "cell_type": "code",
   "execution_count": 297,
   "metadata": {
    "collapsed": false
   },
   "outputs": [
    {
     "data": {
      "text/html": [
       "<div>\n",
       "<table border=\"1\" class=\"dataframe\">\n",
       "  <thead>\n",
       "    <tr>\n",
       "      <th></th>\n",
       "      <th>n_rent</th>\n",
       "      <th>rent</th>\n",
       "    </tr>\n",
       "    <tr>\n",
       "      <th></th>\n",
       "      <th></th>\n",
       "      <th>count</th>\n",
       "    </tr>\n",
       "  </thead>\n",
       "  <tbody>\n",
       "    <tr>\n",
       "      <th>0</th>\n",
       "      <td>0-25</td>\n",
       "      <td>35</td>\n",
       "    </tr>\n",
       "    <tr>\n",
       "      <th>1</th>\n",
       "      <td>25-50</td>\n",
       "      <td>160</td>\n",
       "    </tr>\n",
       "    <tr>\n",
       "      <th>2</th>\n",
       "      <td>50-75</td>\n",
       "      <td>57</td>\n",
       "    </tr>\n",
       "    <tr>\n",
       "      <th>3</th>\n",
       "      <td>75-100</td>\n",
       "      <td>26</td>\n",
       "    </tr>\n",
       "    <tr>\n",
       "      <th>4</th>\n",
       "      <td>100-125</td>\n",
       "      <td>15</td>\n",
       "    </tr>\n",
       "    <tr>\n",
       "      <th>5</th>\n",
       "      <td>125-150</td>\n",
       "      <td>6</td>\n",
       "    </tr>\n",
       "    <tr>\n",
       "      <th>6</th>\n",
       "      <td>150+</td>\n",
       "      <td>1</td>\n",
       "    </tr>\n",
       "  </tbody>\n",
       "</table>\n",
       "</div>"
      ],
      "text/plain": [
       "    n_rent  rent\n",
       "           count\n",
       "0     0-25    35\n",
       "1    25-50   160\n",
       "2    50-75    57\n",
       "3   75-100    26\n",
       "4  100-125    15\n",
       "5  125-150     6\n",
       "6     150+     1"
      ]
     },
     "execution_count": 297,
     "metadata": {},
     "output_type": "execute_result"
    }
   ],
   "source": [
    "d.reset_index()"
   ]
  },
  {
   "cell_type": "code",
   "execution_count": 298,
   "metadata": {
    "collapsed": false
   },
   "outputs": [
    {
     "data": {
      "text/plain": [
       "<matplotlib.text.Text at 0x1417d278>"
      ]
     },
     "execution_count": 298,
     "metadata": {},
     "output_type": "execute_result"
    },
    {
     "data": {
      "image/png": "[encoded data removed]",
      "text/plain": [
       "<matplotlib.figure.Figure at 0xd330710>"
      ]
     },
     "metadata": {},
     "output_type": "display_data"
    }
   ],
   "source": [
    "d.plot(kind = 'bar')\n",
    "plt.xlabel('rent per sq foot')\n",
    "plt.title('Distribution of rent per sq. foot')"
   ]
  },
  {
   "cell_type": "code",
   "execution_count": null,
   "metadata": {
    "collapsed": true
   },
   "outputs": [],
   "source": []
  },
  {
   "cell_type": "code",
   "execution_count": null,
   "metadata": {
    "collapsed": true
   },
   "outputs": [],
   "source": []
  },
  {
   "cell_type": "code",
   "execution_count": 299,
   "metadata": {
    "collapsed": true
   },
   "outputs": [],
   "source": [
    "###Scatter plots"
   ]
  },
  {
   "cell_type": "code",
   "execution_count": 300,
   "metadata": {
    "collapsed": false
   },
   "outputs": [
    {
     "data": {
      "text/plain": [
       "<matplotlib.collections.PathCollection at 0x14266a58>"
      ]
     },
     "execution_count": 300,
     "metadata": {},
     "output_type": "execute_result"
    },
    {
     "data": {
      "image/png": "[encoded data removed]",
      "text/plain": [
       "<matplotlib.figure.Figure at 0x141f81d0>"
      ]
     },
     "metadata": {},
     "output_type": "display_data"
    }
   ],
   "source": [
    "plt.scatter(df_old['competitors'],df_old['unsupervised_score'])"
   ]
  },
  {
   "cell_type": "code",
   "execution_count": 301,
   "metadata": {
    "collapsed": false
   },
   "outputs": [
    {
     "data": {
      "text/plain": [
       "<matplotlib.collections.PathCollection at 0x132e2588>"
      ]
     },
     "execution_count": 301,
     "metadata": {},
     "output_type": "execute_result"
    },
    {
     "data": {
      "image/png": "[encoded data removed]",
      "text/plain": [
       "<matplotlib.figure.Figure at 0x14281f28>"
      ]
     },
     "metadata": {},
     "output_type": "display_data"
    }
   ],
   "source": [
    "plt.scatter(df['competitors'],df['unsupervised_score'])"
   ]
  },
  {
   "cell_type": "code",
   "execution_count": 302,
   "metadata": {
    "collapsed": false
   },
   "outputs": [
    {
     "data": {
      "text/plain": [
       "<matplotlib.collections.PathCollection at 0x10f3e7f0>"
      ]
     },
     "execution_count": 302,
     "metadata": {},
     "output_type": "execute_result"
    },
    {
     "data": {
      "image/png": "[encoded data removed]",
      "text/plain": [
       "<matplotlib.figure.Figure at 0x130b2f28>"
      ]
     },
     "metadata": {},
     "output_type": "display_data"
    }
   ],
   "source": [
    "plt.scatter(df_old['half-mile_sub_count'],df_old['unsupervised_score'])"
   ]
  },
  {
   "cell_type": "code",
   "execution_count": 303,
   "metadata": {
    "collapsed": false
   },
   "outputs": [
    {
     "data": {
      "text/plain": [
       "<matplotlib.collections.PathCollection at 0x154d6978>"
      ]
     },
     "execution_count": 303,
     "metadata": {},
     "output_type": "execute_result"
    },
    {
     "data": {
      "image/png": "[encoded data removed]",
      "text/plain": [
       "<matplotlib.figure.Figure at 0x154744a8>"
      ]
     },
     "metadata": {},
     "output_type": "display_data"
    }
   ],
   "source": [
    "plt.scatter(df['half-mile_sub_count'],df['unsupervised_score'])"
   ]
  },
  {
   "cell_type": "code",
   "execution_count": 304,
   "metadata": {
    "collapsed": false
   },
   "outputs": [
    {
     "data": {
      "text/plain": [
       "<matplotlib.collections.PathCollection at 0x1556c3c8>"
      ]
     },
     "execution_count": 304,
     "metadata": {},
     "output_type": "execute_result"
    },
    {
     "data": {
      "image/png": "[encoded data removed]",
      "text/plain": [
       "<matplotlib.figure.Figure at 0x154f3c88>"
      ]
     },
     "metadata": {},
     "output_type": "display_data"
    }
   ],
   "source": [
    "plt.scatter(df_old['rent'],df_old['unsupervised_score'])"
   ]
  },
  {
   "cell_type": "code",
   "execution_count": 305,
   "metadata": {
    "collapsed": false
   },
   "outputs": [
    {
     "data": {
      "text/plain": [
       "<matplotlib.collections.PathCollection at 0x15602550>"
      ]
     },
     "execution_count": 305,
     "metadata": {},
     "output_type": "execute_result"
    },
    {
     "data": {
      "image/png": "[encoded data removed]",
      "text/plain": [
       "<matplotlib.figure.Figure at 0x15586470>"
      ]
     },
     "metadata": {},
     "output_type": "display_data"
    }
   ],
   "source": [
    "plt.scatter(df['rent'],df['unsupervised_score'])"
   ]
  },
  {
   "cell_type": "code",
   "execution_count": 306,
   "metadata": {
    "collapsed": false
   },
   "outputs": [
    {
     "data": {
      "text/plain": [
       "<matplotlib.collections.PathCollection at 0x15691f28>"
      ]
     },
     "execution_count": 306,
     "metadata": {},
     "output_type": "execute_result"
    },
    {
     "data": {
      "image/png": "[encoded data removed]",
      "text/plain": [
       "<matplotlib.figure.Figure at 0x15624278>"
      ]
     },
     "metadata": {},
     "output_type": "display_data"
    }
   ],
   "source": [
    "plt.scatter(df['rating'],df['unsupervised_score'])"
   ]
  },
  {
   "cell_type": "code",
   "execution_count": 307,
   "metadata": {
    "collapsed": false
   },
   "outputs": [
    {
     "data": {
      "text/plain": [
       "<matplotlib.collections.PathCollection at 0x15726940>"
      ]
     },
     "execution_count": 307,
     "metadata": {},
     "output_type": "execute_result"
    },
    {
     "data": {
      "image/png": "[encoded data removed]",
      "text/plain": [
       "<matplotlib.figure.Figure at 0x156c6358>"
      ]
     },
     "metadata": {},
     "output_type": "display_data"
    }
   ],
   "source": [
    "plt.scatter(df['rating'],df['unsupervised_score'])"
   ]
  },
  {
   "cell_type": "code",
   "execution_count": null,
   "metadata": {
    "collapsed": true
   },
   "outputs": [],
   "source": []
  },
  {
   "cell_type": "code",
   "execution_count": null,
   "metadata": {
    "collapsed": true
   },
   "outputs": [],
   "source": []
  },
  {
   "cell_type": "code",
   "execution_count": null,
   "metadata": {
    "collapsed": true
   },
   "outputs": [],
   "source": []
  },
  {
   "cell_type": "markdown",
   "metadata": {},
   "source": [
    "## Analysis for Manhattan"
   ]
  },
  {
   "cell_type": "code",
   "execution_count": 308,
   "metadata": {
    "collapsed": false
   },
   "outputs": [
    {
     "data": {
      "text/html": [
       "<div>\n",
       "<table border=\"1\" class=\"dataframe\">\n",
       "  <thead>\n",
       "    <tr style=\"text-align: right;\">\n",
       "      <th></th>\n",
       "      <th>Unnamed: 0</th>\n",
       "      <th>neighborhood</th>\n",
       "      <th>lat</th>\n",
       "      <th>lng</th>\n",
       "      <th>Manhattan</th>\n",
       "      <th>competitors</th>\n",
       "      <th>rating</th>\n",
       "      <th>review_count</th>\n",
       "      <th>rent</th>\n",
       "      <th>unsupervised_score</th>\n",
       "      <th>price</th>\n",
       "      <th>half-mile_sub_count</th>\n",
       "    </tr>\n",
       "  </thead>\n",
       "  <tbody>\n",
       "    <tr>\n",
       "      <th>0</th>\n",
       "      <td>0</td>\n",
       "      <td>0</td>\n",
       "      <td>40.765887</td>\n",
       "      <td>-74.165511</td>\n",
       "      <td>0</td>\n",
       "      <td>0.980392</td>\n",
       "      <td>0.000000</td>\n",
       "      <td>0.000000</td>\n",
       "      <td>0.818188</td>\n",
       "      <td>0.063832</td>\n",
       "      <td>1.00</td>\n",
       "      <td>0.000000</td>\n",
       "    </tr>\n",
       "    <tr>\n",
       "      <th>1</th>\n",
       "      <td>1</td>\n",
       "      <td>1</td>\n",
       "      <td>40.662722</td>\n",
       "      <td>-73.908039</td>\n",
       "      <td>0</td>\n",
       "      <td>0.980392</td>\n",
       "      <td>0.000000</td>\n",
       "      <td>0.000000</td>\n",
       "      <td>0.885175</td>\n",
       "      <td>0.262769</td>\n",
       "      <td>1.00</td>\n",
       "      <td>0.091837</td>\n",
       "    </tr>\n",
       "    <tr>\n",
       "      <th>2</th>\n",
       "      <td>2</td>\n",
       "      <td>2</td>\n",
       "      <td>40.774802</td>\n",
       "      <td>-73.959325</td>\n",
       "      <td>1</td>\n",
       "      <td>0.980392</td>\n",
       "      <td>0.766667</td>\n",
       "      <td>0.330335</td>\n",
       "      <td>0.715101</td>\n",
       "      <td>0.033941</td>\n",
       "      <td>0.24</td>\n",
       "      <td>0.224490</td>\n",
       "    </tr>\n",
       "    <tr>\n",
       "      <th>3</th>\n",
       "      <td>3</td>\n",
       "      <td>3</td>\n",
       "      <td>40.785104</td>\n",
       "      <td>-73.794881</td>\n",
       "      <td>0</td>\n",
       "      <td>0.980392</td>\n",
       "      <td>0.000000</td>\n",
       "      <td>0.000000</td>\n",
       "      <td>0.891074</td>\n",
       "      <td>0.048555</td>\n",
       "      <td>1.00</td>\n",
       "      <td>0.000000</td>\n",
       "    </tr>\n",
       "    <tr>\n",
       "      <th>4</th>\n",
       "      <td>4</td>\n",
       "      <td>4</td>\n",
       "      <td>40.936005</td>\n",
       "      <td>-74.063185</td>\n",
       "      <td>0</td>\n",
       "      <td>1.000000</td>\n",
       "      <td>0.000000</td>\n",
       "      <td>0.000000</td>\n",
       "      <td>0.761531</td>\n",
       "      <td>0.024103</td>\n",
       "      <td>1.00</td>\n",
       "      <td>0.000000</td>\n",
       "    </tr>\n",
       "  </tbody>\n",
       "</table>\n",
       "</div>"
      ],
      "text/plain": [
       "   Unnamed: 0  neighborhood        lat        lng  Manhattan  competitors  \\\n",
       "0           0             0  40.765887 -74.165511          0     0.980392   \n",
       "1           1             1  40.662722 -73.908039          0     0.980392   \n",
       "2           2             2  40.774802 -73.959325          1     0.980392   \n",
       "3           3             3  40.785104 -73.794881          0     0.980392   \n",
       "4           4             4  40.936005 -74.063185          0     1.000000   \n",
       "\n",
       "     rating  review_count      rent  unsupervised_score  price  \\\n",
       "0  0.000000      0.000000  0.818188            0.063832   1.00   \n",
       "1  0.000000      0.000000  0.885175            0.262769   1.00   \n",
       "2  0.766667      0.330335  0.715101            0.033941   0.24   \n",
       "3  0.000000      0.000000  0.891074            0.048555   1.00   \n",
       "4  0.000000      0.000000  0.761531            0.024103   1.00   \n",
       "\n",
       "   half-mile_sub_count  \n",
       "0             0.000000  \n",
       "1             0.091837  \n",
       "2             0.224490  \n",
       "3             0.000000  \n",
       "4             0.000000  "
      ]
     },
     "execution_count": 308,
     "metadata": {},
     "output_type": "execute_result"
    }
   ],
   "source": [
    "df.head()"
   ]
  },
  {
   "cell_type": "code",
   "execution_count": 309,
   "metadata": {
    "collapsed": false
   },
   "outputs": [
    {
     "data": {
      "text/html": [
       "<div>\n",
       "<table border=\"1\" class=\"dataframe\">\n",
       "  <thead>\n",
       "    <tr style=\"text-align: right;\">\n",
       "      <th></th>\n",
       "      <th>Unnamed: 0</th>\n",
       "      <th>neighborhood</th>\n",
       "      <th>lat</th>\n",
       "      <th>lng</th>\n",
       "      <th>subway</th>\n",
       "      <th>competitors</th>\n",
       "      <th>rating</th>\n",
       "      <th>review_count</th>\n",
       "      <th>price</th>\n",
       "      <th>rent</th>\n",
       "      <th>half-mile_sub_count</th>\n",
       "      <th>unsupervised_score</th>\n",
       "      <th>comp_bin</th>\n",
       "      <th>n_rent</th>\n",
       "    </tr>\n",
       "  </thead>\n",
       "  <tbody>\n",
       "    <tr>\n",
       "      <th>0</th>\n",
       "      <td>0</td>\n",
       "      <td>0</td>\n",
       "      <td>40.765887</td>\n",
       "      <td>-74.165511</td>\n",
       "      <td>0</td>\n",
       "      <td>1</td>\n",
       "      <td>0.00</td>\n",
       "      <td>0.0</td>\n",
       "      <td>0.0</td>\n",
       "      <td>59.722800</td>\n",
       "      <td>0</td>\n",
       "      <td>0.004134</td>\n",
       "      <td>1.0</td>\n",
       "      <td>50-75</td>\n",
       "    </tr>\n",
       "    <tr>\n",
       "      <th>1</th>\n",
       "      <td>1</td>\n",
       "      <td>1</td>\n",
       "      <td>40.662722</td>\n",
       "      <td>-73.908039</td>\n",
       "      <td>10</td>\n",
       "      <td>1</td>\n",
       "      <td>0.00</td>\n",
       "      <td>0.0</td>\n",
       "      <td>0.0</td>\n",
       "      <td>40.481853</td>\n",
       "      <td>9</td>\n",
       "      <td>0.017018</td>\n",
       "      <td>1.0</td>\n",
       "      <td>25-50</td>\n",
       "    </tr>\n",
       "    <tr>\n",
       "      <th>2</th>\n",
       "      <td>2</td>\n",
       "      <td>2</td>\n",
       "      <td>40.774802</td>\n",
       "      <td>-73.959325</td>\n",
       "      <td>8</td>\n",
       "      <td>1</td>\n",
       "      <td>3.45</td>\n",
       "      <td>216.7</td>\n",
       "      <td>1.9</td>\n",
       "      <td>89.332939</td>\n",
       "      <td>22</td>\n",
       "      <td>0.002198</td>\n",
       "      <td>1.0</td>\n",
       "      <td>75-100</td>\n",
       "    </tr>\n",
       "    <tr>\n",
       "      <th>3</th>\n",
       "      <td>3</td>\n",
       "      <td>3</td>\n",
       "      <td>40.785104</td>\n",
       "      <td>-73.794881</td>\n",
       "      <td>0</td>\n",
       "      <td>1</td>\n",
       "      <td>0.00</td>\n",
       "      <td>0.0</td>\n",
       "      <td>0.0</td>\n",
       "      <td>38.787253</td>\n",
       "      <td>0</td>\n",
       "      <td>0.003145</td>\n",
       "      <td>1.0</td>\n",
       "      <td>25-50</td>\n",
       "    </tr>\n",
       "    <tr>\n",
       "      <th>4</th>\n",
       "      <td>4</td>\n",
       "      <td>4</td>\n",
       "      <td>40.936005</td>\n",
       "      <td>-74.063185</td>\n",
       "      <td>0</td>\n",
       "      <td>0</td>\n",
       "      <td>0.00</td>\n",
       "      <td>0.0</td>\n",
       "      <td>0.0</td>\n",
       "      <td>75.996667</td>\n",
       "      <td>0</td>\n",
       "      <td>0.001561</td>\n",
       "      <td>NaN</td>\n",
       "      <td>75-100</td>\n",
       "    </tr>\n",
       "  </tbody>\n",
       "</table>\n",
       "</div>"
      ],
      "text/plain": [
       "   Unnamed: 0  neighborhood        lat        lng  subway  competitors  \\\n",
       "0           0             0  40.765887 -74.165511       0            1   \n",
       "1           1             1  40.662722 -73.908039      10            1   \n",
       "2           2             2  40.774802 -73.959325       8            1   \n",
       "3           3             3  40.785104 -73.794881       0            1   \n",
       "4           4             4  40.936005 -74.063185       0            0   \n",
       "\n",
       "   rating  review_count  price       rent  half-mile_sub_count  \\\n",
       "0    0.00           0.0    0.0  59.722800                    0   \n",
       "1    0.00           0.0    0.0  40.481853                    9   \n",
       "2    3.45         216.7    1.9  89.332939                   22   \n",
       "3    0.00           0.0    0.0  38.787253                    0   \n",
       "4    0.00           0.0    0.0  75.996667                    0   \n",
       "\n",
       "   unsupervised_score comp_bin  n_rent  \n",
       "0            0.004134      1.0   50-75  \n",
       "1            0.017018      1.0   25-50  \n",
       "2            0.002198      1.0  75-100  \n",
       "3            0.003145      1.0   25-50  \n",
       "4            0.001561      NaN  75-100  "
      ]
     },
     "execution_count": 309,
     "metadata": {},
     "output_type": "execute_result"
    }
   ],
   "source": [
    "df_old.head()"
   ]
  },
  {
   "cell_type": "code",
   "execution_count": 310,
   "metadata": {
    "collapsed": true
   },
   "outputs": [],
   "source": [
    "df_m = df.loc[df['Manhattan'] == 1,]"
   ]
  },
  {
   "cell_type": "code",
   "execution_count": 311,
   "metadata": {
    "collapsed": false
   },
   "outputs": [
    {
     "data": {
      "text/plain": [
       "(47, 12)"
      ]
     },
     "execution_count": 311,
     "metadata": {},
     "output_type": "execute_result"
    }
   ],
   "source": [
    "df_m.shape"
   ]
  },
  {
   "cell_type": "code",
   "execution_count": 313,
   "metadata": {
    "collapsed": true
   },
   "outputs": [],
   "source": [
    "df_old_m = df_m[['neighborhood','Manhattan']].merge(df_old, left_on='neighborhood', right_on='neighborhood', how='left')"
   ]
  },
  {
   "cell_type": "code",
   "execution_count": 314,
   "metadata": {
    "collapsed": false
   },
   "outputs": [
    {
     "data": {
      "text/plain": [
       "(47, 15)"
      ]
     },
     "execution_count": 314,
     "metadata": {},
     "output_type": "execute_result"
    }
   ],
   "source": [
    "df_old_m.shape"
   ]
  },
  {
   "cell_type": "code",
   "execution_count": 173,
   "metadata": {
    "collapsed": false
   },
   "outputs": [
    {
     "data": {
      "text/html": [
       "<div>\n",
       "<table border=\"1\" class=\"dataframe\">\n",
       "  <thead>\n",
       "    <tr style=\"text-align: right;\">\n",
       "      <th></th>\n",
       "      <th>neighborhood</th>\n",
       "      <th>Manhattan</th>\n",
       "      <th>Unnamed: 0</th>\n",
       "      <th>lat</th>\n",
       "      <th>lng</th>\n",
       "      <th>subway</th>\n",
       "      <th>competitors</th>\n",
       "      <th>rating</th>\n",
       "      <th>review_count</th>\n",
       "      <th>price</th>\n",
       "      <th>rent</th>\n",
       "      <th>half-mile_sub_count</th>\n",
       "      <th>unsupervised_score</th>\n",
       "    </tr>\n",
       "  </thead>\n",
       "  <tbody>\n",
       "    <tr>\n",
       "      <th>0</th>\n",
       "      <td>2</td>\n",
       "      <td>1</td>\n",
       "      <td>2</td>\n",
       "      <td>40.774802</td>\n",
       "      <td>-73.959325</td>\n",
       "      <td>8</td>\n",
       "      <td>1</td>\n",
       "      <td>3.450000</td>\n",
       "      <td>216.700000</td>\n",
       "      <td>1.900000</td>\n",
       "      <td>89.332939</td>\n",
       "      <td>22</td>\n",
       "      <td>0.002198</td>\n",
       "    </tr>\n",
       "    <tr>\n",
       "      <th>1</th>\n",
       "      <td>6</td>\n",
       "      <td>1</td>\n",
       "      <td>6</td>\n",
       "      <td>40.724874</td>\n",
       "      <td>-73.995243</td>\n",
       "      <td>22</td>\n",
       "      <td>2</td>\n",
       "      <td>3.750000</td>\n",
       "      <td>247.625000</td>\n",
       "      <td>2.250000</td>\n",
       "      <td>114.987197</td>\n",
       "      <td>43</td>\n",
       "      <td>0.003781</td>\n",
       "    </tr>\n",
       "    <tr>\n",
       "      <th>2</th>\n",
       "      <td>13</td>\n",
       "      <td>1</td>\n",
       "      <td>13</td>\n",
       "      <td>40.821264</td>\n",
       "      <td>-73.953571</td>\n",
       "      <td>17</td>\n",
       "      <td>3</td>\n",
       "      <td>3.571429</td>\n",
       "      <td>19.857143</td>\n",
       "      <td>1.000000</td>\n",
       "      <td>29.443333</td>\n",
       "      <td>20</td>\n",
       "      <td>0.001732</td>\n",
       "    </tr>\n",
       "    <tr>\n",
       "      <th>3</th>\n",
       "      <td>15</td>\n",
       "      <td>1</td>\n",
       "      <td>15</td>\n",
       "      <td>40.756320</td>\n",
       "      <td>-73.983807</td>\n",
       "      <td>42</td>\n",
       "      <td>3</td>\n",
       "      <td>3.444444</td>\n",
       "      <td>220.111111</td>\n",
       "      <td>1.555556</td>\n",
       "      <td>80.461588</td>\n",
       "      <td>98</td>\n",
       "      <td>0.002229</td>\n",
       "    </tr>\n",
       "    <tr>\n",
       "      <th>4</th>\n",
       "      <td>29</td>\n",
       "      <td>1</td>\n",
       "      <td>29</td>\n",
       "      <td>40.706195</td>\n",
       "      <td>-74.012400</td>\n",
       "      <td>54</td>\n",
       "      <td>2</td>\n",
       "      <td>3.100000</td>\n",
       "      <td>80.300000</td>\n",
       "      <td>1.500000</td>\n",
       "      <td>71.373877</td>\n",
       "      <td>79</td>\n",
       "      <td>0.002117</td>\n",
       "    </tr>\n",
       "  </tbody>\n",
       "</table>\n",
       "</div>"
      ],
      "text/plain": [
       "   neighborhood  Manhattan  Unnamed: 0        lat        lng  subway  \\\n",
       "0             2          1           2  40.774802 -73.959325       8   \n",
       "1             6          1           6  40.724874 -73.995243      22   \n",
       "2            13          1          13  40.821264 -73.953571      17   \n",
       "3            15          1          15  40.756320 -73.983807      42   \n",
       "4            29          1          29  40.706195 -74.012400      54   \n",
       "\n",
       "   competitors    rating  review_count     price        rent  \\\n",
       "0            1  3.450000    216.700000  1.900000   89.332939   \n",
       "1            2  3.750000    247.625000  2.250000  114.987197   \n",
       "2            3  3.571429     19.857143  1.000000   29.443333   \n",
       "3            3  3.444444    220.111111  1.555556   80.461588   \n",
       "4            2  3.100000     80.300000  1.500000   71.373877   \n",
       "\n",
       "   half-mile_sub_count  unsupervised_score  \n",
       "0                   22            0.002198  \n",
       "1                   43            0.003781  \n",
       "2                   20            0.001732  \n",
       "3                   98            0.002229  \n",
       "4                   79            0.002117  "
      ]
     },
     "execution_count": 173,
     "metadata": {},
     "output_type": "execute_result"
    }
   ],
   "source": [
    "df_old_m.head()"
   ]
  },
  {
   "cell_type": "code",
   "execution_count": 82,
   "metadata": {
    "collapsed": false
   },
   "outputs": [
    {
     "data": {
      "text/plain": [
       "<matplotlib.axes._subplots.AxesSubplot at 0xbdb2ac8>"
      ]
     },
     "execution_count": 82,
     "metadata": {},
     "output_type": "execute_result"
    },
    {
     "data": {
      "image/png": "[encoded data removed]",
      "text/plain": [
       "<matplotlib.figure.Figure at 0xc0d6c18>"
      ]
     },
     "metadata": {},
     "output_type": "display_data"
    }
   ],
   "source": [
    "df_old_m['rent'].hist()"
   ]
  },
  {
   "cell_type": "code",
   "execution_count": 88,
   "metadata": {
    "collapsed": false
   },
   "outputs": [
    {
     "data": {
      "text/plain": [
       "29.443333333333307"
      ]
     },
     "execution_count": 88,
     "metadata": {},
     "output_type": "execute_result"
    }
   ],
   "source": [
    "min(df_old_m['rent'])"
   ]
  },
  {
   "cell_type": "code",
   "execution_count": 89,
   "metadata": {
    "collapsed": false
   },
   "outputs": [],
   "source": [
    "df_old_m['n_rent'] = pd.cut(df_old_m['rent'], [0,50,75,100,125,150,max(df_old['rent'])+1], labels = ['25-50','50-75','75-100','100-125','125-150','150+'])"
   ]
  },
  {
   "cell_type": "code",
   "execution_count": 90,
   "metadata": {
    "collapsed": false
   },
   "outputs": [],
   "source": [
    "d = df_old_m[['n_rent','rent']].groupby(['n_rent']).agg(['count'])\n"
   ]
  },
  {
   "cell_type": "code",
   "execution_count": 91,
   "metadata": {
    "collapsed": false
   },
   "outputs": [
    {
     "data": {
      "text/html": [
       "<div>\n",
       "<table border=\"1\" class=\"dataframe\">\n",
       "  <thead>\n",
       "    <tr>\n",
       "      <th></th>\n",
       "      <th>n_rent</th>\n",
       "      <th>rent</th>\n",
       "    </tr>\n",
       "    <tr>\n",
       "      <th></th>\n",
       "      <th></th>\n",
       "      <th>count</th>\n",
       "    </tr>\n",
       "  </thead>\n",
       "  <tbody>\n",
       "    <tr>\n",
       "      <th>0</th>\n",
       "      <td>25-50</td>\n",
       "      <td>14</td>\n",
       "    </tr>\n",
       "    <tr>\n",
       "      <th>1</th>\n",
       "      <td>50-75</td>\n",
       "      <td>11</td>\n",
       "    </tr>\n",
       "    <tr>\n",
       "      <th>2</th>\n",
       "      <td>75-100</td>\n",
       "      <td>9</td>\n",
       "    </tr>\n",
       "    <tr>\n",
       "      <th>3</th>\n",
       "      <td>100-125</td>\n",
       "      <td>6</td>\n",
       "    </tr>\n",
       "    <tr>\n",
       "      <th>4</th>\n",
       "      <td>125-150</td>\n",
       "      <td>6</td>\n",
       "    </tr>\n",
       "    <tr>\n",
       "      <th>5</th>\n",
       "      <td>150+</td>\n",
       "      <td>1</td>\n",
       "    </tr>\n",
       "  </tbody>\n",
       "</table>\n",
       "</div>"
      ],
      "text/plain": [
       "    n_rent  rent\n",
       "           count\n",
       "0    25-50    14\n",
       "1    50-75    11\n",
       "2   75-100     9\n",
       "3  100-125     6\n",
       "4  125-150     6\n",
       "5     150+     1"
      ]
     },
     "execution_count": 91,
     "metadata": {},
     "output_type": "execute_result"
    }
   ],
   "source": [
    "d.reset_index()"
   ]
  },
  {
   "cell_type": "code",
   "execution_count": 119,
   "metadata": {
    "collapsed": false
   },
   "outputs": [
    {
     "data": {
      "text/plain": [
       "<matplotlib.text.Text at 0xdc34b38>"
      ]
     },
     "execution_count": 119,
     "metadata": {},
     "output_type": "execute_result"
    },
    {
     "data": {
      "image/png": "[encoded data removed]",
      "text/plain": [
       "<matplotlib.figure.Figure at 0xdd5eb00>"
      ]
     },
     "metadata": {},
     "output_type": "display_data"
    }
   ],
   "source": [
    "d.plot(kind = 'bar')\n",
    "plt.title('Distribution of rent per sq. foot in Manhattan')\n",
    "plt.xlabel('$ per sq. foot per year')"
   ]
  },
  {
   "cell_type": "code",
   "execution_count": 96,
   "metadata": {
    "collapsed": false
   },
   "outputs": [
    {
     "data": {
      "text/plain": [
       "<matplotlib.collections.PathCollection at 0xd64deb8>"
      ]
     },
     "execution_count": 96,
     "metadata": {},
     "output_type": "execute_result"
    },
    {
     "data": {
      "image/png": "[encoded data removed]",
      "text/plain": [
       "<matplotlib.figure.Figure at 0xd5e4a58>"
      ]
     },
     "metadata": {},
     "output_type": "display_data"
    }
   ],
   "source": [
    "plt.scatter(df_old_m['rent'],df_old_m['unsupervised_score'])"
   ]
  },
  {
   "cell_type": "code",
   "execution_count": 104,
   "metadata": {
    "collapsed": true
   },
   "outputs": [],
   "source": [
    "rank = pd.read_csv('rank_df.csv')"
   ]
  },
  {
   "cell_type": "code",
   "execution_count": 105,
   "metadata": {
    "collapsed": false
   },
   "outputs": [
    {
     "data": {
      "text/html": [
       "<div>\n",
       "<table border=\"1\" class=\"dataframe\">\n",
       "  <thead>\n",
       "    <tr style=\"text-align: right;\">\n",
       "      <th></th>\n",
       "      <th>Unnamed: 0</th>\n",
       "      <th>Unnamed: 0.1</th>\n",
       "      <th>neighborhood</th>\n",
       "      <th>lat</th>\n",
       "      <th>lng</th>\n",
       "      <th>Manhattan</th>\n",
       "      <th>competitors</th>\n",
       "      <th>rating</th>\n",
       "      <th>review_count</th>\n",
       "      <th>rent</th>\n",
       "      <th>unsupervised_score</th>\n",
       "      <th>price</th>\n",
       "      <th>half-mile_sub_count</th>\n",
       "      <th>competitors_rank</th>\n",
       "      <th>half-mile_sub_count_rank</th>\n",
       "      <th>rent_rank</th>\n",
       "      <th>price_rank</th>\n",
       "      <th>unsupervised_score_rank</th>\n",
       "      <th>review_count_rank</th>\n",
       "      <th>rating_rank</th>\n",
       "    </tr>\n",
       "  </thead>\n",
       "  <tbody>\n",
       "    <tr>\n",
       "      <th>0</th>\n",
       "      <td>2</td>\n",
       "      <td>2</td>\n",
       "      <td>2</td>\n",
       "      <td>40.774802</td>\n",
       "      <td>-73.959325</td>\n",
       "      <td>1</td>\n",
       "      <td>0.980392</td>\n",
       "      <td>0.766667</td>\n",
       "      <td>0.330335</td>\n",
       "      <td>0.715101</td>\n",
       "      <td>0.033941</td>\n",
       "      <td>0.240000</td>\n",
       "      <td>0.224490</td>\n",
       "      <td>16</td>\n",
       "      <td>30</td>\n",
       "      <td>22</td>\n",
       "      <td>32</td>\n",
       "      <td>42</td>\n",
       "      <td>43</td>\n",
       "      <td>43</td>\n",
       "    </tr>\n",
       "    <tr>\n",
       "      <th>1</th>\n",
       "      <td>6</td>\n",
       "      <td>6</td>\n",
       "      <td>6</td>\n",
       "      <td>40.724874</td>\n",
       "      <td>-73.995243</td>\n",
       "      <td>1</td>\n",
       "      <td>0.960784</td>\n",
       "      <td>0.833333</td>\n",
       "      <td>0.377477</td>\n",
       "      <td>0.625787</td>\n",
       "      <td>0.058375</td>\n",
       "      <td>0.100000</td>\n",
       "      <td>0.438776</td>\n",
       "      <td>28</td>\n",
       "      <td>43</td>\n",
       "      <td>23</td>\n",
       "      <td>33</td>\n",
       "      <td>34</td>\n",
       "      <td>10</td>\n",
       "      <td>45</td>\n",
       "    </tr>\n",
       "    <tr>\n",
       "      <th>2</th>\n",
       "      <td>13</td>\n",
       "      <td>13</td>\n",
       "      <td>13</td>\n",
       "      <td>40.821264</td>\n",
       "      <td>-73.953571</td>\n",
       "      <td>1</td>\n",
       "      <td>0.941176</td>\n",
       "      <td>0.793651</td>\n",
       "      <td>0.030270</td>\n",
       "      <td>0.923605</td>\n",
       "      <td>0.026746</td>\n",
       "      <td>0.600000</td>\n",
       "      <td>0.204082</td>\n",
       "      <td>9</td>\n",
       "      <td>26</td>\n",
       "      <td>28</td>\n",
       "      <td>2</td>\n",
       "      <td>33</td>\n",
       "      <td>21</td>\n",
       "      <td>25</td>\n",
       "    </tr>\n",
       "    <tr>\n",
       "      <th>3</th>\n",
       "      <td>15</td>\n",
       "      <td>15</td>\n",
       "      <td>15</td>\n",
       "      <td>40.756320</td>\n",
       "      <td>-73.983807</td>\n",
       "      <td>1</td>\n",
       "      <td>0.941176</td>\n",
       "      <td>0.765432</td>\n",
       "      <td>0.335535</td>\n",
       "      <td>0.745986</td>\n",
       "      <td>0.034413</td>\n",
       "      <td>0.377778</td>\n",
       "      <td>1.000000</td>\n",
       "      <td>39</td>\n",
       "      <td>8</td>\n",
       "      <td>9</td>\n",
       "      <td>18</td>\n",
       "      <td>21</td>\n",
       "      <td>35</td>\n",
       "      <td>10</td>\n",
       "    </tr>\n",
       "    <tr>\n",
       "      <th>4</th>\n",
       "      <td>29</td>\n",
       "      <td>29</td>\n",
       "      <td>29</td>\n",
       "      <td>40.706195</td>\n",
       "      <td>-74.012400</td>\n",
       "      <td>1</td>\n",
       "      <td>0.960784</td>\n",
       "      <td>0.688889</td>\n",
       "      <td>0.122409</td>\n",
       "      <td>0.777625</td>\n",
       "      <td>0.032687</td>\n",
       "      <td>0.400000</td>\n",
       "      <td>0.806122</td>\n",
       "      <td>37</td>\n",
       "      <td>35</td>\n",
       "      <td>8</td>\n",
       "      <td>13</td>\n",
       "      <td>24</td>\n",
       "      <td>34</td>\n",
       "      <td>24</td>\n",
       "    </tr>\n",
       "  </tbody>\n",
       "</table>\n",
       "</div>"
      ],
      "text/plain": [
       "   Unnamed: 0  Unnamed: 0.1  neighborhood        lat        lng  Manhattan  \\\n",
       "0           2             2             2  40.774802 -73.959325          1   \n",
       "1           6             6             6  40.724874 -73.995243          1   \n",
       "2          13            13            13  40.821264 -73.953571          1   \n",
       "3          15            15            15  40.756320 -73.983807          1   \n",
       "4          29            29            29  40.706195 -74.012400          1   \n",
       "\n",
       "   competitors    rating  review_count      rent  unsupervised_score  \\\n",
       "0     0.980392  0.766667      0.330335  0.715101            0.033941   \n",
       "1     0.960784  0.833333      0.377477  0.625787            0.058375   \n",
       "2     0.941176  0.793651      0.030270  0.923605            0.026746   \n",
       "3     0.941176  0.765432      0.335535  0.745986            0.034413   \n",
       "4     0.960784  0.688889      0.122409  0.777625            0.032687   \n",
       "\n",
       "      price  half-mile_sub_count  competitors_rank  half-mile_sub_count_rank  \\\n",
       "0  0.240000             0.224490                16                        30   \n",
       "1  0.100000             0.438776                28                        43   \n",
       "2  0.600000             0.204082                 9                        26   \n",
       "3  0.377778             1.000000                39                         8   \n",
       "4  0.400000             0.806122                37                        35   \n",
       "\n",
       "   rent_rank  price_rank  unsupervised_score_rank  review_count_rank  \\\n",
       "0         22          32                       42                 43   \n",
       "1         23          33                       34                 10   \n",
       "2         28           2                       33                 21   \n",
       "3          9          18                       21                 35   \n",
       "4          8          13                       24                 34   \n",
       "\n",
       "   rating_rank  \n",
       "0           43  \n",
       "1           45  \n",
       "2           25  \n",
       "3           10  \n",
       "4           24  "
      ]
     },
     "execution_count": 105,
     "metadata": {},
     "output_type": "execute_result"
    }
   ],
   "source": [
    "rank.head()"
   ]
  },
  {
   "cell_type": "code",
   "execution_count": 174,
   "metadata": {
    "collapsed": true
   },
   "outputs": [],
   "source": [
    "f = pd.read_csv('scoring_df_final.csv')"
   ]
  },
  {
   "cell_type": "code",
   "execution_count": 175,
   "metadata": {
    "collapsed": false
   },
   "outputs": [
    {
     "data": {
      "text/html": [
       "<div>\n",
       "<table border=\"1\" class=\"dataframe\">\n",
       "  <thead>\n",
       "    <tr style=\"text-align: right;\">\n",
       "      <th></th>\n",
       "      <th>Unnamed: 0</th>\n",
       "      <th>neighborhood</th>\n",
       "      <th>lat</th>\n",
       "      <th>lng</th>\n",
       "      <th>Manhattan</th>\n",
       "      <th>competitors</th>\n",
       "      <th>rating</th>\n",
       "      <th>review_count</th>\n",
       "      <th>rent</th>\n",
       "      <th>unsupervised_score</th>\n",
       "      <th>price</th>\n",
       "      <th>half-mile_sub_count</th>\n",
       "    </tr>\n",
       "  </thead>\n",
       "  <tbody>\n",
       "    <tr>\n",
       "      <th>0</th>\n",
       "      <td>0</td>\n",
       "      <td>0</td>\n",
       "      <td>40.765887</td>\n",
       "      <td>-74.165511</td>\n",
       "      <td>0</td>\n",
       "      <td>0.980392</td>\n",
       "      <td>0.000000</td>\n",
       "      <td>0.000000</td>\n",
       "      <td>0.818188</td>\n",
       "      <td>0.063832</td>\n",
       "      <td>1.00</td>\n",
       "      <td>0.000000</td>\n",
       "    </tr>\n",
       "    <tr>\n",
       "      <th>1</th>\n",
       "      <td>1</td>\n",
       "      <td>1</td>\n",
       "      <td>40.662722</td>\n",
       "      <td>-73.908039</td>\n",
       "      <td>0</td>\n",
       "      <td>0.980392</td>\n",
       "      <td>0.000000</td>\n",
       "      <td>0.000000</td>\n",
       "      <td>0.885175</td>\n",
       "      <td>0.262769</td>\n",
       "      <td>1.00</td>\n",
       "      <td>0.091837</td>\n",
       "    </tr>\n",
       "    <tr>\n",
       "      <th>2</th>\n",
       "      <td>2</td>\n",
       "      <td>2</td>\n",
       "      <td>40.774802</td>\n",
       "      <td>-73.959325</td>\n",
       "      <td>1</td>\n",
       "      <td>0.980392</td>\n",
       "      <td>0.766667</td>\n",
       "      <td>0.330335</td>\n",
       "      <td>0.715101</td>\n",
       "      <td>0.033941</td>\n",
       "      <td>0.24</td>\n",
       "      <td>0.224490</td>\n",
       "    </tr>\n",
       "    <tr>\n",
       "      <th>3</th>\n",
       "      <td>3</td>\n",
       "      <td>3</td>\n",
       "      <td>40.785104</td>\n",
       "      <td>-73.794881</td>\n",
       "      <td>0</td>\n",
       "      <td>0.980392</td>\n",
       "      <td>0.000000</td>\n",
       "      <td>0.000000</td>\n",
       "      <td>0.891074</td>\n",
       "      <td>0.048555</td>\n",
       "      <td>1.00</td>\n",
       "      <td>0.000000</td>\n",
       "    </tr>\n",
       "    <tr>\n",
       "      <th>4</th>\n",
       "      <td>4</td>\n",
       "      <td>4</td>\n",
       "      <td>40.936005</td>\n",
       "      <td>-74.063185</td>\n",
       "      <td>0</td>\n",
       "      <td>1.000000</td>\n",
       "      <td>0.000000</td>\n",
       "      <td>0.000000</td>\n",
       "      <td>0.761531</td>\n",
       "      <td>0.024103</td>\n",
       "      <td>1.00</td>\n",
       "      <td>0.000000</td>\n",
       "    </tr>\n",
       "  </tbody>\n",
       "</table>\n",
       "</div>"
      ],
      "text/plain": [
       "   Unnamed: 0  neighborhood        lat        lng  Manhattan  competitors  \\\n",
       "0           0             0  40.765887 -74.165511          0     0.980392   \n",
       "1           1             1  40.662722 -73.908039          0     0.980392   \n",
       "2           2             2  40.774802 -73.959325          1     0.980392   \n",
       "3           3             3  40.785104 -73.794881          0     0.980392   \n",
       "4           4             4  40.936005 -74.063185          0     1.000000   \n",
       "\n",
       "     rating  review_count      rent  unsupervised_score  price  \\\n",
       "0  0.000000      0.000000  0.818188            0.063832   1.00   \n",
       "1  0.000000      0.000000  0.885175            0.262769   1.00   \n",
       "2  0.766667      0.330335  0.715101            0.033941   0.24   \n",
       "3  0.000000      0.000000  0.891074            0.048555   1.00   \n",
       "4  0.000000      0.000000  0.761531            0.024103   1.00   \n",
       "\n",
       "   half-mile_sub_count  \n",
       "0             0.000000  \n",
       "1             0.091837  \n",
       "2             0.224490  \n",
       "3             0.000000  \n",
       "4             0.000000  "
      ]
     },
     "execution_count": 175,
     "metadata": {},
     "output_type": "execute_result"
    }
   ],
   "source": [
    "f.head()"
   ]
  },
  {
   "cell_type": "code",
   "execution_count": 176,
   "metadata": {
    "collapsed": false
   },
   "outputs": [
    {
     "data": {
      "text/html": [
       "<div>\n",
       "<table border=\"1\" class=\"dataframe\">\n",
       "  <thead>\n",
       "    <tr style=\"text-align: right;\">\n",
       "      <th></th>\n",
       "      <th>neighborhood</th>\n",
       "      <th>Manhattan</th>\n",
       "      <th>Unnamed: 0</th>\n",
       "      <th>lat</th>\n",
       "      <th>lng</th>\n",
       "      <th>subway</th>\n",
       "      <th>competitors</th>\n",
       "      <th>rating</th>\n",
       "      <th>review_count</th>\n",
       "      <th>price</th>\n",
       "      <th>rent</th>\n",
       "      <th>half-mile_sub_count</th>\n",
       "      <th>unsupervised_score</th>\n",
       "    </tr>\n",
       "  </thead>\n",
       "  <tbody>\n",
       "    <tr>\n",
       "      <th>0</th>\n",
       "      <td>2</td>\n",
       "      <td>1</td>\n",
       "      <td>2</td>\n",
       "      <td>40.774802</td>\n",
       "      <td>-73.959325</td>\n",
       "      <td>8</td>\n",
       "      <td>1</td>\n",
       "      <td>3.450000</td>\n",
       "      <td>216.700000</td>\n",
       "      <td>1.900000</td>\n",
       "      <td>89.332939</td>\n",
       "      <td>22</td>\n",
       "      <td>0.002198</td>\n",
       "    </tr>\n",
       "    <tr>\n",
       "      <th>1</th>\n",
       "      <td>6</td>\n",
       "      <td>1</td>\n",
       "      <td>6</td>\n",
       "      <td>40.724874</td>\n",
       "      <td>-73.995243</td>\n",
       "      <td>22</td>\n",
       "      <td>2</td>\n",
       "      <td>3.750000</td>\n",
       "      <td>247.625000</td>\n",
       "      <td>2.250000</td>\n",
       "      <td>114.987197</td>\n",
       "      <td>43</td>\n",
       "      <td>0.003781</td>\n",
       "    </tr>\n",
       "    <tr>\n",
       "      <th>2</th>\n",
       "      <td>13</td>\n",
       "      <td>1</td>\n",
       "      <td>13</td>\n",
       "      <td>40.821264</td>\n",
       "      <td>-73.953571</td>\n",
       "      <td>17</td>\n",
       "      <td>3</td>\n",
       "      <td>3.571429</td>\n",
       "      <td>19.857143</td>\n",
       "      <td>1.000000</td>\n",
       "      <td>29.443333</td>\n",
       "      <td>20</td>\n",
       "      <td>0.001732</td>\n",
       "    </tr>\n",
       "    <tr>\n",
       "      <th>3</th>\n",
       "      <td>15</td>\n",
       "      <td>1</td>\n",
       "      <td>15</td>\n",
       "      <td>40.756320</td>\n",
       "      <td>-73.983807</td>\n",
       "      <td>42</td>\n",
       "      <td>3</td>\n",
       "      <td>3.444444</td>\n",
       "      <td>220.111111</td>\n",
       "      <td>1.555556</td>\n",
       "      <td>80.461588</td>\n",
       "      <td>98</td>\n",
       "      <td>0.002229</td>\n",
       "    </tr>\n",
       "    <tr>\n",
       "      <th>4</th>\n",
       "      <td>29</td>\n",
       "      <td>1</td>\n",
       "      <td>29</td>\n",
       "      <td>40.706195</td>\n",
       "      <td>-74.012400</td>\n",
       "      <td>54</td>\n",
       "      <td>2</td>\n",
       "      <td>3.100000</td>\n",
       "      <td>80.300000</td>\n",
       "      <td>1.500000</td>\n",
       "      <td>71.373877</td>\n",
       "      <td>79</td>\n",
       "      <td>0.002117</td>\n",
       "    </tr>\n",
       "  </tbody>\n",
       "</table>\n",
       "</div>"
      ],
      "text/plain": [
       "   neighborhood  Manhattan  Unnamed: 0        lat        lng  subway  \\\n",
       "0             2          1           2  40.774802 -73.959325       8   \n",
       "1             6          1           6  40.724874 -73.995243      22   \n",
       "2            13          1          13  40.821264 -73.953571      17   \n",
       "3            15          1          15  40.756320 -73.983807      42   \n",
       "4            29          1          29  40.706195 -74.012400      54   \n",
       "\n",
       "   competitors    rating  review_count     price        rent  \\\n",
       "0            1  3.450000    216.700000  1.900000   89.332939   \n",
       "1            2  3.750000    247.625000  2.250000  114.987197   \n",
       "2            3  3.571429     19.857143  1.000000   29.443333   \n",
       "3            3  3.444444    220.111111  1.555556   80.461588   \n",
       "4            2  3.100000     80.300000  1.500000   71.373877   \n",
       "\n",
       "   half-mile_sub_count  unsupervised_score  \n",
       "0                   22            0.002198  \n",
       "1                   43            0.003781  \n",
       "2                   20            0.001732  \n",
       "3                   98            0.002229  \n",
       "4                   79            0.002117  "
      ]
     },
     "execution_count": 176,
     "metadata": {},
     "output_type": "execute_result"
    }
   ],
   "source": [
    "df_old_m.head()"
   ]
  },
  {
   "cell_type": "code",
   "execution_count": 177,
   "metadata": {
    "collapsed": true
   },
   "outputs": [],
   "source": [
    "f['new_score'] = f['unsupervised_score']"
   ]
  },
  {
   "cell_type": "code",
   "execution_count": null,
   "metadata": {
    "collapsed": true
   },
   "outputs": [],
   "source": [
    "df_old = pd.read_csv('scoring_df.csv')\n"
   ]
  },
  {
   "cell_type": "code",
   "execution_count": 178,
   "metadata": {
    "collapsed": true
   },
   "outputs": [],
   "source": [
    "df_old_m = df_old_m.merge(f[['neighborhood','new_score']], left_on='neighborhood',right_on= 'neighborhood', how = 'left')"
   ]
  },
  {
   "cell_type": "code",
   "execution_count": 179,
   "metadata": {
    "collapsed": false
   },
   "outputs": [
    {
     "data": {
      "text/html": [
       "<div>\n",
       "<table border=\"1\" class=\"dataframe\">\n",
       "  <thead>\n",
       "    <tr style=\"text-align: right;\">\n",
       "      <th></th>\n",
       "      <th>neighborhood</th>\n",
       "      <th>Manhattan</th>\n",
       "      <th>Unnamed: 0</th>\n",
       "      <th>lat</th>\n",
       "      <th>lng</th>\n",
       "      <th>subway</th>\n",
       "      <th>competitors</th>\n",
       "      <th>rating</th>\n",
       "      <th>review_count</th>\n",
       "      <th>price</th>\n",
       "      <th>rent</th>\n",
       "      <th>half-mile_sub_count</th>\n",
       "      <th>unsupervised_score</th>\n",
       "      <th>new_score</th>\n",
       "    </tr>\n",
       "  </thead>\n",
       "  <tbody>\n",
       "    <tr>\n",
       "      <th>0</th>\n",
       "      <td>2</td>\n",
       "      <td>1</td>\n",
       "      <td>2</td>\n",
       "      <td>40.774802</td>\n",
       "      <td>-73.959325</td>\n",
       "      <td>8</td>\n",
       "      <td>1</td>\n",
       "      <td>3.450000</td>\n",
       "      <td>216.700000</td>\n",
       "      <td>1.900000</td>\n",
       "      <td>89.332939</td>\n",
       "      <td>22</td>\n",
       "      <td>0.002198</td>\n",
       "      <td>0.033941</td>\n",
       "    </tr>\n",
       "    <tr>\n",
       "      <th>1</th>\n",
       "      <td>6</td>\n",
       "      <td>1</td>\n",
       "      <td>6</td>\n",
       "      <td>40.724874</td>\n",
       "      <td>-73.995243</td>\n",
       "      <td>22</td>\n",
       "      <td>2</td>\n",
       "      <td>3.750000</td>\n",
       "      <td>247.625000</td>\n",
       "      <td>2.250000</td>\n",
       "      <td>114.987197</td>\n",
       "      <td>43</td>\n",
       "      <td>0.003781</td>\n",
       "      <td>0.058375</td>\n",
       "    </tr>\n",
       "    <tr>\n",
       "      <th>2</th>\n",
       "      <td>13</td>\n",
       "      <td>1</td>\n",
       "      <td>13</td>\n",
       "      <td>40.821264</td>\n",
       "      <td>-73.953571</td>\n",
       "      <td>17</td>\n",
       "      <td>3</td>\n",
       "      <td>3.571429</td>\n",
       "      <td>19.857143</td>\n",
       "      <td>1.000000</td>\n",
       "      <td>29.443333</td>\n",
       "      <td>20</td>\n",
       "      <td>0.001732</td>\n",
       "      <td>0.026746</td>\n",
       "    </tr>\n",
       "    <tr>\n",
       "      <th>3</th>\n",
       "      <td>15</td>\n",
       "      <td>1</td>\n",
       "      <td>15</td>\n",
       "      <td>40.756320</td>\n",
       "      <td>-73.983807</td>\n",
       "      <td>42</td>\n",
       "      <td>3</td>\n",
       "      <td>3.444444</td>\n",
       "      <td>220.111111</td>\n",
       "      <td>1.555556</td>\n",
       "      <td>80.461588</td>\n",
       "      <td>98</td>\n",
       "      <td>0.002229</td>\n",
       "      <td>0.034413</td>\n",
       "    </tr>\n",
       "    <tr>\n",
       "      <th>4</th>\n",
       "      <td>29</td>\n",
       "      <td>1</td>\n",
       "      <td>29</td>\n",
       "      <td>40.706195</td>\n",
       "      <td>-74.012400</td>\n",
       "      <td>54</td>\n",
       "      <td>2</td>\n",
       "      <td>3.100000</td>\n",
       "      <td>80.300000</td>\n",
       "      <td>1.500000</td>\n",
       "      <td>71.373877</td>\n",
       "      <td>79</td>\n",
       "      <td>0.002117</td>\n",
       "      <td>0.032687</td>\n",
       "    </tr>\n",
       "  </tbody>\n",
       "</table>\n",
       "</div>"
      ],
      "text/plain": [
       "   neighborhood  Manhattan  Unnamed: 0        lat        lng  subway  \\\n",
       "0             2          1           2  40.774802 -73.959325       8   \n",
       "1             6          1           6  40.724874 -73.995243      22   \n",
       "2            13          1          13  40.821264 -73.953571      17   \n",
       "3            15          1          15  40.756320 -73.983807      42   \n",
       "4            29          1          29  40.706195 -74.012400      54   \n",
       "\n",
       "   competitors    rating  review_count     price        rent  \\\n",
       "0            1  3.450000    216.700000  1.900000   89.332939   \n",
       "1            2  3.750000    247.625000  2.250000  114.987197   \n",
       "2            3  3.571429     19.857143  1.000000   29.443333   \n",
       "3            3  3.444444    220.111111  1.555556   80.461588   \n",
       "4            2  3.100000     80.300000  1.500000   71.373877   \n",
       "\n",
       "   half-mile_sub_count  unsupervised_score  new_score  \n",
       "0                   22            0.002198   0.033941  \n",
       "1                   43            0.003781   0.058375  \n",
       "2                   20            0.001732   0.026746  \n",
       "3                   98            0.002229   0.034413  \n",
       "4                   79            0.002117   0.032687  "
      ]
     },
     "execution_count": 179,
     "metadata": {},
     "output_type": "execute_result"
    }
   ],
   "source": [
    "df_old_m.head()"
   ]
  },
  {
   "cell_type": "code",
   "execution_count": null,
   "metadata": {
    "collapsed": true
   },
   "outputs": [],
   "source": []
  },
  {
   "cell_type": "code",
   "execution_count": 251,
   "metadata": {
    "collapsed": false
   },
   "outputs": [
    {
     "data": {
      "text/html": [
       "<div>\n",
       "<table border=\"1\" class=\"dataframe\">\n",
       "  <thead>\n",
       "    <tr style=\"text-align: right;\">\n",
       "      <th></th>\n",
       "      <th>neighborhood</th>\n",
       "      <th>Manhattan</th>\n",
       "      <th>Unnamed: 0</th>\n",
       "      <th>lat</th>\n",
       "      <th>lng</th>\n",
       "      <th>subway</th>\n",
       "      <th>competitors</th>\n",
       "      <th>rating</th>\n",
       "      <th>review_count</th>\n",
       "      <th>price</th>\n",
       "      <th>rent</th>\n",
       "      <th>half-mile_sub_count</th>\n",
       "      <th>unsupervised_score</th>\n",
       "      <th>new_score</th>\n",
       "    </tr>\n",
       "  </thead>\n",
       "  <tbody>\n",
       "    <tr>\n",
       "      <th>0</th>\n",
       "      <td>2</td>\n",
       "      <td>1</td>\n",
       "      <td>2</td>\n",
       "      <td>40.774802</td>\n",
       "      <td>-73.959325</td>\n",
       "      <td>8</td>\n",
       "      <td>1</td>\n",
       "      <td>3.450000</td>\n",
       "      <td>216.700000</td>\n",
       "      <td>1.900000</td>\n",
       "      <td>89.332939</td>\n",
       "      <td>22</td>\n",
       "      <td>0.002198</td>\n",
       "      <td>0.033941</td>\n",
       "    </tr>\n",
       "    <tr>\n",
       "      <th>1</th>\n",
       "      <td>6</td>\n",
       "      <td>1</td>\n",
       "      <td>6</td>\n",
       "      <td>40.724874</td>\n",
       "      <td>-73.995243</td>\n",
       "      <td>22</td>\n",
       "      <td>2</td>\n",
       "      <td>3.750000</td>\n",
       "      <td>247.625000</td>\n",
       "      <td>2.250000</td>\n",
       "      <td>114.987197</td>\n",
       "      <td>43</td>\n",
       "      <td>0.003781</td>\n",
       "      <td>0.058375</td>\n",
       "    </tr>\n",
       "    <tr>\n",
       "      <th>2</th>\n",
       "      <td>13</td>\n",
       "      <td>1</td>\n",
       "      <td>13</td>\n",
       "      <td>40.821264</td>\n",
       "      <td>-73.953571</td>\n",
       "      <td>17</td>\n",
       "      <td>3</td>\n",
       "      <td>3.571429</td>\n",
       "      <td>19.857143</td>\n",
       "      <td>1.000000</td>\n",
       "      <td>29.443333</td>\n",
       "      <td>20</td>\n",
       "      <td>0.001732</td>\n",
       "      <td>0.026746</td>\n",
       "    </tr>\n",
       "    <tr>\n",
       "      <th>3</th>\n",
       "      <td>15</td>\n",
       "      <td>1</td>\n",
       "      <td>15</td>\n",
       "      <td>40.756320</td>\n",
       "      <td>-73.983807</td>\n",
       "      <td>42</td>\n",
       "      <td>3</td>\n",
       "      <td>3.444444</td>\n",
       "      <td>220.111111</td>\n",
       "      <td>1.555556</td>\n",
       "      <td>80.461588</td>\n",
       "      <td>98</td>\n",
       "      <td>0.002229</td>\n",
       "      <td>0.034413</td>\n",
       "    </tr>\n",
       "    <tr>\n",
       "      <th>4</th>\n",
       "      <td>29</td>\n",
       "      <td>1</td>\n",
       "      <td>29</td>\n",
       "      <td>40.706195</td>\n",
       "      <td>-74.012400</td>\n",
       "      <td>54</td>\n",
       "      <td>2</td>\n",
       "      <td>3.100000</td>\n",
       "      <td>80.300000</td>\n",
       "      <td>1.500000</td>\n",
       "      <td>71.373877</td>\n",
       "      <td>79</td>\n",
       "      <td>0.002117</td>\n",
       "      <td>0.032687</td>\n",
       "    </tr>\n",
       "  </tbody>\n",
       "</table>\n",
       "</div>"
      ],
      "text/plain": [
       "   neighborhood  Manhattan  Unnamed: 0        lat        lng  subway  \\\n",
       "0             2          1           2  40.774802 -73.959325       8   \n",
       "1             6          1           6  40.724874 -73.995243      22   \n",
       "2            13          1          13  40.821264 -73.953571      17   \n",
       "3            15          1          15  40.756320 -73.983807      42   \n",
       "4            29          1          29  40.706195 -74.012400      54   \n",
       "\n",
       "   competitors    rating  review_count     price        rent  \\\n",
       "0            1  3.450000    216.700000  1.900000   89.332939   \n",
       "1            2  3.750000    247.625000  2.250000  114.987197   \n",
       "2            3  3.571429     19.857143  1.000000   29.443333   \n",
       "3            3  3.444444    220.111111  1.555556   80.461588   \n",
       "4            2  3.100000     80.300000  1.500000   71.373877   \n",
       "\n",
       "   half-mile_sub_count  unsupervised_score  new_score  \n",
       "0                   22            0.002198   0.033941  \n",
       "1                   43            0.003781   0.058375  \n",
       "2                   20            0.001732   0.026746  \n",
       "3                   98            0.002229   0.034413  \n",
       "4                   79            0.002117   0.032687  "
      ]
     },
     "execution_count": 251,
     "metadata": {},
     "output_type": "execute_result"
    }
   ],
   "source": [
    "df_old_m.head()"
   ]
  },
  {
   "cell_type": "code",
   "execution_count": 253,
   "metadata": {
    "collapsed": true
   },
   "outputs": [],
   "source": [
    "df_old_m = df_old_m.loc[df_old_m['neighborhood'] != 90,]"
   ]
  },
  {
   "cell_type": "code",
   "execution_count": 254,
   "metadata": {
    "collapsed": false
   },
   "outputs": [
    {
     "data": {
      "text/plain": [
       "<matplotlib.text.Text at 0xf4577f0>"
      ]
     },
     "execution_count": 254,
     "metadata": {},
     "output_type": "execute_result"
    },
    {
     "data": {
      "image/png": "[encoded data removed]",
      "text/plain": [
       "<matplotlib.figure.Figure at 0xf6b0dd8>"
      ]
     },
     "metadata": {},
     "output_type": "display_data"
    }
   ],
   "source": [
    "p = df_old_m.loc[df_old_m['rating'] > 2,]\n",
    "plt.scatter(p['rating'],p['new_score'])\n",
    "plt.xlabel('Rating')\n",
    "plt.ylabel('unsupervised score')"
   ]
  },
  {
   "cell_type": "code",
   "execution_count": 255,
   "metadata": {
    "collapsed": false
   },
   "outputs": [
    {
     "data": {
      "text/html": [
       "<div>\n",
       "<table border=\"1\" class=\"dataframe\">\n",
       "  <thead>\n",
       "    <tr style=\"text-align: right;\">\n",
       "      <th></th>\n",
       "      <th>neighborhood</th>\n",
       "      <th>Manhattan</th>\n",
       "      <th>Unnamed: 0</th>\n",
       "      <th>lat</th>\n",
       "      <th>lng</th>\n",
       "      <th>subway</th>\n",
       "      <th>competitors</th>\n",
       "      <th>rating</th>\n",
       "      <th>review_count</th>\n",
       "      <th>price</th>\n",
       "      <th>rent</th>\n",
       "      <th>half-mile_sub_count</th>\n",
       "      <th>unsupervised_score</th>\n",
       "      <th>new_score</th>\n",
       "    </tr>\n",
       "  </thead>\n",
       "  <tbody>\n",
       "    <tr>\n",
       "      <th>27</th>\n",
       "      <td>187</td>\n",
       "      <td>1</td>\n",
       "      <td>187</td>\n",
       "      <td>40.719389</td>\n",
       "      <td>-73.988512</td>\n",
       "      <td>13</td>\n",
       "      <td>11</td>\n",
       "      <td>3.673913</td>\n",
       "      <td>344.434783</td>\n",
       "      <td>1.347826</td>\n",
       "      <td>144.285</td>\n",
       "      <td>21</td>\n",
       "      <td>0.006337</td>\n",
       "      <td>0.097854</td>\n",
       "    </tr>\n",
       "  </tbody>\n",
       "</table>\n",
       "</div>"
      ],
      "text/plain": [
       "    neighborhood  Manhattan  Unnamed: 0        lat        lng  subway  \\\n",
       "27           187          1         187  40.719389 -73.988512      13   \n",
       "\n",
       "    competitors    rating  review_count     price     rent  \\\n",
       "27           11  3.673913    344.434783  1.347826  144.285   \n",
       "\n",
       "    half-mile_sub_count  unsupervised_score  new_score  \n",
       "27                   21            0.006337   0.097854  "
      ]
     },
     "execution_count": 255,
     "metadata": {},
     "output_type": "execute_result"
    }
   ],
   "source": [
    "df_old_m.ix[df_old_m['competitors'] == max(df_old_m['competitors']),]"
   ]
  },
  {
   "cell_type": "code",
   "execution_count": 256,
   "metadata": {
    "collapsed": false
   },
   "outputs": [
    {
     "data": {
      "text/plain": [
       "<matplotlib.text.Text at 0xf8c9518>"
      ]
     },
     "execution_count": 256,
     "metadata": {},
     "output_type": "execute_result"
    },
    {
     "data": {
      "image/png": "[encoded data removed]",
      "text/plain": [
       "<matplotlib.figure.Figure at 0xf8b19b0>"
      ]
     },
     "metadata": {},
     "output_type": "display_data"
    }
   ],
   "source": [
    "plt.scatter(df_old_m['review_count'],df_old_m['new_score'])\n",
    "plt.xlabel('Reviw count')\n",
    "plt.ylabel('unsupervised score')"
   ]
  },
  {
   "cell_type": "code",
   "execution_count": 257,
   "metadata": {
    "collapsed": false
   },
   "outputs": [
    {
     "data": {
      "text/plain": [
       "<matplotlib.text.Text at 0xf9546d8>"
      ]
     },
     "execution_count": 257,
     "metadata": {},
     "output_type": "execute_result"
    },
    {
     "data": {
      "image/png": "[encoded data removed]",
      "text/plain": [
       "<matplotlib.figure.Figure at 0xf94f1d0>"
      ]
     },
     "metadata": {},
     "output_type": "display_data"
    }
   ],
   "source": [
    "plt.scatter(df_old_m['half-mile_sub_count'],df_old_m['new_score'])\n",
    "plt.xlabel('No. of subways within 0.5 miles')\n",
    "plt.ylabel('unsupervised score')"
   ]
  },
  {
   "cell_type": "code",
   "execution_count": 258,
   "metadata": {
    "collapsed": false
   },
   "outputs": [
    {
     "data": {
      "text/plain": [
       "<matplotlib.text.Text at 0xf75add8>"
      ]
     },
     "execution_count": 258,
     "metadata": {},
     "output_type": "execute_result"
    },
    {
     "data": {
      "image/png": "[encoded data removed]",
      "text/plain": [
       "<matplotlib.figure.Figure at 0xf72dac8>"
      ]
     },
     "metadata": {},
     "output_type": "display_data"
    }
   ],
   "source": [
    "p = df_old_m.loc[df_old_m['rent']<200,]\n",
    "plt.scatter(p['rent'],p['new_score'])\n",
    "plt.xlabel('$ per sq. foot per year')\n",
    "plt.ylabel('unsupervised score')"
   ]
  },
  {
   "cell_type": "code",
   "execution_count": 259,
   "metadata": {
    "collapsed": false
   },
   "outputs": [
    {
     "data": {
      "text/plain": [
       "count    46.000000\n",
       "mean      2.760870\n",
       "std       2.460215\n",
       "min       0.000000\n",
       "25%       1.000000\n",
       "50%       2.000000\n",
       "75%       4.000000\n",
       "max      11.000000\n",
       "Name: competitors, dtype: float64"
      ]
     },
     "execution_count": 259,
     "metadata": {},
     "output_type": "execute_result"
    }
   ],
   "source": [
    "df_old_m['competitors'].describe()"
   ]
  },
  {
   "cell_type": "code",
   "execution_count": 260,
   "metadata": {
    "collapsed": false
   },
   "outputs": [
    {
     "data": {
      "text/plain": [
       "<matplotlib.text.Text at 0xf9dc320>"
      ]
     },
     "execution_count": 260,
     "metadata": {},
     "output_type": "execute_result"
    },
    {
     "data": {
      "image/png": "[encoded data removed]",
      "text/plain": [
       "<matplotlib.figure.Figure at 0xfa5c1d0>"
      ]
     },
     "metadata": {},
     "output_type": "display_data"
    }
   ],
   "source": [
    "p = df_old_m.loc[df_old_m['competitors'] < 20,]\n",
    "\n",
    "plt.scatter(p['competitors'],p['new_score'])\n",
    "plt.xlabel('No. of competitors')\n",
    "plt.ylabel('unsupervised score')"
   ]
  },
  {
   "cell_type": "code",
   "execution_count": null,
   "metadata": {
    "collapsed": true
   },
   "outputs": [],
   "source": []
  },
  {
   "cell_type": "code",
   "execution_count": null,
   "metadata": {
    "collapsed": true
   },
   "outputs": [],
   "source": []
  },
  {
   "cell_type": "markdown",
   "metadata": {},
   "source": [
    "### ADDING SCORES AND SCORE RANKS FOR 3 WEIGHTING SCHEMES"
   ]
  },
  {
   "cell_type": "code",
   "execution_count": 185,
   "metadata": {
    "collapsed": true
   },
   "outputs": [],
   "source": [
    "scores_f = pd.read_csv('rank_df.csv')"
   ]
  },
  {
   "cell_type": "code",
   "execution_count": 186,
   "metadata": {
    "collapsed": false
   },
   "outputs": [
    {
     "data": {
      "text/html": [
       "<div>\n",
       "<table border=\"1\" class=\"dataframe\">\n",
       "  <thead>\n",
       "    <tr style=\"text-align: right;\">\n",
       "      <th></th>\n",
       "      <th>Unnamed: 0</th>\n",
       "      <th>Unnamed: 0.1</th>\n",
       "      <th>neighborhood</th>\n",
       "      <th>lat</th>\n",
       "      <th>lng</th>\n",
       "      <th>Manhattan</th>\n",
       "      <th>competitors</th>\n",
       "      <th>rating</th>\n",
       "      <th>review_count</th>\n",
       "      <th>rent</th>\n",
       "      <th>unsupervised_score</th>\n",
       "      <th>price</th>\n",
       "      <th>half-mile_sub_count</th>\n",
       "      <th>competitors_rank</th>\n",
       "      <th>half-mile_sub_count_rank</th>\n",
       "      <th>rent_rank</th>\n",
       "      <th>price_rank</th>\n",
       "      <th>unsupervised_score_rank</th>\n",
       "      <th>review_count_rank</th>\n",
       "      <th>rating_rank</th>\n",
       "    </tr>\n",
       "  </thead>\n",
       "  <tbody>\n",
       "    <tr>\n",
       "      <th>0</th>\n",
       "      <td>2</td>\n",
       "      <td>2</td>\n",
       "      <td>2</td>\n",
       "      <td>40.774802</td>\n",
       "      <td>-73.959325</td>\n",
       "      <td>1</td>\n",
       "      <td>0.980392</td>\n",
       "      <td>0.766667</td>\n",
       "      <td>0.330335</td>\n",
       "      <td>0.715101</td>\n",
       "      <td>0.033941</td>\n",
       "      <td>0.240000</td>\n",
       "      <td>0.224490</td>\n",
       "      <td>16</td>\n",
       "      <td>30</td>\n",
       "      <td>22</td>\n",
       "      <td>32</td>\n",
       "      <td>42</td>\n",
       "      <td>43</td>\n",
       "      <td>43</td>\n",
       "    </tr>\n",
       "    <tr>\n",
       "      <th>1</th>\n",
       "      <td>6</td>\n",
       "      <td>6</td>\n",
       "      <td>6</td>\n",
       "      <td>40.724874</td>\n",
       "      <td>-73.995243</td>\n",
       "      <td>1</td>\n",
       "      <td>0.960784</td>\n",
       "      <td>0.833333</td>\n",
       "      <td>0.377477</td>\n",
       "      <td>0.625787</td>\n",
       "      <td>0.058375</td>\n",
       "      <td>0.100000</td>\n",
       "      <td>0.438776</td>\n",
       "      <td>28</td>\n",
       "      <td>43</td>\n",
       "      <td>23</td>\n",
       "      <td>33</td>\n",
       "      <td>34</td>\n",
       "      <td>10</td>\n",
       "      <td>45</td>\n",
       "    </tr>\n",
       "    <tr>\n",
       "      <th>2</th>\n",
       "      <td>13</td>\n",
       "      <td>13</td>\n",
       "      <td>13</td>\n",
       "      <td>40.821264</td>\n",
       "      <td>-73.953571</td>\n",
       "      <td>1</td>\n",
       "      <td>0.941176</td>\n",
       "      <td>0.793651</td>\n",
       "      <td>0.030270</td>\n",
       "      <td>0.923605</td>\n",
       "      <td>0.026746</td>\n",
       "      <td>0.600000</td>\n",
       "      <td>0.204082</td>\n",
       "      <td>9</td>\n",
       "      <td>26</td>\n",
       "      <td>28</td>\n",
       "      <td>2</td>\n",
       "      <td>33</td>\n",
       "      <td>21</td>\n",
       "      <td>25</td>\n",
       "    </tr>\n",
       "    <tr>\n",
       "      <th>3</th>\n",
       "      <td>15</td>\n",
       "      <td>15</td>\n",
       "      <td>15</td>\n",
       "      <td>40.756320</td>\n",
       "      <td>-73.983807</td>\n",
       "      <td>1</td>\n",
       "      <td>0.941176</td>\n",
       "      <td>0.765432</td>\n",
       "      <td>0.335535</td>\n",
       "      <td>0.745986</td>\n",
       "      <td>0.034413</td>\n",
       "      <td>0.377778</td>\n",
       "      <td>1.000000</td>\n",
       "      <td>39</td>\n",
       "      <td>8</td>\n",
       "      <td>9</td>\n",
       "      <td>18</td>\n",
       "      <td>21</td>\n",
       "      <td>35</td>\n",
       "      <td>10</td>\n",
       "    </tr>\n",
       "    <tr>\n",
       "      <th>4</th>\n",
       "      <td>29</td>\n",
       "      <td>29</td>\n",
       "      <td>29</td>\n",
       "      <td>40.706195</td>\n",
       "      <td>-74.012400</td>\n",
       "      <td>1</td>\n",
       "      <td>0.960784</td>\n",
       "      <td>0.688889</td>\n",
       "      <td>0.122409</td>\n",
       "      <td>0.777625</td>\n",
       "      <td>0.032687</td>\n",
       "      <td>0.400000</td>\n",
       "      <td>0.806122</td>\n",
       "      <td>37</td>\n",
       "      <td>35</td>\n",
       "      <td>8</td>\n",
       "      <td>13</td>\n",
       "      <td>24</td>\n",
       "      <td>34</td>\n",
       "      <td>24</td>\n",
       "    </tr>\n",
       "  </tbody>\n",
       "</table>\n",
       "</div>"
      ],
      "text/plain": [
       "   Unnamed: 0  Unnamed: 0.1  neighborhood        lat        lng  Manhattan  \\\n",
       "0           2             2             2  40.774802 -73.959325          1   \n",
       "1           6             6             6  40.724874 -73.995243          1   \n",
       "2          13            13            13  40.821264 -73.953571          1   \n",
       "3          15            15            15  40.756320 -73.983807          1   \n",
       "4          29            29            29  40.706195 -74.012400          1   \n",
       "\n",
       "   competitors    rating  review_count      rent  unsupervised_score  \\\n",
       "0     0.980392  0.766667      0.330335  0.715101            0.033941   \n",
       "1     0.960784  0.833333      0.377477  0.625787            0.058375   \n",
       "2     0.941176  0.793651      0.030270  0.923605            0.026746   \n",
       "3     0.941176  0.765432      0.335535  0.745986            0.034413   \n",
       "4     0.960784  0.688889      0.122409  0.777625            0.032687   \n",
       "\n",
       "      price  half-mile_sub_count  competitors_rank  half-mile_sub_count_rank  \\\n",
       "0  0.240000             0.224490                16                        30   \n",
       "1  0.100000             0.438776                28                        43   \n",
       "2  0.600000             0.204082                 9                        26   \n",
       "3  0.377778             1.000000                39                         8   \n",
       "4  0.400000             0.806122                37                        35   \n",
       "\n",
       "   rent_rank  price_rank  unsupervised_score_rank  review_count_rank  \\\n",
       "0         22          32                       42                 43   \n",
       "1         23          33                       34                 10   \n",
       "2         28           2                       33                 21   \n",
       "3          9          18                       21                 35   \n",
       "4          8          13                       24                 34   \n",
       "\n",
       "   rating_rank  \n",
       "0           43  \n",
       "1           45  \n",
       "2           25  \n",
       "3           10  \n",
       "4           24  "
      ]
     },
     "execution_count": 186,
     "metadata": {},
     "output_type": "execute_result"
    }
   ],
   "source": [
    "scores_f.head()"
   ]
  },
  {
   "cell_type": "code",
   "execution_count": 187,
   "metadata": {
    "collapsed": false
   },
   "outputs": [
    {
     "data": {
      "text/plain": [
       "(47, 20)"
      ]
     },
     "execution_count": 187,
     "metadata": {},
     "output_type": "execute_result"
    }
   ],
   "source": [
    "scores_f.shape"
   ]
  },
  {
   "cell_type": "markdown",
   "metadata": {},
   "source": [
    "### 3 schemes:\n",
    "\n",
    "- S1 equal weights = 1/6 for all\n",
    "\n",
    "        w_rating = 1/6\n",
    "        w_review = 1/6\n",
    "        w_unsup = 1/6\n",
    "        w_rent = 1/6\n",
    "        w_sub = 1/6\n",
    "        w_comp = 1/6\n",
    "\n",
    "- S2: high connectivity and low rent:\n",
    "       \n",
    "        w_rating = 0\n",
    "        w_review = 0\n",
    "        w_unsup = 0.0\n",
    "        w_rent = 0.5\n",
    "        w_sub = 0.5\n",
    "        w_comp = 0\n",
    "\n",
    "- S3: low competition and low rent\n",
    "\n",
    "        w_rating = 0\n",
    "        w_review = 0\n",
    "        w_unsup = 0.0\n",
    "        w_rent = 0.5\n",
    "        w_sub = 0.0\n",
    "        w_comp = 0.5\n",
    "\n",
    "\n",
    "- S4: high review and low competition\n",
    "\n",
    "        w_rating = 0.0\n",
    "        w_review = 0.5\n",
    "        w_unsup = 0.0\n",
    "        w_rent = 0.0\n",
    "        w_sub = 0.0\n",
    "        w_comp = 0.5"
   ]
  },
  {
   "cell_type": "code",
   "execution_count": 228,
   "metadata": {
    "collapsed": true
   },
   "outputs": [],
   "source": [
    "w_rating = 0\n",
    "w_review = 0\n",
    "w_unsup = 0.0\n",
    "w_rent = 0.5\n",
    "w_sub = 0.5\n",
    "w_comp = 0"
   ]
  },
  {
   "cell_type": "code",
   "execution_count": 229,
   "metadata": {
    "collapsed": false
   },
   "outputs": [],
   "source": [
    "#scores_f['S1'] = scores_f['rating'] * w_rating + scores_f['review_count'] * w_review + scores_f['unsupervised_score'] * w_unsup + scores_f['rent'] * w_rent + scores_f['half-mile_sub_count'] * w_sub + scores_f['competitors'] * w_comp"
   ]
  },
  {
   "cell_type": "code",
   "execution_count": 230,
   "metadata": {
    "collapsed": true
   },
   "outputs": [],
   "source": [
    "scores_f['S2'] = scores_f['rating'] * w_rating + scores_f['review_count'] * w_review + scores_f['unsupervised_score'] * w_unsup + scores_f['rent'] * w_rent + scores_f['half-mile_sub_count'] * w_sub + scores_f['competitors'] * w_comp"
   ]
  },
  {
   "cell_type": "code",
   "execution_count": 219,
   "metadata": {
    "collapsed": true
   },
   "outputs": [],
   "source": [
    "import numpy as np"
   ]
  },
  {
   "cell_type": "code",
   "execution_count": 231,
   "metadata": {
    "collapsed": false
   },
   "outputs": [],
   "source": [
    "scores_f['S2_rank'] = np.argsort(scores_f['S2']) + 1"
   ]
  },
  {
   "cell_type": "code",
   "execution_count": 261,
   "metadata": {
    "collapsed": true
   },
   "outputs": [],
   "source": [
    "scores_f.to_csv('neighborhoods_with_ranks_all_schemes.csv')"
   ]
  },
  {
   "cell_type": "code",
   "execution_count": 232,
   "metadata": {
    "collapsed": false
   },
   "outputs": [
    {
     "data": {
      "text/plain": [
       "count    47.000000\n",
       "mean     24.000000\n",
       "std      13.711309\n",
       "min       1.000000\n",
       "25%      12.500000\n",
       "50%      24.000000\n",
       "75%      35.500000\n",
       "max      47.000000\n",
       "Name: S1_rank, dtype: float64"
      ]
     },
     "execution_count": 232,
     "metadata": {},
     "output_type": "execute_result"
    }
   ],
   "source": [
    "scores_f['S1_rank'].describe()"
   ]
  },
  {
   "cell_type": "code",
   "execution_count": 233,
   "metadata": {
    "collapsed": false
   },
   "outputs": [
    {
     "data": {
      "text/html": [
       "<div>\n",
       "<table border=\"1\" class=\"dataframe\">\n",
       "  <thead>\n",
       "    <tr style=\"text-align: right;\">\n",
       "      <th></th>\n",
       "      <th>neighborhood</th>\n",
       "      <th>S1_rank</th>\n",
       "      <th>S2_rank</th>\n",
       "      <th>S3_rank</th>\n",
       "      <th>S4_rank</th>\n",
       "    </tr>\n",
       "  </thead>\n",
       "  <tbody>\n",
       "    <tr>\n",
       "      <th>0</th>\n",
       "      <td>2</td>\n",
       "      <td>43</td>\n",
       "      <td>22</td>\n",
       "      <td>22</td>\n",
       "      <td>16</td>\n",
       "    </tr>\n",
       "    <tr>\n",
       "      <th>1</th>\n",
       "      <td>6</td>\n",
       "      <td>8</td>\n",
       "      <td>8</td>\n",
       "      <td>8</td>\n",
       "      <td>15</td>\n",
       "    </tr>\n",
       "    <tr>\n",
       "      <th>2</th>\n",
       "      <td>13</td>\n",
       "      <td>10</td>\n",
       "      <td>28</td>\n",
       "      <td>26</td>\n",
       "      <td>43</td>\n",
       "    </tr>\n",
       "    <tr>\n",
       "      <th>3</th>\n",
       "      <td>15</td>\n",
       "      <td>11</td>\n",
       "      <td>26</td>\n",
       "      <td>28</td>\n",
       "      <td>3</td>\n",
       "    </tr>\n",
       "    <tr>\n",
       "      <th>4</th>\n",
       "      <td>29</td>\n",
       "      <td>17</td>\n",
       "      <td>23</td>\n",
       "      <td>23</td>\n",
       "      <td>10</td>\n",
       "    </tr>\n",
       "    <tr>\n",
       "      <th>5</th>\n",
       "      <td>31</td>\n",
       "      <td>25</td>\n",
       "      <td>11</td>\n",
       "      <td>11</td>\n",
       "      <td>35</td>\n",
       "    </tr>\n",
       "    <tr>\n",
       "      <th>6</th>\n",
       "      <td>38</td>\n",
       "      <td>7</td>\n",
       "      <td>7</td>\n",
       "      <td>29</td>\n",
       "      <td>17</td>\n",
       "    </tr>\n",
       "    <tr>\n",
       "      <th>7</th>\n",
       "      <td>40</td>\n",
       "      <td>15</td>\n",
       "      <td>29</td>\n",
       "      <td>7</td>\n",
       "      <td>21</td>\n",
       "    </tr>\n",
       "    <tr>\n",
       "      <th>8</th>\n",
       "      <td>47</td>\n",
       "      <td>30</td>\n",
       "      <td>30</td>\n",
       "      <td>30</td>\n",
       "      <td>20</td>\n",
       "    </tr>\n",
       "    <tr>\n",
       "      <th>9</th>\n",
       "      <td>51</td>\n",
       "      <td>26</td>\n",
       "      <td>47</td>\n",
       "      <td>47</td>\n",
       "      <td>34</td>\n",
       "    </tr>\n",
       "    <tr>\n",
       "      <th>10</th>\n",
       "      <td>56</td>\n",
       "      <td>29</td>\n",
       "      <td>17</td>\n",
       "      <td>1</td>\n",
       "      <td>39</td>\n",
       "    </tr>\n",
       "    <tr>\n",
       "      <th>11</th>\n",
       "      <td>62</td>\n",
       "      <td>47</td>\n",
       "      <td>43</td>\n",
       "      <td>17</td>\n",
       "      <td>42</td>\n",
       "    </tr>\n",
       "    <tr>\n",
       "      <th>12</th>\n",
       "      <td>75</td>\n",
       "      <td>23</td>\n",
       "      <td>1</td>\n",
       "      <td>43</td>\n",
       "      <td>31</td>\n",
       "    </tr>\n",
       "    <tr>\n",
       "      <th>13</th>\n",
       "      <td>81</td>\n",
       "      <td>21</td>\n",
       "      <td>34</td>\n",
       "      <td>34</td>\n",
       "      <td>47</td>\n",
       "    </tr>\n",
       "    <tr>\n",
       "      <th>14</th>\n",
       "      <td>87</td>\n",
       "      <td>19</td>\n",
       "      <td>10</td>\n",
       "      <td>27</td>\n",
       "      <td>8</td>\n",
       "    </tr>\n",
       "    <tr>\n",
       "      <th>15</th>\n",
       "      <td>90</td>\n",
       "      <td>35</td>\n",
       "      <td>27</td>\n",
       "      <td>25</td>\n",
       "      <td>19</td>\n",
       "    </tr>\n",
       "    <tr>\n",
       "      <th>16</th>\n",
       "      <td>101</td>\n",
       "      <td>34</td>\n",
       "      <td>44</td>\n",
       "      <td>10</td>\n",
       "      <td>27</td>\n",
       "    </tr>\n",
       "    <tr>\n",
       "      <th>17</th>\n",
       "      <td>110</td>\n",
       "      <td>42</td>\n",
       "      <td>15</td>\n",
       "      <td>19</td>\n",
       "      <td>5</td>\n",
       "    </tr>\n",
       "    <tr>\n",
       "      <th>18</th>\n",
       "      <td>113</td>\n",
       "      <td>3</td>\n",
       "      <td>25</td>\n",
       "      <td>44</td>\n",
       "      <td>45</td>\n",
       "    </tr>\n",
       "    <tr>\n",
       "      <th>19</th>\n",
       "      <td>119</td>\n",
       "      <td>27</td>\n",
       "      <td>35</td>\n",
       "      <td>15</td>\n",
       "      <td>38</td>\n",
       "    </tr>\n",
       "    <tr>\n",
       "      <th>20</th>\n",
       "      <td>129</td>\n",
       "      <td>39</td>\n",
       "      <td>19</td>\n",
       "      <td>35</td>\n",
       "      <td>24</td>\n",
       "    </tr>\n",
       "    <tr>\n",
       "      <th>21</th>\n",
       "      <td>134</td>\n",
       "      <td>28</td>\n",
       "      <td>39</td>\n",
       "      <td>42</td>\n",
       "      <td>37</td>\n",
       "    </tr>\n",
       "    <tr>\n",
       "      <th>22</th>\n",
       "      <td>147</td>\n",
       "      <td>22</td>\n",
       "      <td>42</td>\n",
       "      <td>21</td>\n",
       "      <td>25</td>\n",
       "    </tr>\n",
       "    <tr>\n",
       "      <th>23</th>\n",
       "      <td>155</td>\n",
       "      <td>20</td>\n",
       "      <td>2</td>\n",
       "      <td>39</td>\n",
       "      <td>40</td>\n",
       "    </tr>\n",
       "    <tr>\n",
       "      <th>24</th>\n",
       "      <td>167</td>\n",
       "      <td>1</td>\n",
       "      <td>21</td>\n",
       "      <td>2</td>\n",
       "      <td>11</td>\n",
       "    </tr>\n",
       "    <tr>\n",
       "      <th>25</th>\n",
       "      <td>184</td>\n",
       "      <td>38</td>\n",
       "      <td>46</td>\n",
       "      <td>46</td>\n",
       "      <td>13</td>\n",
       "    </tr>\n",
       "    <tr>\n",
       "      <th>26</th>\n",
       "      <td>186</td>\n",
       "      <td>16</td>\n",
       "      <td>32</td>\n",
       "      <td>32</td>\n",
       "      <td>30</td>\n",
       "    </tr>\n",
       "    <tr>\n",
       "      <th>27</th>\n",
       "      <td>187</td>\n",
       "      <td>12</td>\n",
       "      <td>20</td>\n",
       "      <td>3</td>\n",
       "      <td>12</td>\n",
       "    </tr>\n",
       "    <tr>\n",
       "      <th>28</th>\n",
       "      <td>195</td>\n",
       "      <td>6</td>\n",
       "      <td>3</td>\n",
       "      <td>20</td>\n",
       "      <td>23</td>\n",
       "    </tr>\n",
       "    <tr>\n",
       "      <th>29</th>\n",
       "      <td>199</td>\n",
       "      <td>40</td>\n",
       "      <td>16</td>\n",
       "      <td>38</td>\n",
       "      <td>29</td>\n",
       "    </tr>\n",
       "    <tr>\n",
       "      <th>30</th>\n",
       "      <td>200</td>\n",
       "      <td>45</td>\n",
       "      <td>38</td>\n",
       "      <td>41</td>\n",
       "      <td>6</td>\n",
       "    </tr>\n",
       "    <tr>\n",
       "      <th>31</th>\n",
       "      <td>205</td>\n",
       "      <td>2</td>\n",
       "      <td>41</td>\n",
       "      <td>6</td>\n",
       "      <td>26</td>\n",
       "    </tr>\n",
       "    <tr>\n",
       "      <th>32</th>\n",
       "      <td>220</td>\n",
       "      <td>46</td>\n",
       "      <td>6</td>\n",
       "      <td>12</td>\n",
       "      <td>7</td>\n",
       "    </tr>\n",
       "    <tr>\n",
       "      <th>33</th>\n",
       "      <td>231</td>\n",
       "      <td>31</td>\n",
       "      <td>12</td>\n",
       "      <td>40</td>\n",
       "      <td>9</td>\n",
       "    </tr>\n",
       "    <tr>\n",
       "      <th>34</th>\n",
       "      <td>233</td>\n",
       "      <td>5</td>\n",
       "      <td>40</td>\n",
       "      <td>33</td>\n",
       "      <td>4</td>\n",
       "    </tr>\n",
       "    <tr>\n",
       "      <th>35</th>\n",
       "      <td>244</td>\n",
       "      <td>32</td>\n",
       "      <td>33</td>\n",
       "      <td>16</td>\n",
       "      <td>28</td>\n",
       "    </tr>\n",
       "    <tr>\n",
       "      <th>36</th>\n",
       "      <td>254</td>\n",
       "      <td>13</td>\n",
       "      <td>9</td>\n",
       "      <td>9</td>\n",
       "      <td>1</td>\n",
       "    </tr>\n",
       "    <tr>\n",
       "      <th>37</th>\n",
       "      <td>256</td>\n",
       "      <td>24</td>\n",
       "      <td>13</td>\n",
       "      <td>13</td>\n",
       "      <td>2</td>\n",
       "    </tr>\n",
       "    <tr>\n",
       "      <th>38</th>\n",
       "      <td>261</td>\n",
       "      <td>44</td>\n",
       "      <td>18</td>\n",
       "      <td>18</td>\n",
       "      <td>46</td>\n",
       "    </tr>\n",
       "    <tr>\n",
       "      <th>39</th>\n",
       "      <td>264</td>\n",
       "      <td>9</td>\n",
       "      <td>45</td>\n",
       "      <td>14</td>\n",
       "      <td>33</td>\n",
       "    </tr>\n",
       "    <tr>\n",
       "      <th>40</th>\n",
       "      <td>265</td>\n",
       "      <td>41</td>\n",
       "      <td>14</td>\n",
       "      <td>5</td>\n",
       "      <td>14</td>\n",
       "    </tr>\n",
       "    <tr>\n",
       "      <th>41</th>\n",
       "      <td>273</td>\n",
       "      <td>37</td>\n",
       "      <td>5</td>\n",
       "      <td>45</td>\n",
       "      <td>32</td>\n",
       "    </tr>\n",
       "    <tr>\n",
       "      <th>42</th>\n",
       "      <td>275</td>\n",
       "      <td>33</td>\n",
       "      <td>31</td>\n",
       "      <td>31</td>\n",
       "      <td>36</td>\n",
       "    </tr>\n",
       "    <tr>\n",
       "      <th>43</th>\n",
       "      <td>277</td>\n",
       "      <td>14</td>\n",
       "      <td>24</td>\n",
       "      <td>24</td>\n",
       "      <td>22</td>\n",
       "    </tr>\n",
       "    <tr>\n",
       "      <th>44</th>\n",
       "      <td>292</td>\n",
       "      <td>4</td>\n",
       "      <td>37</td>\n",
       "      <td>36</td>\n",
       "      <td>41</td>\n",
       "    </tr>\n",
       "    <tr>\n",
       "      <th>45</th>\n",
       "      <td>293</td>\n",
       "      <td>36</td>\n",
       "      <td>36</td>\n",
       "      <td>4</td>\n",
       "      <td>44</td>\n",
       "    </tr>\n",
       "    <tr>\n",
       "      <th>46</th>\n",
       "      <td>295</td>\n",
       "      <td>18</td>\n",
       "      <td>4</td>\n",
       "      <td>37</td>\n",
       "      <td>18</td>\n",
       "    </tr>\n",
       "  </tbody>\n",
       "</table>\n",
       "</div>"
      ],
      "text/plain": [
       "    neighborhood  S1_rank  S2_rank  S3_rank  S4_rank\n",
       "0              2       43       22       22       16\n",
       "1              6        8        8        8       15\n",
       "2             13       10       28       26       43\n",
       "3             15       11       26       28        3\n",
       "4             29       17       23       23       10\n",
       "5             31       25       11       11       35\n",
       "6             38        7        7       29       17\n",
       "7             40       15       29        7       21\n",
       "8             47       30       30       30       20\n",
       "9             51       26       47       47       34\n",
       "10            56       29       17        1       39\n",
       "11            62       47       43       17       42\n",
       "12            75       23        1       43       31\n",
       "13            81       21       34       34       47\n",
       "14            87       19       10       27        8\n",
       "15            90       35       27       25       19\n",
       "16           101       34       44       10       27\n",
       "17           110       42       15       19        5\n",
       "18           113        3       25       44       45\n",
       "19           119       27       35       15       38\n",
       "20           129       39       19       35       24\n",
       "21           134       28       39       42       37\n",
       "22           147       22       42       21       25\n",
       "23           155       20        2       39       40\n",
       "24           167        1       21        2       11\n",
       "25           184       38       46       46       13\n",
       "26           186       16       32       32       30\n",
       "27           187       12       20        3       12\n",
       "28           195        6        3       20       23\n",
       "29           199       40       16       38       29\n",
       "30           200       45       38       41        6\n",
       "31           205        2       41        6       26\n",
       "32           220       46        6       12        7\n",
       "33           231       31       12       40        9\n",
       "34           233        5       40       33        4\n",
       "35           244       32       33       16       28\n",
       "36           254       13        9        9        1\n",
       "37           256       24       13       13        2\n",
       "38           261       44       18       18       46\n",
       "39           264        9       45       14       33\n",
       "40           265       41       14        5       14\n",
       "41           273       37        5       45       32\n",
       "42           275       33       31       31       36\n",
       "43           277       14       24       24       22\n",
       "44           292        4       37       36       41\n",
       "45           293       36       36        4       44\n",
       "46           295       18        4       37       18"
      ]
     },
     "execution_count": 233,
     "metadata": {},
     "output_type": "execute_result"
    }
   ],
   "source": [
    "scores_f[['neighborhood','S1_rank','S2_rank','S3_rank','S4_rank']].head(50)"
   ]
  },
  {
   "cell_type": "code",
   "execution_count": 234,
   "metadata": {
    "collapsed": false
   },
   "outputs": [
    {
     "data": {
      "text/html": [
       "<div>\n",
       "<table border=\"1\" class=\"dataframe\">\n",
       "  <thead>\n",
       "    <tr style=\"text-align: right;\">\n",
       "      <th></th>\n",
       "      <th>Unnamed: 0</th>\n",
       "      <th>Unnamed: 0.1</th>\n",
       "      <th>neighborhood</th>\n",
       "      <th>lat</th>\n",
       "      <th>lng</th>\n",
       "      <th>Manhattan</th>\n",
       "      <th>competitors</th>\n",
       "      <th>rating</th>\n",
       "      <th>review_count</th>\n",
       "      <th>rent</th>\n",
       "      <th>...</th>\n",
       "      <th>review_count_rank</th>\n",
       "      <th>rating_rank</th>\n",
       "      <th>S1</th>\n",
       "      <th>S1_rank</th>\n",
       "      <th>S2</th>\n",
       "      <th>S2_rank</th>\n",
       "      <th>S3</th>\n",
       "      <th>S3_rank</th>\n",
       "      <th>S4</th>\n",
       "      <th>S4_rank</th>\n",
       "    </tr>\n",
       "  </thead>\n",
       "  <tbody>\n",
       "    <tr>\n",
       "      <th>0</th>\n",
       "      <td>2</td>\n",
       "      <td>2</td>\n",
       "      <td>2</td>\n",
       "      <td>40.774802</td>\n",
       "      <td>-73.959325</td>\n",
       "      <td>1</td>\n",
       "      <td>0.980392</td>\n",
       "      <td>0.766667</td>\n",
       "      <td>0.330335</td>\n",
       "      <td>0.715101</td>\n",
       "      <td>...</td>\n",
       "      <td>43</td>\n",
       "      <td>43</td>\n",
       "      <td>0.508488</td>\n",
       "      <td>43</td>\n",
       "      <td>0.469795</td>\n",
       "      <td>22</td>\n",
       "      <td>0.382625</td>\n",
       "      <td>22</td>\n",
       "      <td>0.655364</td>\n",
       "      <td>16</td>\n",
       "    </tr>\n",
       "    <tr>\n",
       "      <th>1</th>\n",
       "      <td>6</td>\n",
       "      <td>6</td>\n",
       "      <td>6</td>\n",
       "      <td>40.724874</td>\n",
       "      <td>-73.995243</td>\n",
       "      <td>1</td>\n",
       "      <td>0.960784</td>\n",
       "      <td>0.833333</td>\n",
       "      <td>0.377477</td>\n",
       "      <td>0.625787</td>\n",
       "      <td>...</td>\n",
       "      <td>10</td>\n",
       "      <td>45</td>\n",
       "      <td>0.549089</td>\n",
       "      <td>8</td>\n",
       "      <td>0.532281</td>\n",
       "      <td>8</td>\n",
       "      <td>0.437500</td>\n",
       "      <td>8</td>\n",
       "      <td>0.669131</td>\n",
       "      <td>15</td>\n",
       "    </tr>\n",
       "    <tr>\n",
       "      <th>2</th>\n",
       "      <td>13</td>\n",
       "      <td>13</td>\n",
       "      <td>13</td>\n",
       "      <td>40.821264</td>\n",
       "      <td>-73.953571</td>\n",
       "      <td>1</td>\n",
       "      <td>0.941176</td>\n",
       "      <td>0.793651</td>\n",
       "      <td>0.030270</td>\n",
       "      <td>0.923605</td>\n",
       "      <td>...</td>\n",
       "      <td>21</td>\n",
       "      <td>25</td>\n",
       "      <td>0.486588</td>\n",
       "      <td>10</td>\n",
       "      <td>0.563843</td>\n",
       "      <td>28</td>\n",
       "      <td>0.456424</td>\n",
       "      <td>26</td>\n",
       "      <td>0.485723</td>\n",
       "      <td>43</td>\n",
       "    </tr>\n",
       "    <tr>\n",
       "      <th>3</th>\n",
       "      <td>15</td>\n",
       "      <td>15</td>\n",
       "      <td>15</td>\n",
       "      <td>40.756320</td>\n",
       "      <td>-73.983807</td>\n",
       "      <td>1</td>\n",
       "      <td>0.941176</td>\n",
       "      <td>0.765432</td>\n",
       "      <td>0.335535</td>\n",
       "      <td>0.745986</td>\n",
       "      <td>...</td>\n",
       "      <td>35</td>\n",
       "      <td>10</td>\n",
       "      <td>0.637091</td>\n",
       "      <td>11</td>\n",
       "      <td>0.872993</td>\n",
       "      <td>26</td>\n",
       "      <td>0.705277</td>\n",
       "      <td>28</td>\n",
       "      <td>0.638356</td>\n",
       "      <td>3</td>\n",
       "    </tr>\n",
       "    <tr>\n",
       "      <th>4</th>\n",
       "      <td>29</td>\n",
       "      <td>29</td>\n",
       "      <td>29</td>\n",
       "      <td>40.706195</td>\n",
       "      <td>-74.012400</td>\n",
       "      <td>1</td>\n",
       "      <td>0.960784</td>\n",
       "      <td>0.688889</td>\n",
       "      <td>0.122409</td>\n",
       "      <td>0.777625</td>\n",
       "      <td>...</td>\n",
       "      <td>34</td>\n",
       "      <td>24</td>\n",
       "      <td>0.564753</td>\n",
       "      <td>17</td>\n",
       "      <td>0.791874</td>\n",
       "      <td>23</td>\n",
       "      <td>0.640036</td>\n",
       "      <td>23</td>\n",
       "      <td>0.541596</td>\n",
       "      <td>10</td>\n",
       "    </tr>\n",
       "  </tbody>\n",
       "</table>\n",
       "<p>5 rows × 28 columns</p>\n",
       "</div>"
      ],
      "text/plain": [
       "   Unnamed: 0  Unnamed: 0.1  neighborhood        lat        lng  Manhattan  \\\n",
       "0           2             2             2  40.774802 -73.959325          1   \n",
       "1           6             6             6  40.724874 -73.995243          1   \n",
       "2          13            13            13  40.821264 -73.953571          1   \n",
       "3          15            15            15  40.756320 -73.983807          1   \n",
       "4          29            29            29  40.706195 -74.012400          1   \n",
       "\n",
       "   competitors    rating  review_count      rent   ...     review_count_rank  \\\n",
       "0     0.980392  0.766667      0.330335  0.715101   ...                    43   \n",
       "1     0.960784  0.833333      0.377477  0.625787   ...                    10   \n",
       "2     0.941176  0.793651      0.030270  0.923605   ...                    21   \n",
       "3     0.941176  0.765432      0.335535  0.745986   ...                    35   \n",
       "4     0.960784  0.688889      0.122409  0.777625   ...                    34   \n",
       "\n",
       "   rating_rank        S1  S1_rank        S2  S2_rank        S3  S3_rank  \\\n",
       "0           43  0.508488       43  0.469795       22  0.382625       22   \n",
       "1           45  0.549089        8  0.532281        8  0.437500        8   \n",
       "2           25  0.486588       10  0.563843       28  0.456424       26   \n",
       "3           10  0.637091       11  0.872993       26  0.705277       28   \n",
       "4           24  0.564753       17  0.791874       23  0.640036       23   \n",
       "\n",
       "         S4  S4_rank  \n",
       "0  0.655364       16  \n",
       "1  0.669131       15  \n",
       "2  0.485723       43  \n",
       "3  0.638356        3  \n",
       "4  0.541596       10  \n",
       "\n",
       "[5 rows x 28 columns]"
      ]
     },
     "execution_count": 234,
     "metadata": {},
     "output_type": "execute_result"
    }
   ],
   "source": [
    "scores_f.head()"
   ]
  },
  {
   "cell_type": "code",
   "execution_count": 235,
   "metadata": {
    "collapsed": true
   },
   "outputs": [],
   "source": [
    "g = scores_f[['neighborhood','S1','S1_rank','S2','S2_rank','S3','S3_rank','S4','S4_rank']]"
   ]
  },
  {
   "cell_type": "code",
   "execution_count": 242,
   "metadata": {
    "collapsed": false
   },
   "outputs": [],
   "source": [
    "#merge this with final_venues_with ranks\n",
    "\n",
    "finni = fi.merge(g, left_on = 'neighborhood_id',right_on = 'neighborhood', how = 'left')"
   ]
  },
  {
   "cell_type": "code",
   "execution_count": 243,
   "metadata": {
    "collapsed": false
   },
   "outputs": [
    {
     "data": {
      "text/html": [
       "<div>\n",
       "<table border=\"1\" class=\"dataframe\">\n",
       "  <thead>\n",
       "    <tr style=\"text-align: right;\">\n",
       "      <th></th>\n",
       "      <th>Unnamed: 0_x</th>\n",
       "      <th>userId</th>\n",
       "      <th>venueId</th>\n",
       "      <th>venueCategoryId</th>\n",
       "      <th>venueCategory</th>\n",
       "      <th>latitude</th>\n",
       "      <th>longitude</th>\n",
       "      <th>neighborhood_id</th>\n",
       "      <th>Unnamed: 0_y</th>\n",
       "      <th>Unnamed: 0.1</th>\n",
       "      <th>...</th>\n",
       "      <th>rating_rank</th>\n",
       "      <th>neighborhood_y</th>\n",
       "      <th>S1</th>\n",
       "      <th>S1_rank</th>\n",
       "      <th>S2</th>\n",
       "      <th>S2_rank</th>\n",
       "      <th>S3</th>\n",
       "      <th>S3_rank</th>\n",
       "      <th>S4</th>\n",
       "      <th>S4_rank</th>\n",
       "    </tr>\n",
       "  </thead>\n",
       "  <tbody>\n",
       "    <tr>\n",
       "      <th>0</th>\n",
       "      <td>0</td>\n",
       "      <td>470</td>\n",
       "      <td>49bbd6c0f964a520f4531fe3</td>\n",
       "      <td>4bf58dd8d48988d127951735</td>\n",
       "      <td>Arts &amp; Crafts Store</td>\n",
       "      <td>40.719810</td>\n",
       "      <td>-74.002581</td>\n",
       "      <td>220</td>\n",
       "      <td>220.0</td>\n",
       "      <td>220.0</td>\n",
       "      <td>...</td>\n",
       "      <td>18.0</td>\n",
       "      <td>220</td>\n",
       "      <td>0.616138</td>\n",
       "      <td>46</td>\n",
       "      <td>0.700916</td>\n",
       "      <td>6</td>\n",
       "      <td>0.564168</td>\n",
       "      <td>12</td>\n",
       "      <td>0.694464</td>\n",
       "      <td>7</td>\n",
       "    </tr>\n",
       "    <tr>\n",
       "      <th>1</th>\n",
       "      <td>3</td>\n",
       "      <td>395</td>\n",
       "      <td>4bc7086715a7ef3bef9878da</td>\n",
       "      <td>4bf58dd8d48988d104941735</td>\n",
       "      <td>Medical Center</td>\n",
       "      <td>40.745164</td>\n",
       "      <td>-73.982519</td>\n",
       "      <td>264</td>\n",
       "      <td>264.0</td>\n",
       "      <td>264.0</td>\n",
       "      <td>...</td>\n",
       "      <td>16.0</td>\n",
       "      <td>264</td>\n",
       "      <td>0.543585</td>\n",
       "      <td>9</td>\n",
       "      <td>0.641685</td>\n",
       "      <td>45</td>\n",
       "      <td>0.526367</td>\n",
       "      <td>14</td>\n",
       "      <td>0.567635</td>\n",
       "      <td>33</td>\n",
       "    </tr>\n",
       "    <tr>\n",
       "      <th>2</th>\n",
       "      <td>4</td>\n",
       "      <td>87</td>\n",
       "      <td>4cf2c5321d18a143951b5cec</td>\n",
       "      <td>4bf58dd8d48988d1cb941735</td>\n",
       "      <td>Food Truck</td>\n",
       "      <td>40.740104</td>\n",
       "      <td>-73.989658</td>\n",
       "      <td>75</td>\n",
       "      <td>75.0</td>\n",
       "      <td>75.0</td>\n",
       "      <td>...</td>\n",
       "      <td>30.0</td>\n",
       "      <td>75</td>\n",
       "      <td>0.579869</td>\n",
       "      <td>23</td>\n",
       "      <td>0.761263</td>\n",
       "      <td>1</td>\n",
       "      <td>0.616147</td>\n",
       "      <td>43</td>\n",
       "      <td>0.582727</td>\n",
       "      <td>31</td>\n",
       "    </tr>\n",
       "    <tr>\n",
       "      <th>3</th>\n",
       "      <td>6</td>\n",
       "      <td>642</td>\n",
       "      <td>4ab966c3f964a5203c7f20e3</td>\n",
       "      <td>4bf58dd8d48988d1e0931735</td>\n",
       "      <td>Coffee Shop</td>\n",
       "      <td>40.751591</td>\n",
       "      <td>-73.974121</td>\n",
       "      <td>62</td>\n",
       "      <td>62.0</td>\n",
       "      <td>62.0</td>\n",
       "      <td>...</td>\n",
       "      <td>21.0</td>\n",
       "      <td>62</td>\n",
       "      <td>0.530619</td>\n",
       "      <td>47</td>\n",
       "      <td>0.637684</td>\n",
       "      <td>43</td>\n",
       "      <td>0.521321</td>\n",
       "      <td>17</td>\n",
       "      <td>0.588632</td>\n",
       "      <td>42</td>\n",
       "    </tr>\n",
       "    <tr>\n",
       "      <th>4</th>\n",
       "      <td>7</td>\n",
       "      <td>292</td>\n",
       "      <td>4d0cc47f903d37041864bf55</td>\n",
       "      <td>4bf58dd8d48988d12b951735</td>\n",
       "      <td>Bus Station</td>\n",
       "      <td>40.779422</td>\n",
       "      <td>-73.955341</td>\n",
       "      <td>261</td>\n",
       "      <td>261.0</td>\n",
       "      <td>261.0</td>\n",
       "      <td>...</td>\n",
       "      <td>34.0</td>\n",
       "      <td>261</td>\n",
       "      <td>0.488762</td>\n",
       "      <td>44</td>\n",
       "      <td>0.525059</td>\n",
       "      <td>18</td>\n",
       "      <td>0.434775</td>\n",
       "      <td>18</td>\n",
       "      <td>0.515519</td>\n",
       "      <td>46</td>\n",
       "    </tr>\n",
       "  </tbody>\n",
       "</table>\n",
       "<p>5 rows × 35 columns</p>\n",
       "</div>"
      ],
      "text/plain": [
       "   Unnamed: 0_x  userId                   venueId           venueCategoryId  \\\n",
       "0             0     470  49bbd6c0f964a520f4531fe3  4bf58dd8d48988d127951735   \n",
       "1             3     395  4bc7086715a7ef3bef9878da  4bf58dd8d48988d104941735   \n",
       "2             4      87  4cf2c5321d18a143951b5cec  4bf58dd8d48988d1cb941735   \n",
       "3             6     642  4ab966c3f964a5203c7f20e3  4bf58dd8d48988d1e0931735   \n",
       "4             7     292  4d0cc47f903d37041864bf55  4bf58dd8d48988d12b951735   \n",
       "\n",
       "         venueCategory   latitude  longitude  neighborhood_id  Unnamed: 0_y  \\\n",
       "0  Arts & Crafts Store  40.719810 -74.002581              220         220.0   \n",
       "1       Medical Center  40.745164 -73.982519              264         264.0   \n",
       "2           Food Truck  40.740104 -73.989658               75          75.0   \n",
       "3          Coffee Shop  40.751591 -73.974121               62          62.0   \n",
       "4          Bus Station  40.779422 -73.955341              261         261.0   \n",
       "\n",
       "   Unnamed: 0.1   ...     rating_rank  neighborhood_y        S1  S1_rank  \\\n",
       "0         220.0   ...            18.0             220  0.616138       46   \n",
       "1         264.0   ...            16.0             264  0.543585        9   \n",
       "2          75.0   ...            30.0              75  0.579869       23   \n",
       "3          62.0   ...            21.0              62  0.530619       47   \n",
       "4         261.0   ...            34.0             261  0.488762       44   \n",
       "\n",
       "         S2  S2_rank        S3  S3_rank        S4  S4_rank  \n",
       "0  0.700916        6  0.564168       12  0.694464        7  \n",
       "1  0.641685       45  0.526367       14  0.567635       33  \n",
       "2  0.761263        1  0.616147       43  0.582727       31  \n",
       "3  0.637684       43  0.521321       17  0.588632       42  \n",
       "4  0.525059       18  0.434775       18  0.515519       46  \n",
       "\n",
       "[5 rows x 35 columns]"
      ]
     },
     "execution_count": 243,
     "metadata": {},
     "output_type": "execute_result"
    }
   ],
   "source": [
    "finni.head()"
   ]
  },
  {
   "cell_type": "code",
   "execution_count": 244,
   "metadata": {
    "collapsed": false
   },
   "outputs": [
    {
     "data": {
      "text/plain": [
       "array(['Unnamed: 0_x', 'userId', 'venueId', 'venueCategoryId',\n",
       "       'venueCategory', 'latitude', 'longitude', 'neighborhood_id',\n",
       "       'Unnamed: 0_y', 'Unnamed: 0.1', 'neighborhood_x', 'Manhattan',\n",
       "       'competitors', 'rating', 'review_count', 'rent',\n",
       "       'unsupervised_score', 'price', 'half-mile_sub_count',\n",
       "       'competitors_rank', 'half-mile_sub_count_rank', 'rent_rank',\n",
       "       'price_rank', 'unsupervised_score_rank', 'review_count_rank',\n",
       "       'rating_rank', 'neighborhood_y', 'S1', 'S1_rank', 'S2', 'S2_rank',\n",
       "       'S3', 'S3_rank', 'S4', 'S4_rank'], dtype=object)"
      ]
     },
     "execution_count": 244,
     "metadata": {},
     "output_type": "execute_result"
    }
   ],
   "source": [
    "finni.columns.values"
   ]
  },
  {
   "cell_type": "code",
   "execution_count": 246,
   "metadata": {
    "collapsed": false
   },
   "outputs": [],
   "source": [
    "finni = finni.drop(['neighborhood_y','neighborhood_x'], axis = 1)"
   ]
  },
  {
   "cell_type": "code",
   "execution_count": 247,
   "metadata": {
    "collapsed": true
   },
   "outputs": [],
   "source": [
    "finni.to_csv('final_venues_with_ranks_all_schemes.csv')"
   ]
  },
  {
   "cell_type": "markdown",
   "metadata": {},
   "source": [
    "### Checking if locations are pareto optimal"
   ]
  },
  {
   "cell_type": "code",
   "execution_count": 262,
   "metadata": {
    "collapsed": true
   },
   "outputs": [],
   "source": [
    "import seaborn as sns\n",
    "\n",
    "h = pd.read_csv('scoring_df_final.csv')"
   ]
  },
  {
   "cell_type": "code",
   "execution_count": 264,
   "metadata": {
    "collapsed": false
   },
   "outputs": [],
   "source": [
    "h = h.loc[h['Manhattan'] == 1,]"
   ]
  },
  {
   "cell_type": "code",
   "execution_count": 265,
   "metadata": {
    "collapsed": false
   },
   "outputs": [
    {
     "data": {
      "text/plain": [
       "(47, 12)"
      ]
     },
     "execution_count": 265,
     "metadata": {},
     "output_type": "execute_result"
    }
   ],
   "source": [
    "h.shape"
   ]
  },
  {
   "cell_type": "code",
   "execution_count": 266,
   "metadata": {
    "collapsed": false
   },
   "outputs": [
    {
     "data": {
      "text/html": [
       "<div>\n",
       "<table border=\"1\" class=\"dataframe\">\n",
       "  <thead>\n",
       "    <tr style=\"text-align: right;\">\n",
       "      <th></th>\n",
       "      <th>Unnamed: 0</th>\n",
       "      <th>neighborhood</th>\n",
       "      <th>lat</th>\n",
       "      <th>lng</th>\n",
       "      <th>Manhattan</th>\n",
       "      <th>competitors</th>\n",
       "      <th>rating</th>\n",
       "      <th>review_count</th>\n",
       "      <th>rent</th>\n",
       "      <th>unsupervised_score</th>\n",
       "      <th>price</th>\n",
       "      <th>half-mile_sub_count</th>\n",
       "    </tr>\n",
       "  </thead>\n",
       "  <tbody>\n",
       "    <tr>\n",
       "      <th>2</th>\n",
       "      <td>2</td>\n",
       "      <td>2</td>\n",
       "      <td>40.774802</td>\n",
       "      <td>-73.959325</td>\n",
       "      <td>1</td>\n",
       "      <td>0.980392</td>\n",
       "      <td>0.766667</td>\n",
       "      <td>0.330335</td>\n",
       "      <td>0.715101</td>\n",
       "      <td>0.033941</td>\n",
       "      <td>0.240000</td>\n",
       "      <td>0.224490</td>\n",
       "    </tr>\n",
       "    <tr>\n",
       "      <th>6</th>\n",
       "      <td>6</td>\n",
       "      <td>6</td>\n",
       "      <td>40.724874</td>\n",
       "      <td>-73.995243</td>\n",
       "      <td>1</td>\n",
       "      <td>0.960784</td>\n",
       "      <td>0.833333</td>\n",
       "      <td>0.377477</td>\n",
       "      <td>0.625787</td>\n",
       "      <td>0.058375</td>\n",
       "      <td>0.100000</td>\n",
       "      <td>0.438776</td>\n",
       "    </tr>\n",
       "    <tr>\n",
       "      <th>13</th>\n",
       "      <td>13</td>\n",
       "      <td>13</td>\n",
       "      <td>40.821264</td>\n",
       "      <td>-73.953571</td>\n",
       "      <td>1</td>\n",
       "      <td>0.941176</td>\n",
       "      <td>0.793651</td>\n",
       "      <td>0.030270</td>\n",
       "      <td>0.923605</td>\n",
       "      <td>0.026746</td>\n",
       "      <td>0.600000</td>\n",
       "      <td>0.204082</td>\n",
       "    </tr>\n",
       "    <tr>\n",
       "      <th>15</th>\n",
       "      <td>15</td>\n",
       "      <td>15</td>\n",
       "      <td>40.756320</td>\n",
       "      <td>-73.983807</td>\n",
       "      <td>1</td>\n",
       "      <td>0.941176</td>\n",
       "      <td>0.765432</td>\n",
       "      <td>0.335535</td>\n",
       "      <td>0.745986</td>\n",
       "      <td>0.034413</td>\n",
       "      <td>0.377778</td>\n",
       "      <td>1.000000</td>\n",
       "    </tr>\n",
       "    <tr>\n",
       "      <th>29</th>\n",
       "      <td>29</td>\n",
       "      <td>29</td>\n",
       "      <td>40.706195</td>\n",
       "      <td>-74.012400</td>\n",
       "      <td>1</td>\n",
       "      <td>0.960784</td>\n",
       "      <td>0.688889</td>\n",
       "      <td>0.122409</td>\n",
       "      <td>0.777625</td>\n",
       "      <td>0.032687</td>\n",
       "      <td>0.400000</td>\n",
       "      <td>0.806122</td>\n",
       "    </tr>\n",
       "  </tbody>\n",
       "</table>\n",
       "</div>"
      ],
      "text/plain": [
       "    Unnamed: 0  neighborhood        lat        lng  Manhattan  competitors  \\\n",
       "2            2             2  40.774802 -73.959325          1     0.980392   \n",
       "6            6             6  40.724874 -73.995243          1     0.960784   \n",
       "13          13            13  40.821264 -73.953571          1     0.941176   \n",
       "15          15            15  40.756320 -73.983807          1     0.941176   \n",
       "29          29            29  40.706195 -74.012400          1     0.960784   \n",
       "\n",
       "      rating  review_count      rent  unsupervised_score     price  \\\n",
       "2   0.766667      0.330335  0.715101            0.033941  0.240000   \n",
       "6   0.833333      0.377477  0.625787            0.058375  0.100000   \n",
       "13  0.793651      0.030270  0.923605            0.026746  0.600000   \n",
       "15  0.765432      0.335535  0.745986            0.034413  0.377778   \n",
       "29  0.688889      0.122409  0.777625            0.032687  0.400000   \n",
       "\n",
       "    half-mile_sub_count  \n",
       "2              0.224490  \n",
       "6              0.438776  \n",
       "13             0.204082  \n",
       "15             1.000000  \n",
       "29             0.806122  "
      ]
     },
     "execution_count": 266,
     "metadata": {},
     "output_type": "execute_result"
    }
   ],
   "source": [
    "h.head()"
   ]
  },
  {
   "cell_type": "code",
   "execution_count": 267,
   "metadata": {
    "collapsed": true
   },
   "outputs": [],
   "source": [
    "h = h[['neighborhood','competitors','rating','review_count','rent','unsupervised_score','half-mile_sub_count']]"
   ]
  },
  {
   "cell_type": "code",
   "execution_count": 270,
   "metadata": {
    "collapsed": false
   },
   "outputs": [],
   "source": [
    "h = h.set_index('neighborhood')"
   ]
  },
  {
   "cell_type": "code",
   "execution_count": 271,
   "metadata": {
    "collapsed": false
   },
   "outputs": [
    {
     "data": {
      "text/html": [
       "<div>\n",
       "<table border=\"1\" class=\"dataframe\">\n",
       "  <thead>\n",
       "    <tr style=\"text-align: right;\">\n",
       "      <th></th>\n",
       "      <th>competitors</th>\n",
       "      <th>rating</th>\n",
       "      <th>review_count</th>\n",
       "      <th>rent</th>\n",
       "      <th>unsupervised_score</th>\n",
       "      <th>half-mile_sub_count</th>\n",
       "    </tr>\n",
       "    <tr>\n",
       "      <th>neighborhood</th>\n",
       "      <th></th>\n",
       "      <th></th>\n",
       "      <th></th>\n",
       "      <th></th>\n",
       "      <th></th>\n",
       "      <th></th>\n",
       "    </tr>\n",
       "  </thead>\n",
       "  <tbody>\n",
       "    <tr>\n",
       "      <th>2</th>\n",
       "      <td>0.980392</td>\n",
       "      <td>0.766667</td>\n",
       "      <td>0.330335</td>\n",
       "      <td>0.715101</td>\n",
       "      <td>0.033941</td>\n",
       "      <td>0.224490</td>\n",
       "    </tr>\n",
       "    <tr>\n",
       "      <th>6</th>\n",
       "      <td>0.960784</td>\n",
       "      <td>0.833333</td>\n",
       "      <td>0.377477</td>\n",
       "      <td>0.625787</td>\n",
       "      <td>0.058375</td>\n",
       "      <td>0.438776</td>\n",
       "    </tr>\n",
       "    <tr>\n",
       "      <th>13</th>\n",
       "      <td>0.941176</td>\n",
       "      <td>0.793651</td>\n",
       "      <td>0.030270</td>\n",
       "      <td>0.923605</td>\n",
       "      <td>0.026746</td>\n",
       "      <td>0.204082</td>\n",
       "    </tr>\n",
       "    <tr>\n",
       "      <th>15</th>\n",
       "      <td>0.941176</td>\n",
       "      <td>0.765432</td>\n",
       "      <td>0.335535</td>\n",
       "      <td>0.745986</td>\n",
       "      <td>0.034413</td>\n",
       "      <td>1.000000</td>\n",
       "    </tr>\n",
       "    <tr>\n",
       "      <th>29</th>\n",
       "      <td>0.960784</td>\n",
       "      <td>0.688889</td>\n",
       "      <td>0.122409</td>\n",
       "      <td>0.777625</td>\n",
       "      <td>0.032687</td>\n",
       "      <td>0.806122</td>\n",
       "    </tr>\n",
       "  </tbody>\n",
       "</table>\n",
       "</div>"
      ],
      "text/plain": [
       "              competitors    rating  review_count      rent  \\\n",
       "neighborhood                                                  \n",
       "2                0.980392  0.766667      0.330335  0.715101   \n",
       "6                0.960784  0.833333      0.377477  0.625787   \n",
       "13               0.941176  0.793651      0.030270  0.923605   \n",
       "15               0.941176  0.765432      0.335535  0.745986   \n",
       "29               0.960784  0.688889      0.122409  0.777625   \n",
       "\n",
       "              unsupervised_score  half-mile_sub_count  \n",
       "neighborhood                                           \n",
       "2                       0.033941             0.224490  \n",
       "6                       0.058375             0.438776  \n",
       "13                      0.026746             0.204082  \n",
       "15                      0.034413             1.000000  \n",
       "29                      0.032687             0.806122  "
      ]
     },
     "execution_count": 271,
     "metadata": {},
     "output_type": "execute_result"
    }
   ],
   "source": [
    "h.head()"
   ]
  },
  {
   "cell_type": "code",
   "execution_count": 278,
   "metadata": {
    "collapsed": false
   },
   "outputs": [
    {
     "data": {
      "text/plain": [
       "<matplotlib.axes._subplots.AxesSubplot at 0x132909e8>"
      ]
     },
     "execution_count": 278,
     "metadata": {},
     "output_type": "execute_result"
    },
    {
     "data": {
      "image/png": "[encoded data removed]",
      "text/plain": [
       "<matplotlib.figure.Figure at 0x13339f28>"
      ]
     },
     "metadata": {},
     "output_type": "display_data"
    }
   ],
   "source": [
    "plt.figure(figsize = (15,10))\n",
    "sns.heatmap(h)"
   ]
  },
  {
   "cell_type": "markdown",
   "metadata": {},
   "source": [
    "high competition low rent"
   ]
  },
  {
   "cell_type": "code",
   "execution_count": null,
   "metadata": {
    "collapsed": true
   },
   "outputs": [],
   "source": []
  },
  {
   "cell_type": "code",
   "execution_count": 336,
   "metadata": {
    "collapsed": false
   },
   "outputs": [
    {
     "data": {
      "text/html": [
       "<div>\n",
       "<table border=\"1\" class=\"dataframe\">\n",
       "  <thead>\n",
       "    <tr style=\"text-align: right;\">\n",
       "      <th></th>\n",
       "      <th>neighborhood</th>\n",
       "      <th>Manhattan</th>\n",
       "      <th>Unnamed: 0</th>\n",
       "      <th>lat</th>\n",
       "      <th>lng</th>\n",
       "      <th>subway</th>\n",
       "      <th>competitors</th>\n",
       "      <th>rating</th>\n",
       "      <th>review_count</th>\n",
       "      <th>price</th>\n",
       "      <th>rent</th>\n",
       "      <th>half-mile_sub_count</th>\n",
       "      <th>unsupervised_score</th>\n",
       "      <th>comp_bin</th>\n",
       "      <th>n_rent</th>\n",
       "    </tr>\n",
       "  </thead>\n",
       "  <tbody>\n",
       "    <tr>\n",
       "      <th>0</th>\n",
       "      <td>2</td>\n",
       "      <td>1</td>\n",
       "      <td>2</td>\n",
       "      <td>40.774802</td>\n",
       "      <td>-73.959325</td>\n",
       "      <td>8</td>\n",
       "      <td>1</td>\n",
       "      <td>3.450000</td>\n",
       "      <td>216.700000</td>\n",
       "      <td>1.900000</td>\n",
       "      <td>89.332939</td>\n",
       "      <td>22</td>\n",
       "      <td>0.002198</td>\n",
       "      <td>1.0</td>\n",
       "      <td>75-100</td>\n",
       "    </tr>\n",
       "    <tr>\n",
       "      <th>1</th>\n",
       "      <td>6</td>\n",
       "      <td>1</td>\n",
       "      <td>6</td>\n",
       "      <td>40.724874</td>\n",
       "      <td>-73.995243</td>\n",
       "      <td>22</td>\n",
       "      <td>2</td>\n",
       "      <td>3.750000</td>\n",
       "      <td>247.625000</td>\n",
       "      <td>2.250000</td>\n",
       "      <td>114.987197</td>\n",
       "      <td>43</td>\n",
       "      <td>0.003781</td>\n",
       "      <td>1.0</td>\n",
       "      <td>100-125</td>\n",
       "    </tr>\n",
       "    <tr>\n",
       "      <th>2</th>\n",
       "      <td>13</td>\n",
       "      <td>1</td>\n",
       "      <td>13</td>\n",
       "      <td>40.821264</td>\n",
       "      <td>-73.953571</td>\n",
       "      <td>17</td>\n",
       "      <td>3</td>\n",
       "      <td>3.571429</td>\n",
       "      <td>19.857143</td>\n",
       "      <td>1.000000</td>\n",
       "      <td>29.443333</td>\n",
       "      <td>20</td>\n",
       "      <td>0.001732</td>\n",
       "      <td>1.0</td>\n",
       "      <td>25-50</td>\n",
       "    </tr>\n",
       "    <tr>\n",
       "      <th>3</th>\n",
       "      <td>15</td>\n",
       "      <td>1</td>\n",
       "      <td>15</td>\n",
       "      <td>40.756320</td>\n",
       "      <td>-73.983807</td>\n",
       "      <td>42</td>\n",
       "      <td>3</td>\n",
       "      <td>3.444444</td>\n",
       "      <td>220.111111</td>\n",
       "      <td>1.555556</td>\n",
       "      <td>80.461588</td>\n",
       "      <td>98</td>\n",
       "      <td>0.002229</td>\n",
       "      <td>1.0</td>\n",
       "      <td>75-100</td>\n",
       "    </tr>\n",
       "    <tr>\n",
       "      <th>4</th>\n",
       "      <td>29</td>\n",
       "      <td>1</td>\n",
       "      <td>29</td>\n",
       "      <td>40.706195</td>\n",
       "      <td>-74.012400</td>\n",
       "      <td>54</td>\n",
       "      <td>2</td>\n",
       "      <td>3.100000</td>\n",
       "      <td>80.300000</td>\n",
       "      <td>1.500000</td>\n",
       "      <td>71.373877</td>\n",
       "      <td>79</td>\n",
       "      <td>0.002117</td>\n",
       "      <td>1.0</td>\n",
       "      <td>50-75</td>\n",
       "    </tr>\n",
       "  </tbody>\n",
       "</table>\n",
       "</div>"
      ],
      "text/plain": [
       "   neighborhood  Manhattan  Unnamed: 0        lat        lng  subway  \\\n",
       "0             2          1           2  40.774802 -73.959325       8   \n",
       "1             6          1           6  40.724874 -73.995243      22   \n",
       "2            13          1          13  40.821264 -73.953571      17   \n",
       "3            15          1          15  40.756320 -73.983807      42   \n",
       "4            29          1          29  40.706195 -74.012400      54   \n",
       "\n",
       "   competitors    rating  review_count     price        rent  \\\n",
       "0            1  3.450000    216.700000  1.900000   89.332939   \n",
       "1            2  3.750000    247.625000  2.250000  114.987197   \n",
       "2            3  3.571429     19.857143  1.000000   29.443333   \n",
       "3            3  3.444444    220.111111  1.555556   80.461588   \n",
       "4            2  3.100000     80.300000  1.500000   71.373877   \n",
       "\n",
       "   half-mile_sub_count  unsupervised_score  comp_bin   n_rent  \n",
       "0                   22            0.002198       1.0   75-100  \n",
       "1                   43            0.003781       1.0  100-125  \n",
       "2                   20            0.001732       1.0    25-50  \n",
       "3                   98            0.002229       1.0   75-100  \n",
       "4                   79            0.002117       1.0    50-75  "
      ]
     },
     "execution_count": 336,
     "metadata": {},
     "output_type": "execute_result"
    }
   ],
   "source": [
    "df_old_m.head()"
   ]
  },
  {
   "cell_type": "code",
   "execution_count": 337,
   "metadata": {
    "collapsed": true
   },
   "outputs": [],
   "source": [
    "a = df_old_m"
   ]
  },
  {
   "cell_type": "code",
   "execution_count": 339,
   "metadata": {
    "collapsed": true
   },
   "outputs": [],
   "source": [
    "a = a.loc[a['neighborhood'] !=90,]"
   ]
  },
  {
   "cell_type": "code",
   "execution_count": 343,
   "metadata": {
    "collapsed": false
   },
   "outputs": [
    {
     "data": {
      "text/plain": [
       "<matplotlib.text.Text at 0x15fb1780>"
      ]
     },
     "execution_count": 343,
     "metadata": {},
     "output_type": "execute_result"
    },
    {
     "data": {
      "image/png": "[encoded data removed]",
      "text/plain": [
       "<matplotlib.figure.Figure at 0x159a4a90>"
      ]
     },
     "metadata": {},
     "output_type": "display_data"
    }
   ],
   "source": [
    "plt.scatter(a['half-mile_sub_count'], a['rating'])\n",
    "plt.xlabel('No. of subways within 0.5 miles')\n",
    "plt.ylabel('Competitors')"
   ]
  },
  {
   "cell_type": "code",
   "execution_count": null,
   "metadata": {
    "collapsed": true
   },
   "outputs": [],
   "source": []
  },
  {
   "cell_type": "code",
   "execution_count": null,
   "metadata": {
    "collapsed": true
   },
   "outputs": [],
   "source": []
  },
  {
   "cell_type": "code",
   "execution_count": null,
   "metadata": {
    "collapsed": true
   },
   "outputs": [],
   "source": []
  },
  {
   "cell_type": "code",
   "execution_count": 322,
   "metadata": {
    "collapsed": true
   },
   "outputs": [],
   "source": [
    "g = df_old_m"
   ]
  },
  {
   "cell_type": "code",
   "execution_count": 323,
   "metadata": {
    "collapsed": false
   },
   "outputs": [
    {
     "data": {
      "text/plain": [
       "(47, 15)"
      ]
     },
     "execution_count": 323,
     "metadata": {},
     "output_type": "execute_result"
    }
   ],
   "source": [
    "g.shape"
   ]
  },
  {
   "cell_type": "code",
   "execution_count": 324,
   "metadata": {
    "collapsed": true
   },
   "outputs": [],
   "source": [
    "g = g[['neighborhood','competitors','rating','review_count','rent','unsupervised_score','half-mile_sub_count']]"
   ]
  },
  {
   "cell_type": "code",
   "execution_count": 325,
   "metadata": {
    "collapsed": false
   },
   "outputs": [],
   "source": [
    "g= g.set_index('neighborhood')"
   ]
  },
  {
   "cell_type": "code",
   "execution_count": 326,
   "metadata": {
    "collapsed": false
   },
   "outputs": [
    {
     "data": {
      "text/plain": [
       "array(['competitors', 'rating', 'review_count', 'rent',\n",
       "       'unsupervised_score', 'half-mile_sub_count'], dtype=object)"
      ]
     },
     "execution_count": 326,
     "metadata": {},
     "output_type": "execute_result"
    }
   ],
   "source": [
    "g.columns.values"
   ]
  },
  {
   "cell_type": "code",
   "execution_count": 327,
   "metadata": {
    "collapsed": true
   },
   "outputs": [],
   "source": [
    "for i in g.columns.values:\n",
    "    g[i+'_norm'] = g[i]/sum(g[i])"
   ]
  },
  {
   "cell_type": "code",
   "execution_count": 330,
   "metadata": {
    "collapsed": true
   },
   "outputs": [],
   "source": [
    "l = ['competitors','rating','review_count','rent','unsupervised_score','half-mile_sub_count']\n",
    "ll = []\n",
    "for i in l:\n",
    "    ll.append(i+'_norm')\n",
    "    "
   ]
  },
  {
   "cell_type": "code",
   "execution_count": 331,
   "metadata": {
    "collapsed": false
   },
   "outputs": [],
   "source": [
    "o = g[ll]"
   ]
  },
  {
   "cell_type": "code",
   "execution_count": 332,
   "metadata": {
    "collapsed": false
   },
   "outputs": [
    {
     "data": {
      "text/plain": [
       "<matplotlib.axes._subplots.AxesSubplot at 0x1572f8d0>"
      ]
     },
     "execution_count": 332,
     "metadata": {},
     "output_type": "execute_result"
    },
    {
     "data": {
      "image/png": "[encoded data removed]",
      "text/plain": [
       "<matplotlib.figure.Figure at 0x1575b6d8>"
      ]
     },
     "metadata": {},
     "output_type": "display_data"
    }
   ],
   "source": [
    "sns.heatmap(o)"
   ]
  },
  {
   "cell_type": "code",
   "execution_count": 335,
   "metadata": {
    "collapsed": false
   },
   "outputs": [
    {
     "ename": "KeyError",
     "evalue": "0",
     "output_type": "error",
     "traceback": [
      "\u001b[0;31m---------------------------------------------------------------------------\u001b[0m",
      "\u001b[0;31mKeyError\u001b[0m                                  Traceback (most recent call last)",
      "\u001b[0;32mC:\\ProgramData\\Anaconda3\\lib\\site-packages\\pandas\\indexes\\base.py\u001b[0m in \u001b[0;36mget_loc\u001b[0;34m(self, key, method, tolerance)\u001b[0m\n\u001b[1;32m   2133\u001b[0m             \u001b[1;32mtry\u001b[0m\u001b[1;33m:\u001b[0m\u001b[1;33m\u001b[0m\u001b[0m\n\u001b[0;32m-> 2134\u001b[0;31m                 \u001b[1;32mreturn\u001b[0m \u001b[0mself\u001b[0m\u001b[1;33m.\u001b[0m\u001b[0m_engine\u001b[0m\u001b[1;33m.\u001b[0m\u001b[0mget_loc\u001b[0m\u001b[1;33m(\u001b[0m\u001b[0mkey\u001b[0m\u001b[1;33m)\u001b[0m\u001b[1;33m\u001b[0m\u001b[0m\n\u001b[0m\u001b[1;32m   2135\u001b[0m             \u001b[1;32mexcept\u001b[0m \u001b[0mKeyError\u001b[0m\u001b[1;33m:\u001b[0m\u001b[1;33m\u001b[0m\u001b[0m\n",
      "\u001b[0;32mpandas\\index.pyx\u001b[0m in \u001b[0;36mpandas.index.IndexEngine.get_loc (pandas\\index.c:4433)\u001b[0;34m()\u001b[0m\n",
      "\u001b[0;32mpandas\\index.pyx\u001b[0m in \u001b[0;36mpandas.index.IndexEngine.get_loc (pandas\\index.c:4279)\u001b[0;34m()\u001b[0m\n",
      "\u001b[0;32mpandas\\src\\hashtable_class_helper.pxi\u001b[0m in \u001b[0;36mpandas.hashtable.PyObjectHashTable.get_item (pandas\\hashtable.c:13742)\u001b[0;34m()\u001b[0m\n",
      "\u001b[0;32mpandas\\src\\hashtable_class_helper.pxi\u001b[0m in \u001b[0;36mpandas.hashtable.PyObjectHashTable.get_item (pandas\\hashtable.c:13696)\u001b[0;34m()\u001b[0m\n",
      "\u001b[0;31mKeyError\u001b[0m: 0",
      "\nDuring handling of the above exception, another exception occurred:\n",
      "\u001b[0;31mKeyError\u001b[0m                                  Traceback (most recent call last)",
      "\u001b[0;32m<ipython-input-335-a8ba5ff79e57>\u001b[0m in \u001b[0;36m<module>\u001b[0;34m()\u001b[0m\n\u001b[1;32m      6\u001b[0m         \u001b[0max\u001b[0m\u001b[1;33m.\u001b[0m\u001b[0mset_visible\u001b[0m\u001b[1;33m(\u001b[0m\u001b[1;32mFalse\u001b[0m\u001b[1;33m)\u001b[0m\u001b[1;33m\u001b[0m\u001b[0m\n\u001b[1;32m      7\u001b[0m         \u001b[1;32mcontinue\u001b[0m\u001b[1;33m\u001b[0m\u001b[0m\n\u001b[0;32m----> 8\u001b[0;31m     \u001b[0mx\u001b[0m\u001b[1;33m,\u001b[0m \u001b[0mlambda_x\u001b[0m \u001b[1;33m=\u001b[0m \u001b[0mstats\u001b[0m\u001b[1;33m.\u001b[0m\u001b[0mboxcox\u001b[0m\u001b[1;33m(\u001b[0m\u001b[0mo\u001b[0m\u001b[1;33m[\u001b[0m\u001b[0mi\u001b[0m\u001b[1;33m]\u001b[0m \u001b[1;33m+\u001b[0m \u001b[1;36m1e-5\u001b[0m\u001b[1;33m)\u001b[0m\u001b[1;33m\u001b[0m\u001b[0m\n\u001b[0m\u001b[1;32m      9\u001b[0m     \u001b[0mX_bc\u001b[0m\u001b[1;33m.\u001b[0m\u001b[0mappend\u001b[0m\u001b[1;33m(\u001b[0m\u001b[0mx\u001b[0m\u001b[1;33m)\u001b[0m\u001b[1;33m\u001b[0m\u001b[0m\n\u001b[1;32m     10\u001b[0m     \u001b[0max\u001b[0m\u001b[1;33m.\u001b[0m\u001b[0mhist\u001b[0m\u001b[1;33m(\u001b[0m\u001b[0mx\u001b[0m\u001b[1;33m,\u001b[0m \u001b[0mbins\u001b[0m\u001b[1;33m=\u001b[0m\u001b[1;34m\"auto\"\u001b[0m\u001b[1;33m)\u001b[0m\u001b[1;33m\u001b[0m\u001b[0m\n",
      "\u001b[0;32mC:\\ProgramData\\Anaconda3\\lib\\site-packages\\pandas\\core\\frame.py\u001b[0m in \u001b[0;36m__getitem__\u001b[0;34m(self, key)\u001b[0m\n\u001b[1;32m   2057\u001b[0m             \u001b[1;32mreturn\u001b[0m \u001b[0mself\u001b[0m\u001b[1;33m.\u001b[0m\u001b[0m_getitem_multilevel\u001b[0m\u001b[1;33m(\u001b[0m\u001b[0mkey\u001b[0m\u001b[1;33m)\u001b[0m\u001b[1;33m\u001b[0m\u001b[0m\n\u001b[1;32m   2058\u001b[0m         \u001b[1;32melse\u001b[0m\u001b[1;33m:\u001b[0m\u001b[1;33m\u001b[0m\u001b[0m\n\u001b[0;32m-> 2059\u001b[0;31m             \u001b[1;32mreturn\u001b[0m \u001b[0mself\u001b[0m\u001b[1;33m.\u001b[0m\u001b[0m_getitem_column\u001b[0m\u001b[1;33m(\u001b[0m\u001b[0mkey\u001b[0m\u001b[1;33m)\u001b[0m\u001b[1;33m\u001b[0m\u001b[0m\n\u001b[0m\u001b[1;32m   2060\u001b[0m \u001b[1;33m\u001b[0m\u001b[0m\n\u001b[1;32m   2061\u001b[0m     \u001b[1;32mdef\u001b[0m \u001b[0m_getitem_column\u001b[0m\u001b[1;33m(\u001b[0m\u001b[0mself\u001b[0m\u001b[1;33m,\u001b[0m \u001b[0mkey\u001b[0m\u001b[1;33m)\u001b[0m\u001b[1;33m:\u001b[0m\u001b[1;33m\u001b[0m\u001b[0m\n",
      "\u001b[0;32mC:\\ProgramData\\Anaconda3\\lib\\site-packages\\pandas\\core\\frame.py\u001b[0m in \u001b[0;36m_getitem_column\u001b[0;34m(self, key)\u001b[0m\n\u001b[1;32m   2064\u001b[0m         \u001b[1;31m# get column\u001b[0m\u001b[1;33m\u001b[0m\u001b[1;33m\u001b[0m\u001b[0m\n\u001b[1;32m   2065\u001b[0m         \u001b[1;32mif\u001b[0m \u001b[0mself\u001b[0m\u001b[1;33m.\u001b[0m\u001b[0mcolumns\u001b[0m\u001b[1;33m.\u001b[0m\u001b[0mis_unique\u001b[0m\u001b[1;33m:\u001b[0m\u001b[1;33m\u001b[0m\u001b[0m\n\u001b[0;32m-> 2066\u001b[0;31m             \u001b[1;32mreturn\u001b[0m \u001b[0mself\u001b[0m\u001b[1;33m.\u001b[0m\u001b[0m_get_item_cache\u001b[0m\u001b[1;33m(\u001b[0m\u001b[0mkey\u001b[0m\u001b[1;33m)\u001b[0m\u001b[1;33m\u001b[0m\u001b[0m\n\u001b[0m\u001b[1;32m   2067\u001b[0m \u001b[1;33m\u001b[0m\u001b[0m\n\u001b[1;32m   2068\u001b[0m         \u001b[1;31m# duplicate columns & possible reduce dimensionality\u001b[0m\u001b[1;33m\u001b[0m\u001b[1;33m\u001b[0m\u001b[0m\n",
      "\u001b[0;32mC:\\ProgramData\\Anaconda3\\lib\\site-packages\\pandas\\core\\generic.py\u001b[0m in \u001b[0;36m_get_item_cache\u001b[0;34m(self, item)\u001b[0m\n\u001b[1;32m   1384\u001b[0m         \u001b[0mres\u001b[0m \u001b[1;33m=\u001b[0m \u001b[0mcache\u001b[0m\u001b[1;33m.\u001b[0m\u001b[0mget\u001b[0m\u001b[1;33m(\u001b[0m\u001b[0mitem\u001b[0m\u001b[1;33m)\u001b[0m\u001b[1;33m\u001b[0m\u001b[0m\n\u001b[1;32m   1385\u001b[0m         \u001b[1;32mif\u001b[0m \u001b[0mres\u001b[0m \u001b[1;32mis\u001b[0m \u001b[1;32mNone\u001b[0m\u001b[1;33m:\u001b[0m\u001b[1;33m\u001b[0m\u001b[0m\n\u001b[0;32m-> 1386\u001b[0;31m             \u001b[0mvalues\u001b[0m \u001b[1;33m=\u001b[0m \u001b[0mself\u001b[0m\u001b[1;33m.\u001b[0m\u001b[0m_data\u001b[0m\u001b[1;33m.\u001b[0m\u001b[0mget\u001b[0m\u001b[1;33m(\u001b[0m\u001b[0mitem\u001b[0m\u001b[1;33m)\u001b[0m\u001b[1;33m\u001b[0m\u001b[0m\n\u001b[0m\u001b[1;32m   1387\u001b[0m             \u001b[0mres\u001b[0m \u001b[1;33m=\u001b[0m \u001b[0mself\u001b[0m\u001b[1;33m.\u001b[0m\u001b[0m_box_item_values\u001b[0m\u001b[1;33m(\u001b[0m\u001b[0mitem\u001b[0m\u001b[1;33m,\u001b[0m \u001b[0mvalues\u001b[0m\u001b[1;33m)\u001b[0m\u001b[1;33m\u001b[0m\u001b[0m\n\u001b[1;32m   1388\u001b[0m             \u001b[0mcache\u001b[0m\u001b[1;33m[\u001b[0m\u001b[0mitem\u001b[0m\u001b[1;33m]\u001b[0m \u001b[1;33m=\u001b[0m \u001b[0mres\u001b[0m\u001b[1;33m\u001b[0m\u001b[0m\n",
      "\u001b[0;32mC:\\ProgramData\\Anaconda3\\lib\\site-packages\\pandas\\core\\internals.py\u001b[0m in \u001b[0;36mget\u001b[0;34m(self, item, fastpath)\u001b[0m\n\u001b[1;32m   3541\u001b[0m \u001b[1;33m\u001b[0m\u001b[0m\n\u001b[1;32m   3542\u001b[0m             \u001b[1;32mif\u001b[0m \u001b[1;32mnot\u001b[0m \u001b[0misnull\u001b[0m\u001b[1;33m(\u001b[0m\u001b[0mitem\u001b[0m\u001b[1;33m)\u001b[0m\u001b[1;33m:\u001b[0m\u001b[1;33m\u001b[0m\u001b[0m\n\u001b[0;32m-> 3543\u001b[0;31m                 \u001b[0mloc\u001b[0m \u001b[1;33m=\u001b[0m \u001b[0mself\u001b[0m\u001b[1;33m.\u001b[0m\u001b[0mitems\u001b[0m\u001b[1;33m.\u001b[0m\u001b[0mget_loc\u001b[0m\u001b[1;33m(\u001b[0m\u001b[0mitem\u001b[0m\u001b[1;33m)\u001b[0m\u001b[1;33m\u001b[0m\u001b[0m\n\u001b[0m\u001b[1;32m   3544\u001b[0m             \u001b[1;32melse\u001b[0m\u001b[1;33m:\u001b[0m\u001b[1;33m\u001b[0m\u001b[0m\n\u001b[1;32m   3545\u001b[0m                 \u001b[0mindexer\u001b[0m \u001b[1;33m=\u001b[0m \u001b[0mnp\u001b[0m\u001b[1;33m.\u001b[0m\u001b[0marange\u001b[0m\u001b[1;33m(\u001b[0m\u001b[0mlen\u001b[0m\u001b[1;33m(\u001b[0m\u001b[0mself\u001b[0m\u001b[1;33m.\u001b[0m\u001b[0mitems\u001b[0m\u001b[1;33m)\u001b[0m\u001b[1;33m)\u001b[0m\u001b[1;33m[\u001b[0m\u001b[0misnull\u001b[0m\u001b[1;33m(\u001b[0m\u001b[0mself\u001b[0m\u001b[1;33m.\u001b[0m\u001b[0mitems\u001b[0m\u001b[1;33m)\u001b[0m\u001b[1;33m]\u001b[0m\u001b[1;33m\u001b[0m\u001b[0m\n",
      "\u001b[0;32mC:\\ProgramData\\Anaconda3\\lib\\site-packages\\pandas\\indexes\\base.py\u001b[0m in \u001b[0;36mget_loc\u001b[0;34m(self, key, method, tolerance)\u001b[0m\n\u001b[1;32m   2134\u001b[0m                 \u001b[1;32mreturn\u001b[0m \u001b[0mself\u001b[0m\u001b[1;33m.\u001b[0m\u001b[0m_engine\u001b[0m\u001b[1;33m.\u001b[0m\u001b[0mget_loc\u001b[0m\u001b[1;33m(\u001b[0m\u001b[0mkey\u001b[0m\u001b[1;33m)\u001b[0m\u001b[1;33m\u001b[0m\u001b[0m\n\u001b[1;32m   2135\u001b[0m             \u001b[1;32mexcept\u001b[0m \u001b[0mKeyError\u001b[0m\u001b[1;33m:\u001b[0m\u001b[1;33m\u001b[0m\u001b[0m\n\u001b[0;32m-> 2136\u001b[0;31m                 \u001b[1;32mreturn\u001b[0m \u001b[0mself\u001b[0m\u001b[1;33m.\u001b[0m\u001b[0m_engine\u001b[0m\u001b[1;33m.\u001b[0m\u001b[0mget_loc\u001b[0m\u001b[1;33m(\u001b[0m\u001b[0mself\u001b[0m\u001b[1;33m.\u001b[0m\u001b[0m_maybe_cast_indexer\u001b[0m\u001b[1;33m(\u001b[0m\u001b[0mkey\u001b[0m\u001b[1;33m)\u001b[0m\u001b[1;33m)\u001b[0m\u001b[1;33m\u001b[0m\u001b[0m\n\u001b[0m\u001b[1;32m   2137\u001b[0m \u001b[1;33m\u001b[0m\u001b[0m\n\u001b[1;32m   2138\u001b[0m         \u001b[0mindexer\u001b[0m \u001b[1;33m=\u001b[0m \u001b[0mself\u001b[0m\u001b[1;33m.\u001b[0m\u001b[0mget_indexer\u001b[0m\u001b[1;33m(\u001b[0m\u001b[1;33m[\u001b[0m\u001b[0mkey\u001b[0m\u001b[1;33m]\u001b[0m\u001b[1;33m,\u001b[0m \u001b[0mmethod\u001b[0m\u001b[1;33m=\u001b[0m\u001b[0mmethod\u001b[0m\u001b[1;33m,\u001b[0m \u001b[0mtolerance\u001b[0m\u001b[1;33m=\u001b[0m\u001b[0mtolerance\u001b[0m\u001b[1;33m)\u001b[0m\u001b[1;33m\u001b[0m\u001b[0m\n",
      "\u001b[0;32mpandas\\index.pyx\u001b[0m in \u001b[0;36mpandas.index.IndexEngine.get_loc (pandas\\index.c:4433)\u001b[0;34m()\u001b[0m\n",
      "\u001b[0;32mpandas\\index.pyx\u001b[0m in \u001b[0;36mpandas.index.IndexEngine.get_loc (pandas\\index.c:4279)\u001b[0;34m()\u001b[0m\n",
      "\u001b[0;32mpandas\\src\\hashtable_class_helper.pxi\u001b[0m in \u001b[0;36mpandas.hashtable.PyObjectHashTable.get_item (pandas\\hashtable.c:13742)\u001b[0;34m()\u001b[0m\n",
      "\u001b[0;32mpandas\\src\\hashtable_class_helper.pxi\u001b[0m in \u001b[0;36mpandas.hashtable.PyObjectHashTable.get_item (pandas\\hashtable.c:13696)\u001b[0;34m()\u001b[0m\n",
      "\u001b[0;31mKeyError\u001b[0m: 0"
     ]
    },
    {
     "data": {
      "image/png": "[encoded data removed]",
      "text/plain": [
       "<matplotlib.figure.Figure at 0x15e6d320>"
      ]
     },
     "metadata": {},
     "output_type": "display_data"
    }
   ],
   "source": [
    "from scipy import stats\n",
    "fig, axes = plt.subplots(3, 2, figsize=(20, 10))\n",
    "X_bc = []\n",
    "for i, ax in enumerate(axes.ravel()):\n",
    "    if i > 6:\n",
    "        ax.set_visible(False)\n",
    "        continue\n",
    "    x, lambda_x = stats.boxcox(o[i] + 1e-5)\n",
    "    X_bc.append(x)\n",
    "    ax.hist(x, bins=\"auto\")\n",
    "    ax.set_title(\"{}: {} {:.2f}\".format(i, boston.feature_names[i], lambda_x))"
   ]
  },
  {
   "cell_type": "code",
   "execution_count": null,
   "metadata": {
    "collapsed": true
   },
   "outputs": [],
   "source": []
  },
  {
   "cell_type": "code",
   "execution_count": null,
   "metadata": {
    "collapsed": true
   },
   "outputs": [],
   "source": []
  },
  {
   "cell_type": "code",
   "execution_count": 344,
   "metadata": {
    "collapsed": true
   },
   "outputs": [],
   "source": [
    "u = pd.read_csv('scoring_df_final.csv')"
   ]
  },
  {
   "cell_type": "code",
   "execution_count": 345,
   "metadata": {
    "collapsed": false
   },
   "outputs": [
    {
     "data": {
      "text/html": [
       "<div>\n",
       "<table border=\"1\" class=\"dataframe\">\n",
       "  <thead>\n",
       "    <tr style=\"text-align: right;\">\n",
       "      <th></th>\n",
       "      <th>Unnamed: 0</th>\n",
       "      <th>neighborhood</th>\n",
       "      <th>lat</th>\n",
       "      <th>lng</th>\n",
       "      <th>Manhattan</th>\n",
       "      <th>competitors</th>\n",
       "      <th>rating</th>\n",
       "      <th>review_count</th>\n",
       "      <th>rent</th>\n",
       "      <th>unsupervised_score</th>\n",
       "      <th>price</th>\n",
       "      <th>half-mile_sub_count</th>\n",
       "    </tr>\n",
       "  </thead>\n",
       "  <tbody>\n",
       "    <tr>\n",
       "      <th>0</th>\n",
       "      <td>0</td>\n",
       "      <td>0</td>\n",
       "      <td>40.765887</td>\n",
       "      <td>-74.165511</td>\n",
       "      <td>0</td>\n",
       "      <td>0.980392</td>\n",
       "      <td>0.000000</td>\n",
       "      <td>0.000000</td>\n",
       "      <td>0.818188</td>\n",
       "      <td>0.063832</td>\n",
       "      <td>1.00</td>\n",
       "      <td>0.000000</td>\n",
       "    </tr>\n",
       "    <tr>\n",
       "      <th>1</th>\n",
       "      <td>1</td>\n",
       "      <td>1</td>\n",
       "      <td>40.662722</td>\n",
       "      <td>-73.908039</td>\n",
       "      <td>0</td>\n",
       "      <td>0.980392</td>\n",
       "      <td>0.000000</td>\n",
       "      <td>0.000000</td>\n",
       "      <td>0.885175</td>\n",
       "      <td>0.262769</td>\n",
       "      <td>1.00</td>\n",
       "      <td>0.091837</td>\n",
       "    </tr>\n",
       "    <tr>\n",
       "      <th>2</th>\n",
       "      <td>2</td>\n",
       "      <td>2</td>\n",
       "      <td>40.774802</td>\n",
       "      <td>-73.959325</td>\n",
       "      <td>1</td>\n",
       "      <td>0.980392</td>\n",
       "      <td>0.766667</td>\n",
       "      <td>0.330335</td>\n",
       "      <td>0.715101</td>\n",
       "      <td>0.033941</td>\n",
       "      <td>0.24</td>\n",
       "      <td>0.224490</td>\n",
       "    </tr>\n",
       "    <tr>\n",
       "      <th>3</th>\n",
       "      <td>3</td>\n",
       "      <td>3</td>\n",
       "      <td>40.785104</td>\n",
       "      <td>-73.794881</td>\n",
       "      <td>0</td>\n",
       "      <td>0.980392</td>\n",
       "      <td>0.000000</td>\n",
       "      <td>0.000000</td>\n",
       "      <td>0.891074</td>\n",
       "      <td>0.048555</td>\n",
       "      <td>1.00</td>\n",
       "      <td>0.000000</td>\n",
       "    </tr>\n",
       "    <tr>\n",
       "      <th>4</th>\n",
       "      <td>4</td>\n",
       "      <td>4</td>\n",
       "      <td>40.936005</td>\n",
       "      <td>-74.063185</td>\n",
       "      <td>0</td>\n",
       "      <td>1.000000</td>\n",
       "      <td>0.000000</td>\n",
       "      <td>0.000000</td>\n",
       "      <td>0.761531</td>\n",
       "      <td>0.024103</td>\n",
       "      <td>1.00</td>\n",
       "      <td>0.000000</td>\n",
       "    </tr>\n",
       "  </tbody>\n",
       "</table>\n",
       "</div>"
      ],
      "text/plain": [
       "   Unnamed: 0  neighborhood        lat        lng  Manhattan  competitors  \\\n",
       "0           0             0  40.765887 -74.165511          0     0.980392   \n",
       "1           1             1  40.662722 -73.908039          0     0.980392   \n",
       "2           2             2  40.774802 -73.959325          1     0.980392   \n",
       "3           3             3  40.785104 -73.794881          0     0.980392   \n",
       "4           4             4  40.936005 -74.063185          0     1.000000   \n",
       "\n",
       "     rating  review_count      rent  unsupervised_score  price  \\\n",
       "0  0.000000      0.000000  0.818188            0.063832   1.00   \n",
       "1  0.000000      0.000000  0.885175            0.262769   1.00   \n",
       "2  0.766667      0.330335  0.715101            0.033941   0.24   \n",
       "3  0.000000      0.000000  0.891074            0.048555   1.00   \n",
       "4  0.000000      0.000000  0.761531            0.024103   1.00   \n",
       "\n",
       "   half-mile_sub_count  \n",
       "0             0.000000  \n",
       "1             0.091837  \n",
       "2             0.224490  \n",
       "3             0.000000  \n",
       "4             0.000000  "
      ]
     },
     "execution_count": 345,
     "metadata": {},
     "output_type": "execute_result"
    }
   ],
   "source": [
    "u.head()"
   ]
  },
  {
   "cell_type": "code",
   "execution_count": 350,
   "metadata": {
    "collapsed": true
   },
   "outputs": [],
   "source": [
    "u = u.loc[u['neighborhood'] != 90,]\n",
    "u = u.loc[u['competitors'] != min(u['competitors']),]"
   ]
  },
  {
   "cell_type": "code",
   "execution_count": 352,
   "metadata": {
    "collapsed": false
   },
   "outputs": [
    {
     "data": {
      "image/png": "[encoded data removed]",
      "text/plain": [
       "<matplotlib.figure.Figure at 0x15aa6518>"
      ]
     },
     "metadata": {},
     "output_type": "display_data"
    },
    {
     "data": {
      "image/png": "[encoded data removed]",
      "text/plain": [
       "<matplotlib.figure.Figure at 0x159dbf60>"
      ]
     },
     "metadata": {},
     "output_type": "display_data"
    },
    {
     "data": {
      "image/png": "[encoded data removed]",
      "text/plain": [
       "<matplotlib.figure.Figure at 0x15b11438>"
      ]
     },
     "metadata": {},
     "output_type": "display_data"
    },
    {
     "data": {
      "image/png": "[encoded data removed]",
      "text/plain": [
       "<matplotlib.figure.Figure at 0x15a5f9e8>"
      ]
     },
     "metadata": {},
     "output_type": "display_data"
    }
   ],
   "source": [
    "for i in ['rating','review_count','rent','half-mile_sub_count']:\n",
    "\n",
    "    plt.figure()\n",
    "    plt.scatter(u['competitors'], u[i])\n",
    "    plt.xlabel('Competitor score')\n",
    "    plt.ylabel(i + ' score')"
   ]
  },
  {
   "cell_type": "code",
   "execution_count": null,
   "metadata": {
    "collapsed": true
   },
   "outputs": [],
   "source": []
  }
 ],
 "metadata": {
  "kernelspec": {
   "display_name": "Python 3",
   "language": "python",
   "name": "python3"
  },
  "language_info": {
   "codemirror_mode": {
    "name": "ipython",
    "version": 3
   },
   "file_extension": ".py",
   "mimetype": "text/x-python",
   "name": "python",
   "nbconvert_exporter": "python",
   "pygments_lexer": "ipython3",
   "version": "3.6.0"
  }
 },
 "nbformat": 4,
 "nbformat_minor": 2
}
